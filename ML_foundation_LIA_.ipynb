{
  "nbformat": 4,
  "nbformat_minor": 0,
  "metadata": {
    "colab": {
      "name": "ML foundation LIA .ipynb",
      "provenance": [],
      "collapsed_sections": [],
      "mount_file_id": "19_KMZYnEKn7wRjJ5loa0M3zD6xZHZ6xk",
      "authorship_tag": "ABX9TyMKld8MdGSteJUqD/BRtfVm",
      "include_colab_link": true
    },
    "kernelspec": {
      "name": "python3",
      "display_name": "Python 3"
    },
    "language_info": {
      "name": "python"
    }
  },
  "cells": [
    {
      "cell_type": "markdown",
      "metadata": {
        "id": "view-in-github",
        "colab_type": "text"
      },
      "source": [
        "<a href=\"https://colab.research.google.com/github/yogee2406/Breast-cancer-ML_Yogeeta.ipynb/blob/main/ML_foundation_LIA_.ipynb\" target=\"_parent\"><img src=\"https://colab.research.google.com/assets/colab-badge.svg\" alt=\"Open In Colab\"/></a>"
      ]
    },
    {
      "cell_type": "markdown",
      "source": [
        "**Levin Insurance Agency**"
      ],
      "metadata": {
        "id": "0O7KQBPDIBZs"
      }
    },
    {
      "cell_type": "markdown",
      "source": [
        "## Company Introduction\n",
        "\n",
        "Our client for this project is a Financial services company.\n",
        "\n",
        "LIA is a leading General Insurance Company.\n",
        "\n",
        "LIA has introduced over 200 types of insurance including for life, health, and accidents\n",
        "\n",
        "The company currently operates in 15 countries, including 10 in Asia. Its customer base has grown from two million in 2008 to more than 40 million today, and date, it has paid more than $20 million in claims.\n",
        "\n",
        "LIA wishes to cross-sell health insurance to existing customers who may or may not hold insurance policies with the company.\n",
        "\n",
        "The company recommends health insurance to its customers based on their profile once these customers land on the website."
      ],
      "metadata": {
        "id": "JjoY1NfPINBz"
      }
    },
    {
      "cell_type": "markdown",
      "source": [
        "# Current Scenario\n",
        "\n",
        "Customers might browse the recommended health insurance policy and consequently fill up a form to apply.\n",
        "\n",
        "When these customers fill up the form, their Response towards the policy is considered positive and they are classified as a lead.\n",
        "\n",
        "Once these leads are acquired, the sales advisors approach them to convert and thus the company can sell proposed health insurance to these leads in a more efficient manner.\n",
        "\n",
        "The company wants to build an ML model to predict whether the person will be interested in their proposed Health policy with the help of given user information.\n",
        "\n",
        "Currently, the company recommends health policies to their customers manually based on their previous policies and profile."
      ],
      "metadata": {
        "id": "VV8V4JR5IXhL"
      }
    },
    {
      "cell_type": "markdown",
      "source": [
        "**Problem Statement**\n",
        "\n",
        "The current process suffers from the following problems:\n",
        "\n",
        "The current process is a manual prediction of whether customers will be interested in recommended policy. This is very tedious and time-consuming as it needs to be repeated every time a new customer we contact.\n",
        "\n",
        "The company has hired you as a data science consultant.\n",
        "\n",
        "They want to automate the process of predicting whether the customer is interested in recommended policy or not using the information provided by the customer.\n",
        "\n",
        "# Our Role\n",
        "\n",
        "You are given a dataset consisting of information of customers like their city, age, region, marital status, holding policy type and duration.\n",
        "Your task is to build a classification model using the dataset.\n",
        "Because there was no machine learning model for this problem in the company, you don’t have a quantifiable win condition. You need to build the best possible model.\n",
        "\n",
        "# Project Deliverables\n",
        "\n",
        "Deliverable: Health Insurance Lead Prediction.\n",
        "Machine Learning Task: Classification\n",
        "Target Variable: Response\n",
        "Win Condition: N/A (best possible model)\n",
        "\n",
        "# Evaluation Metric\n",
        "The model evaluation will be based on the F1 Score score."
      ],
      "metadata": {
        "id": "jA9acNHmIsDF"
      }
    },
    {
      "cell_type": "markdown",
      "source": [
        "**Data Description:**\n",
        "\n",
        "This database was created to identify whether a customer will be interested in recommended policy based on user provided data.\n",
        "\n",
        "The column response is also present in the dataset which has two values 1 and 0.\n",
        "\n",
        "This is the data that we have to predict for future samples.\n",
        "\n",
        "\n",
        "The dataset is divided into two parts: Train, and Test sets.\n",
        "\n",
        "Train Set:\n",
        "The train set contains 38000 rows and 14 columns.\n",
        "The last column response is the target variable.\n",
        "\n",
        "Test Set:\n",
        "The test set contains 12882 rows and 13 columns.\n",
        "The test set doesn’t contain the Response column.\n",
        "It needs to be predicted for the test set."
      ],
      "metadata": {
        "id": "6a2-97KqJKjT"
      }
    },
    {
      "cell_type": "markdown",
      "source": [
        "**Health Insurance Lead** **Prediction**\n",
        "\n"
      ],
      "metadata": {
        "id": "kW8ecg41aRc2"
      }
    },
    {
      "cell_type": "code",
      "execution_count": null,
      "metadata": {
        "id": "c_8mLMxAZ7U5"
      },
      "outputs": [],
      "source": [
        "import pandas as pd\n",
        "import matplotlib.pyplot as plt\n",
        "import seaborn as sns\n",
        "import numpy as np\n",
        "pd.set_option('display.max_columns',50)"
      ]
    },
    {
      "cell_type": "code",
      "source": [
        "from sklearn import preprocessing\n",
        "import warnings\n",
        "warnings.filterwarnings('ignore')"
      ],
      "metadata": {
        "id": "nOWt0LPZa5Ps"
      },
      "execution_count": null,
      "outputs": []
    },
    {
      "cell_type": "code",
      "source": [
        "traindf = pd.read_csv('/content/drive/MyDrive/LIA/train_data.csv')\n",
        "testdf = pd.read_csv('/content/drive/MyDrive/LIA/test_data.csv')"
      ],
      "metadata": {
        "id": "zgJyLp7fdI29"
      },
      "execution_count": null,
      "outputs": []
    },
    {
      "cell_type": "code",
      "source": [
        "print(traindf.shape)\n",
        "traindf.head(5)"
      ],
      "metadata": {
        "colab": {
          "base_uri": "https://localhost:8080/",
          "height": 305
        },
        "id": "zXedcKffdh3K",
        "outputId": "3992152f-35e2-450b-ce60-f582acf61916"
      },
      "execution_count": null,
      "outputs": [
        {
          "output_type": "stream",
          "name": "stdout",
          "text": [
            "(38000, 14)\n"
          ]
        },
        {
          "output_type": "execute_result",
          "data": {
            "text/plain": [
              "   ID City_Code  Region_Code Accomodation_Type Reco_Insurance_Type  Upper_Age  \\\n",
              "0   1        C3         3213            Rented          Individual         36   \n",
              "1   2        C5         1117             Owned               Joint         75   \n",
              "2   3        C5         3732             Owned          Individual         32   \n",
              "3   4       C24         4378             Owned               Joint         52   \n",
              "4   5        C8         2190            Rented          Individual         44   \n",
              "\n",
              "   Lower_Age Is_Spouse Health Indicator Holding_Policy_Duration  \\\n",
              "0         36        No               X1                     14+   \n",
              "1         22        No               X2                     NaN   \n",
              "2         32        No              NaN                       1   \n",
              "3         48        No               X1                     14+   \n",
              "4         44        No               X2                       3   \n",
              "\n",
              "   Holding_Policy_Type  Reco_Policy_Cat  Reco_Policy_Premium  Response  \n",
              "0                  3.0               22              11628.0         0  \n",
              "1                  NaN               22              30510.0         0  \n",
              "2                  1.0               19               7450.0         1  \n",
              "3                  3.0               19              17780.0         0  \n",
              "4                  1.0               16              10404.0         0  "
            ],
            "text/html": [
              "\n",
              "  <div id=\"df-37fe255e-4039-42d3-adc6-d22c29fa750b\">\n",
              "    <div class=\"colab-df-container\">\n",
              "      <div>\n",
              "<style scoped>\n",
              "    .dataframe tbody tr th:only-of-type {\n",
              "        vertical-align: middle;\n",
              "    }\n",
              "\n",
              "    .dataframe tbody tr th {\n",
              "        vertical-align: top;\n",
              "    }\n",
              "\n",
              "    .dataframe thead th {\n",
              "        text-align: right;\n",
              "    }\n",
              "</style>\n",
              "<table border=\"1\" class=\"dataframe\">\n",
              "  <thead>\n",
              "    <tr style=\"text-align: right;\">\n",
              "      <th></th>\n",
              "      <th>ID</th>\n",
              "      <th>City_Code</th>\n",
              "      <th>Region_Code</th>\n",
              "      <th>Accomodation_Type</th>\n",
              "      <th>Reco_Insurance_Type</th>\n",
              "      <th>Upper_Age</th>\n",
              "      <th>Lower_Age</th>\n",
              "      <th>Is_Spouse</th>\n",
              "      <th>Health Indicator</th>\n",
              "      <th>Holding_Policy_Duration</th>\n",
              "      <th>Holding_Policy_Type</th>\n",
              "      <th>Reco_Policy_Cat</th>\n",
              "      <th>Reco_Policy_Premium</th>\n",
              "      <th>Response</th>\n",
              "    </tr>\n",
              "  </thead>\n",
              "  <tbody>\n",
              "    <tr>\n",
              "      <th>0</th>\n",
              "      <td>1</td>\n",
              "      <td>C3</td>\n",
              "      <td>3213</td>\n",
              "      <td>Rented</td>\n",
              "      <td>Individual</td>\n",
              "      <td>36</td>\n",
              "      <td>36</td>\n",
              "      <td>No</td>\n",
              "      <td>X1</td>\n",
              "      <td>14+</td>\n",
              "      <td>3.0</td>\n",
              "      <td>22</td>\n",
              "      <td>11628.0</td>\n",
              "      <td>0</td>\n",
              "    </tr>\n",
              "    <tr>\n",
              "      <th>1</th>\n",
              "      <td>2</td>\n",
              "      <td>C5</td>\n",
              "      <td>1117</td>\n",
              "      <td>Owned</td>\n",
              "      <td>Joint</td>\n",
              "      <td>75</td>\n",
              "      <td>22</td>\n",
              "      <td>No</td>\n",
              "      <td>X2</td>\n",
              "      <td>NaN</td>\n",
              "      <td>NaN</td>\n",
              "      <td>22</td>\n",
              "      <td>30510.0</td>\n",
              "      <td>0</td>\n",
              "    </tr>\n",
              "    <tr>\n",
              "      <th>2</th>\n",
              "      <td>3</td>\n",
              "      <td>C5</td>\n",
              "      <td>3732</td>\n",
              "      <td>Owned</td>\n",
              "      <td>Individual</td>\n",
              "      <td>32</td>\n",
              "      <td>32</td>\n",
              "      <td>No</td>\n",
              "      <td>NaN</td>\n",
              "      <td>1</td>\n",
              "      <td>1.0</td>\n",
              "      <td>19</td>\n",
              "      <td>7450.0</td>\n",
              "      <td>1</td>\n",
              "    </tr>\n",
              "    <tr>\n",
              "      <th>3</th>\n",
              "      <td>4</td>\n",
              "      <td>C24</td>\n",
              "      <td>4378</td>\n",
              "      <td>Owned</td>\n",
              "      <td>Joint</td>\n",
              "      <td>52</td>\n",
              "      <td>48</td>\n",
              "      <td>No</td>\n",
              "      <td>X1</td>\n",
              "      <td>14+</td>\n",
              "      <td>3.0</td>\n",
              "      <td>19</td>\n",
              "      <td>17780.0</td>\n",
              "      <td>0</td>\n",
              "    </tr>\n",
              "    <tr>\n",
              "      <th>4</th>\n",
              "      <td>5</td>\n",
              "      <td>C8</td>\n",
              "      <td>2190</td>\n",
              "      <td>Rented</td>\n",
              "      <td>Individual</td>\n",
              "      <td>44</td>\n",
              "      <td>44</td>\n",
              "      <td>No</td>\n",
              "      <td>X2</td>\n",
              "      <td>3</td>\n",
              "      <td>1.0</td>\n",
              "      <td>16</td>\n",
              "      <td>10404.0</td>\n",
              "      <td>0</td>\n",
              "    </tr>\n",
              "  </tbody>\n",
              "</table>\n",
              "</div>\n",
              "      <button class=\"colab-df-convert\" onclick=\"convertToInteractive('df-37fe255e-4039-42d3-adc6-d22c29fa750b')\"\n",
              "              title=\"Convert this dataframe to an interactive table.\"\n",
              "              style=\"display:none;\">\n",
              "        \n",
              "  <svg xmlns=\"http://www.w3.org/2000/svg\" height=\"24px\"viewBox=\"0 0 24 24\"\n",
              "       width=\"24px\">\n",
              "    <path d=\"M0 0h24v24H0V0z\" fill=\"none\"/>\n",
              "    <path d=\"M18.56 5.44l.94 2.06.94-2.06 2.06-.94-2.06-.94-.94-2.06-.94 2.06-2.06.94zm-11 1L8.5 8.5l.94-2.06 2.06-.94-2.06-.94L8.5 2.5l-.94 2.06-2.06.94zm10 10l.94 2.06.94-2.06 2.06-.94-2.06-.94-.94-2.06-.94 2.06-2.06.94z\"/><path d=\"M17.41 7.96l-1.37-1.37c-.4-.4-.92-.59-1.43-.59-.52 0-1.04.2-1.43.59L10.3 9.45l-7.72 7.72c-.78.78-.78 2.05 0 2.83L4 21.41c.39.39.9.59 1.41.59.51 0 1.02-.2 1.41-.59l7.78-7.78 2.81-2.81c.8-.78.8-2.07 0-2.86zM5.41 20L4 18.59l7.72-7.72 1.47 1.35L5.41 20z\"/>\n",
              "  </svg>\n",
              "      </button>\n",
              "      \n",
              "  <style>\n",
              "    .colab-df-container {\n",
              "      display:flex;\n",
              "      flex-wrap:wrap;\n",
              "      gap: 12px;\n",
              "    }\n",
              "\n",
              "    .colab-df-convert {\n",
              "      background-color: #E8F0FE;\n",
              "      border: none;\n",
              "      border-radius: 50%;\n",
              "      cursor: pointer;\n",
              "      display: none;\n",
              "      fill: #1967D2;\n",
              "      height: 32px;\n",
              "      padding: 0 0 0 0;\n",
              "      width: 32px;\n",
              "    }\n",
              "\n",
              "    .colab-df-convert:hover {\n",
              "      background-color: #E2EBFA;\n",
              "      box-shadow: 0px 1px 2px rgba(60, 64, 67, 0.3), 0px 1px 3px 1px rgba(60, 64, 67, 0.15);\n",
              "      fill: #174EA6;\n",
              "    }\n",
              "\n",
              "    [theme=dark] .colab-df-convert {\n",
              "      background-color: #3B4455;\n",
              "      fill: #D2E3FC;\n",
              "    }\n",
              "\n",
              "    [theme=dark] .colab-df-convert:hover {\n",
              "      background-color: #434B5C;\n",
              "      box-shadow: 0px 1px 3px 1px rgba(0, 0, 0, 0.15);\n",
              "      filter: drop-shadow(0px 1px 2px rgba(0, 0, 0, 0.3));\n",
              "      fill: #FFFFFF;\n",
              "    }\n",
              "  </style>\n",
              "\n",
              "      <script>\n",
              "        const buttonEl =\n",
              "          document.querySelector('#df-37fe255e-4039-42d3-adc6-d22c29fa750b button.colab-df-convert');\n",
              "        buttonEl.style.display =\n",
              "          google.colab.kernel.accessAllowed ? 'block' : 'none';\n",
              "\n",
              "        async function convertToInteractive(key) {\n",
              "          const element = document.querySelector('#df-37fe255e-4039-42d3-adc6-d22c29fa750b');\n",
              "          const dataTable =\n",
              "            await google.colab.kernel.invokeFunction('convertToInteractive',\n",
              "                                                     [key], {});\n",
              "          if (!dataTable) return;\n",
              "\n",
              "          const docLinkHtml = 'Like what you see? Visit the ' +\n",
              "            '<a target=\"_blank\" href=https://colab.research.google.com/notebooks/data_table.ipynb>data table notebook</a>'\n",
              "            + ' to learn more about interactive tables.';\n",
              "          element.innerHTML = '';\n",
              "          dataTable['output_type'] = 'display_data';\n",
              "          await google.colab.output.renderOutput(dataTable, element);\n",
              "          const docLink = document.createElement('div');\n",
              "          docLink.innerHTML = docLinkHtml;\n",
              "          element.appendChild(docLink);\n",
              "        }\n",
              "      </script>\n",
              "    </div>\n",
              "  </div>\n",
              "  "
            ]
          },
          "metadata": {},
          "execution_count": 4
        }
      ]
    },
    {
      "cell_type": "markdown",
      "source": [
        "**Data Cleaning | Scrub**"
      ],
      "metadata": {
        "id": "418v_BvNdtos"
      }
    },
    {
      "cell_type": "markdown",
      "source": [
        "**Null Values**"
      ],
      "metadata": {
        "id": "XllKQATkdxwL"
      }
    },
    {
      "cell_type": "code",
      "source": [
        "traindf.isnull().sum()"
      ],
      "metadata": {
        "colab": {
          "base_uri": "https://localhost:8080/"
        },
        "id": "WB-EVBIud1V-",
        "outputId": "1b29a9b6-1805-4316-cf58-7609a613cc2b"
      },
      "execution_count": null,
      "outputs": [
        {
          "output_type": "execute_result",
          "data": {
            "text/plain": [
              "ID                             0\n",
              "City_Code                      0\n",
              "Region_Code                    0\n",
              "Accomodation_Type              0\n",
              "Reco_Insurance_Type            0\n",
              "Upper_Age                      0\n",
              "Lower_Age                      0\n",
              "Is_Spouse                      0\n",
              "Health Indicator            8720\n",
              "Holding_Policy_Duration    15081\n",
              "Holding_Policy_Type        15081\n",
              "Reco_Policy_Cat                0\n",
              "Reco_Policy_Premium            0\n",
              "Response                       0\n",
              "dtype: int64"
            ]
          },
          "metadata": {},
          "execution_count": 5
        }
      ]
    },
    {
      "cell_type": "code",
      "source": [
        "nonclients = ['Holding_Policy_Duration','Holding_Policy_Type']\n",
        "for col in nonclients:\n",
        "    traindf[col] = traindf[col].fillna(0)\n",
        "    testdf[col] = testdf[col].fillna(0)"
      ],
      "metadata": {
        "id": "WuNJ1e5BeHfb"
      },
      "execution_count": null,
      "outputs": []
    },
    {
      "cell_type": "code",
      "source": [
        "traindf['Health Indicator'] = traindf['Health Indicator'].fillna(traindf['Health Indicator'].mode()[0])\n",
        "testdf['Health Indicator'] = testdf['Health Indicator'].fillna(testdf['Health Indicator'].mode()[0])"
      ],
      "metadata": {
        "id": "g9YiD26FeWQX"
      },
      "execution_count": null,
      "outputs": []
    },
    {
      "cell_type": "markdown",
      "source": [
        "With many of these prospects not clearly identified as current clients, its safe to assume that null values in the 'Policy Duration' and 'Policy Type' columns are tied to non existing accounts and may be filled with zeros."
      ],
      "metadata": {
        "id": "qGDQqllXetx-"
      }
    },
    {
      "cell_type": "markdown",
      "source": [
        "**Feature Engineering**\n",
        "\n",
        "Convert to numerical: Holding_Policy_Duration\n",
        "\n",
        "Feature engineer long term customers\n",
        "\n",
        "Convert '14+' to '15' / convert to numerical\n",
        "\n",
        "Note: (after **EDA)** Convert to binary | Accomodation_Type, Reco_Insurance_Type, Is_Spouse"
      ],
      "metadata": {
        "id": "nV4UfaVJe1Bm"
      }
    },
    {
      "cell_type": "markdown",
      "source": [
        "**Categorical Features**"
      ],
      "metadata": {
        "id": "8PERZjjnfOdO"
      }
    },
    {
      "cell_type": "code",
      "source": [
        "traindf['Long_Term_Cust'] = traindf['Holding_Policy_Duration'].apply(lambda x: 'Yes' if x == '14+' else 'No')\n",
        "testdf['Long_Term_Cust'] = testdf['Holding_Policy_Duration'].apply(lambda x: 'Yes' if x == '14+' else 'No')\n",
        "\n",
        "traindf['Holding_Policy_Duration'] = traindf['Holding_Policy_Duration'].replace('14+',15).astype(float).astype(int)\n",
        "testdf['Holding_Policy_Duration'] = testdf['Holding_Policy_Duration'].replace('14+',15).astype(float).astype(int)"
      ],
      "metadata": {
        "id": "1cNq7m4nfRjU"
      },
      "execution_count": null,
      "outputs": []
    },
    {
      "cell_type": "markdown",
      "source": [
        "**Renaming Features**"
      ],
      "metadata": {
        "id": "uyMxrBjgfvw7"
      }
    },
    {
      "cell_type": "code",
      "source": [
        "traindf.rename(columns={'Is_Spouse':'Married','Health Indicator':'Health_Indicator'},inplace=True)\n",
        "testdf.rename(columns={'Is_Spouse':'Married','Health Indicator':'Health_Indicator'},inplace=True)\n",
        "\n",
        "traindf['Avg_Age'] = (traindf['Upper_Age'] + traindf['Lower_Age']) / 2\n",
        "testdf['Avg_Age'] = (testdf['Upper_Age'] + testdf['Lower_Age']) / 2"
      ],
      "metadata": {
        "id": "ih3bZ6qZf3gz"
      },
      "execution_count": null,
      "outputs": []
    },
    {
      "cell_type": "markdown",
      "source": [
        "Typically, insurance products are priced and underwritten based on the age of the applicant or applicants. This is especially the case in most health insurance pricing. To reflect this and retain data, an average age feature will be created and the original two features will be dropped."
      ],
      "metadata": {
        "id": "QrZpy-LtgByL"
      }
    },
    {
      "cell_type": "code",
      "source": [
        "# feature engineering\n",
        "traindf['Prim_Prem_Ratio'] = traindf['Reco_Policy_Premium'] / traindf['Upper_Age']\n",
        "testdf['Prim_Prem_Ratio'] = testdf['Reco_Policy_Premium'] / testdf['Upper_Age']"
      ],
      "metadata": {
        "id": "rmHwlI5agIrF"
      },
      "execution_count": null,
      "outputs": []
    },
    {
      "cell_type": "markdown",
      "source": [
        "**Feature Selection**"
      ],
      "metadata": {
        "id": "PDHa0SfugPkT"
      }
    },
    {
      "cell_type": "code",
      "source": [
        "traindf.drop(['ID','Region_Code','Upper_Age','Lower_Age'],axis=1,inplace=True)\n",
        "testdf2 = testdf.copy()\n",
        "testdf.drop(['ID','Region_Code','Upper_Age','Lower_Age'],axis=1,inplace=True)"
      ],
      "metadata": {
        "id": "yR7B2mXhgWrQ"
      },
      "execution_count": null,
      "outputs": []
    },
    {
      "cell_type": "markdown",
      "source": [
        "The unique 'ID' and 'Region Code' columns will be dropped in order to simplify the data. 'Region Code' consists of far too many categorical values which would need to be one hot encoded. The feature is dropped as the data still retains the 'City Code' feature to capture some level of geographical distinction. In addition, the upper and lower age features will be dropped being represented by average age"
      ],
      "metadata": {
        "id": "EpHwCcrWguiE"
      }
    },
    {
      "cell_type": "code",
      "source": [
        "numcols = testdf.select_dtypes('number').columns\n",
        "for col in numcols:\n",
        "    traindf[col] = traindf[col].astype(int)\n",
        "    testdf[col] = testdf[col].astype(int)"
      ],
      "metadata": {
        "id": "HY_ClSuehBCY"
      },
      "execution_count": null,
      "outputs": []
    },
    {
      "cell_type": "code",
      "source": [
        "# copy for final analysis\n",
        "df = traindf.copy()"
      ],
      "metadata": {
        "id": "IhgVwKGPhCts"
      },
      "execution_count": null,
      "outputs": []
    },
    {
      "cell_type": "code",
      "source": [
        "vals = {'Rented':1,'Owned':2,'Individual':1,'Joint':2,'No':0,'Yes':1}\n",
        "cols = ['Accomodation_Type','Reco_Insurance_Type','Married','Long_Term_Cust']\n",
        "\n",
        "for col in cols:\n",
        "    traindf[col] = traindf[col].replace(vals)\n",
        "    testdf[col] = testdf[col].replace(vals)"
      ],
      "metadata": {
        "id": "0lGCeoi-hOGN"
      },
      "execution_count": null,
      "outputs": []
    },
    {
      "cell_type": "markdown",
      "source": [
        "Features 'Accommodation Type', 'Reco Insurance Type', 'Is Spouse' will be converted to binary (0 and 1)."
      ],
      "metadata": {
        "id": "G9sEuKJBhTvU"
      }
    },
    {
      "cell_type": "code",
      "source": [
        "ordinal = ['Holding_Policy_Type','Reco_Policy_Cat']\n",
        "for col in ordinal:\n",
        "    traindf[col] = traindf[col].astype('O')\n",
        "    testdf[col] = testdf[col].astype('O')"
      ],
      "metadata": {
        "id": "d6eMNOFNhZb8"
      },
      "execution_count": null,
      "outputs": []
    },
    {
      "cell_type": "markdown",
      "source": [
        "**Exploratory Data Analysis**"
      ],
      "metadata": {
        "id": "sKxHQkprhiMt"
      }
    },
    {
      "cell_type": "code",
      "source": [
        "corr = traindf.corr() # analyzing correlation\n",
        "fig, ax = plt.subplots(figsize=(12,10))\n",
        "mask = np.triu(np.ones_like(corr, dtype=np.bool))\n",
        "sns.heatmap(corr, mask=mask, square=True, annot=True, cmap='YlGnBu')\n",
        "ax.patch.set_edgecolor('black')  \n",
        "ax.patch.set_linewidth('1')\n",
        "ax.set_title('Correlation & Heat Map', fontsize=15, fontfamily='serif')\n",
        "plt.show()"
      ],
      "metadata": {
        "colab": {
          "base_uri": "https://localhost:8080/",
          "height": 711
        },
        "id": "AhGuEGAahmsM",
        "outputId": "eb37c375-ba91-4dfb-90df-2f4dee0791d4"
      },
      "execution_count": null,
      "outputs": [
        {
          "output_type": "display_data",
          "data": {
            "text/plain": [
              "<Figure size 864x720 with 2 Axes>"
            ],
            "image/png": "[encoded data removed]"
          },
          "metadata": {
            "needs_background": "light"
          }
        }
      ]
    },
    {
      "cell_type": "code",
      "source": [
        "traindf.drop(['Married'],axis=1,inplace=True)\n",
        "testdf.drop(['Married'],axis=1,inplace=True)"
      ],
      "metadata": {
        "id": "_RRyDKMwhx-0"
      },
      "execution_count": null,
      "outputs": []
    },
    {
      "cell_type": "markdown",
      "source": [
        "**Final feature selection due to multicollinearity.**"
      ],
      "metadata": {
        "id": "iuytii_Qh2tt"
      }
    },
    {
      "cell_type": "code",
      "source": [
        "targetdf = df.groupby('Response').mean().head()\n",
        "targetdf.style.background_gradient(cmap='Reds')"
      ],
      "metadata": {
        "colab": {
          "base_uri": "https://localhost:8080/",
          "height": 143
        },
        "id": "fzMR02pgh7pr",
        "outputId": "c4e48adb-6f4d-454f-ad41-40dae01bca14"
      },
      "execution_count": null,
      "outputs": [
        {
          "output_type": "execute_result",
          "data": {
            "text/plain": [
              "<pandas.io.formats.style.Styler at 0x7f2f8caf5f10>"
            ],
            "text/html": [
              "<style type=\"text/css\">\n",
              "#T_d6c80_row0_col0, #T_d6c80_row0_col1, #T_d6c80_row0_col2, #T_d6c80_row0_col3, #T_d6c80_row0_col4, #T_d6c80_row0_col5 {\n",
              "  background-color: #fff5f0;\n",
              "  color: #000000;\n",
              "}\n",
              "#T_d6c80_row1_col0, #T_d6c80_row1_col1, #T_d6c80_row1_col2, #T_d6c80_row1_col3, #T_d6c80_row1_col4, #T_d6c80_row1_col5 {\n",
              "  background-color: #67000d;\n",
              "  color: #f1f1f1;\n",
              "}\n",
              "</style>\n",
              "<table id=\"T_d6c80_\" class=\"dataframe\">\n",
              "  <thead>\n",
              "    <tr>\n",
              "      <th class=\"blank level0\" >&nbsp;</th>\n",
              "      <th class=\"col_heading level0 col0\" >Holding_Policy_Duration</th>\n",
              "      <th class=\"col_heading level0 col1\" >Holding_Policy_Type</th>\n",
              "      <th class=\"col_heading level0 col2\" >Reco_Policy_Cat</th>\n",
              "      <th class=\"col_heading level0 col3\" >Reco_Policy_Premium</th>\n",
              "      <th class=\"col_heading level0 col4\" >Avg_Age</th>\n",
              "      <th class=\"col_heading level0 col5\" >Prim_Prem_Ratio</th>\n",
              "    </tr>\n",
              "    <tr>\n",
              "      <th class=\"index_name level0\" >Response</th>\n",
              "      <th class=\"blank col0\" >&nbsp;</th>\n",
              "      <th class=\"blank col1\" >&nbsp;</th>\n",
              "      <th class=\"blank col2\" >&nbsp;</th>\n",
              "      <th class=\"blank col3\" >&nbsp;</th>\n",
              "      <th class=\"blank col4\" >&nbsp;</th>\n",
              "      <th class=\"blank col5\" >&nbsp;</th>\n",
              "    </tr>\n",
              "  </thead>\n",
              "  <tbody>\n",
              "    <tr>\n",
              "      <th id=\"T_d6c80_level0_row0\" class=\"row_heading level0 row0\" >0</th>\n",
              "      <td id=\"T_d6c80_row0_col0\" class=\"data row0 col0\" >3.677520</td>\n",
              "      <td id=\"T_d6c80_row0_col1\" class=\"data row0 col1\" >1.463190</td>\n",
              "      <td id=\"T_d6c80_row0_col2\" class=\"data row0 col2\" >14.692935</td>\n",
              "      <td id=\"T_d6c80_row0_col3\" class=\"data row0 col3\" >14157.223351</td>\n",
              "      <td id=\"T_d6c80_row0_col4\" class=\"data row0 col4\" >43.733720</td>\n",
              "      <td id=\"T_d6c80_row0_col5\" class=\"data row0 col5\" >317.821374</td>\n",
              "    </tr>\n",
              "    <tr>\n",
              "      <th id=\"T_d6c80_level0_row1\" class=\"row_heading level0 row1\" >1</th>\n",
              "      <td id=\"T_d6c80_row1_col0\" class=\"data row1 col0\" >3.802713</td>\n",
              "      <td id=\"T_d6c80_row1_col1\" class=\"data row1 col1\" >1.479378</td>\n",
              "      <td id=\"T_d6c80_row1_col2\" class=\"data row1 col2\" >16.450265</td>\n",
              "      <td id=\"T_d6c80_row1_col3\" class=\"data row1 col3\" >14260.117446</td>\n",
              "      <td id=\"T_d6c80_row1_col4\" class=\"data row1 col4\" >43.737980</td>\n",
              "      <td id=\"T_d6c80_row1_col5\" class=\"data row1 col5\" >319.352228</td>\n",
              "    </tr>\n",
              "  </tbody>\n",
              "</table>\n"
            ]
          },
          "metadata": {},
          "execution_count": 18
        }
      ]
    },
    {
      "cell_type": "markdown",
      "source": [
        "Customers who elect to receive additional information typically hold existing policies longer and are classified under a larger policy category with a slightly larger premium."
      ],
      "metadata": {
        "id": "iACQCwMGiHD1"
      }
    },
    {
      "cell_type": "code",
      "source": [
        "fig, ax = plt.subplots(figsize=(10,6))\n",
        "ax = sns.countplot(data=df[df['Holding_Policy_Type']!=0],x='Holding_Policy_Type',hue='Response',palette='mako');\n",
        "for p in ax.patches:\n",
        "        ax.annotate(p.get_height(),(p.get_x()+0.09, p.get_height()+75))\n",
        "fig.savefig('policytypecount.jpg',dpi=200,bbox_inches='tight')"
      ],
      "metadata": {
        "colab": {
          "base_uri": "https://localhost:8080/",
          "height": 389
        },
        "id": "MPJW9wIQiGnk",
        "outputId": "30091f42-ed2a-49e3-e5b4-5395aa3fbc99"
      },
      "execution_count": null,
      "outputs": [
        {
          "output_type": "display_data",
          "data": {
            "text/plain": [
              "<Figure size 720x432 with 1 Axes>"
            ],
            "image/png": "[encoded data removed]"
          },
          "metadata": {
            "needs_background": "light"
          }
        }
      ]
    },
    {
      "cell_type": "markdown",
      "source": [
        "Holding Policy Type three has the highest number of positive responses, but all four of the categories have approximately 30% positive to negative client responses."
      ],
      "metadata": {
        "id": "nDJfIs2yiX-U"
      }
    },
    {
      "cell_type": "code",
      "source": [
        "fig, ax = plt.subplots(figsize=(10,6))\n",
        "sns.violinplot(data=df[df['Holding_Policy_Type']!=0],x='Holding_Policy_Type',y='Avg_Age',hue='Response',palette='mako');\n",
        "fig.savefig('policytypexage.jpg',dpi=200,bbox_inches='tight')"
      ],
      "metadata": {
        "colab": {
          "base_uri": "https://localhost:8080/",
          "height": 389
        },
        "id": "TeVMx8_wikwH",
        "outputId": "6999003a-9355-4306-cd55-26d6efd74080"
      },
      "execution_count": null,
      "outputs": [
        {
          "output_type": "display_data",
          "data": {
            "text/plain": [
              "<Figure size 720x432 with 1 Axes>"
            ],
            "image/png": "[encoded data removed]"
          },
          "metadata": {
            "needs_background": "light"
          }
        }
      ]
    },
    {
      "cell_type": "markdown",
      "source": [
        "The violin plot gives an interesting take on Average Age versus Holding Policy Type. HPT 3 shows a pretty even distribution across age groups while HPT 1 is heavily made up of younger individuals."
      ],
      "metadata": {
        "id": "bDjxqpyZi7nb"
      }
    },
    {
      "cell_type": "code",
      "source": [
        "traincat_vars = [var for var in traindf.columns if traindf[var].dtype == 'O']\n",
        "testcat_vars = [var for var in testdf.columns if testdf[var].dtype == 'O']"
      ],
      "metadata": {
        "id": "xZjzn8csjAUm"
      },
      "execution_count": null,
      "outputs": []
    },
    {
      "cell_type": "markdown",
      "source": [
        "**Final Transformations**"
      ],
      "metadata": {
        "id": "UhUo9BsHjDsb"
      }
    },
    {
      "cell_type": "code",
      "source": [
        "def replace_categories(df, var, target):\n",
        "    # Order variable categories | lowest to highest against target (price)\n",
        "    ordered_labels = df.groupby([var])[target].mean().sort_values().index\n",
        "    # Dictionary of ordered categories to integer values\n",
        "    ordinal_label = {k: i for i, k in enumerate(ordered_labels, 0)}\n",
        "    # Replace the categorical strings by integers using dictionary\n",
        "    df[var] = df[var].map(ordinal_label)"
      ],
      "metadata": {
        "id": "P_y2FHwqjI6n"
      },
      "execution_count": null,
      "outputs": []
    },
    {
      "cell_type": "code",
      "source": [
        "for var in traincat_vars:\n",
        "    replace_categories(traindf, var, 'Avg_Age')"
      ],
      "metadata": {
        "id": "wnOHkWqejNPP"
      },
      "execution_count": null,
      "outputs": []
    },
    {
      "cell_type": "code",
      "source": [
        "for var in testcat_vars:\n",
        "    replace_categories(testdf, var, 'Avg_Age')"
      ],
      "metadata": {
        "id": "sTYo_q9xjOc_"
      },
      "execution_count": null,
      "outputs": []
    },
    {
      "cell_type": "markdown",
      "source": [
        "With each of the categorical values mapped to values with respect to average age, the resulting values will end up on a similar scale as the rest of the dataset. In order to minimize data manipulation for modeling, no label encoding or standard scaling will occur."
      ],
      "metadata": {
        "id": "DorvadNdjXug"
      }
    },
    {
      "cell_type": "code",
      "source": [
        "# labelencoder = preprocessing.LabelEncoder()\n",
        "# scaler = preprocessing.StandardScaler()"
      ],
      "metadata": {
        "id": "zJyAXSZ7jhbk"
      },
      "execution_count": null,
      "outputs": []
    },
    {
      "cell_type": "code",
      "source": [
        "# traindf['City_Code'] = labelencoder.fit_transform(traindf['City_Code'])\n",
        "# testdf['City_Code'] = labelencoder.fit_transform(testdf['City_Code'])\n",
        "# traindfscaled = scaler.fit_transform(traindf)\n",
        "# testdfscaled = scaler.fit_transform(testdf)"
      ],
      "metadata": {
        "id": "QqHpMe-Hjlyp"
      },
      "execution_count": null,
      "outputs": []
    },
    {
      "cell_type": "markdown",
      "source": [
        "**Model Pycaret** "
      ],
      "metadata": {
        "id": "C4bZv2N2jqnd"
      }
    },
    {
      "cell_type": "code",
      "source": [
        "dataset = traindf.copy()\n",
        "data = dataset.sample(frac=0.80, random_state=786)\n",
        "data_unseen = dataset.drop(data.index).reset_index(drop=True)\n",
        "print('Data for Modeling: ' + str(data.shape))\n",
        "print('Unseen Data For Predictions: ' + str(data_unseen.shape))"
      ],
      "metadata": {
        "colab": {
          "base_uri": "https://localhost:8080/"
        },
        "id": "qZxTjnRfkVt1",
        "outputId": "6d95a5db-7392-472d-9ce2-528c01dbba1c"
      },
      "execution_count": null,
      "outputs": [
        {
          "output_type": "stream",
          "name": "stdout",
          "text": [
            "Data for Modeling: (30400, 12)\n",
            "Unseen Data For Predictions: (7600, 12)\n"
          ]
        }
      ]
    },
    {
      "cell_type": "markdown",
      "source": [
        "**Scikit-learn**"
      ],
      "metadata": {
        "id": "q3cQp49ylMcf"
      }
    },
    {
      "cell_type": "code",
      "source": [
        "from xgboost import XGBClassifier\n",
        "from sklearn.ensemble import GradientBoostingClassifier\n",
        "import sklearn.metrics as metrics\n",
        "from sklearn.model_selection import train_test_split, GridSearchCV\n",
        "from sklearn.metrics import accuracy_score, classification_report"
      ],
      "metadata": {
        "id": "oGQfq8tRlOIE"
      },
      "execution_count": null,
      "outputs": []
    },
    {
      "cell_type": "code",
      "source": [
        "def model_visuals (model, X_test, y_test):\n",
        "    '''Plots the confusion matrix and ROC-AUC plot'''\n",
        "    fig, axes = plt.subplots(figsize = (12, 6), ncols = 2)  # confusion matrix\n",
        "    metrics.plot_confusion_matrix(model, X_test, y_test, normalize = 'true', \n",
        "                          cmap = 'Blues', ax = axes[0])\n",
        "    axes[0].set_title('Confusion Matrix');\n",
        "    # ROC-AUC Curve\n",
        "    roc_auc = metrics.plot_roc_curve(model, X_test, y_test,ax=axes[1])\n",
        "    axes[1].plot([0,1],[0,1],ls=':')\n",
        "    axes[1].set_title('ROC-AUC Plot')\n",
        "    axes[1].grid()\n",
        "    axes[1].legend()\n",
        "    fig.tight_layout()\n",
        "    plt.show()"
      ],
      "metadata": {
        "id": "7WFx5Tv8lUq1"
      },
      "execution_count": null,
      "outputs": []
    },
    {
      "cell_type": "code",
      "source": [
        "X_train, X_test, y_train, y_test = train_test_split(traindf.drop(columns=['Response'],axis=1),traindf['Response'],test_size=0.2, random_state=42)"
      ],
      "metadata": {
        "id": "9ByD5vTOlY7j"
      },
      "execution_count": null,
      "outputs": []
    },
    {
      "cell_type": "markdown",
      "source": [
        "**GridSearchCV**"
      ],
      "metadata": {
        "id": "EvscC0Vllc2b"
      }
    },
    {
      "cell_type": "code",
      "source": [
        "gbclf = GradientBoostingClassifier(random_state=42)\n",
        "gbclf.fit(X_train,y_train)"
      ],
      "metadata": {
        "colab": {
          "base_uri": "https://localhost:8080/"
        },
        "id": "qB8Y2-IilfFd",
        "outputId": "2a1d1e39-38fb-4981-949f-33b274e5c6a6"
      },
      "execution_count": null,
      "outputs": [
        {
          "output_type": "execute_result",
          "data": {
            "text/plain": [
              "GradientBoostingClassifier(random_state=42)"
            ]
          },
          "metadata": {},
          "execution_count": 31
        }
      ]
    },
    {
      "cell_type": "code",
      "source": [
        "param_grid = {\n",
        "    'learning_rate': [0.1,0.2],\n",
        "    'max_depth': [6],\n",
        "    'subsample': [0.5,0.7,1],\n",
        "    'n_estimators': [100]\n",
        "}"
      ],
      "metadata": {
        "id": "ORwimMJzl-kV"
      },
      "execution_count": null,
      "outputs": []
    },
    {
      "cell_type": "markdown",
      "source": [
        "**Final Model**"
      ],
      "metadata": {
        "id": "WpnLDa_dCZie"
      }
    },
    {
      "cell_type": "code",
      "source": [
        "gbclf = GradientBoostingClassifier(max_depth=6,learning_rate=0.1,n_estimators=100,subsample=1,random_state=42)\n",
        "gbclf.fit(X_train,y_train)\n",
        "# predict\n",
        "training_preds = gbclf.predict(X_train)\n",
        "test_preds = gbclf.predict(X_test)\n",
        "# accuracy\n",
        "training_accuracy = accuracy_score(y_train,training_preds)\n",
        "test_accuracy = accuracy_score(y_test,test_preds)"
      ],
      "metadata": {
        "id": "qLDTYbH6Ce1-"
      },
      "execution_count": null,
      "outputs": []
    },
    {
      "cell_type": "code",
      "source": [
        "print(classification_report(y_test, test_preds), '\\n\\n')\n",
        "model_visuals (gbclf, X_test, y_test) # class report / plotsprint(classification_report(y_test, test_preds), '\\n\\n')\n",
        "model_visuals (gbclf, X_test, y_test) # class report / plots"
      ],
      "metadata": {
        "colab": {
          "base_uri": "https://localhost:8080/",
          "height": 1000
        },
        "id": "dfjq8kIOCnQG",
        "outputId": "59241489-74b3-4a50-e94a-1c8fa785bb7d"
      },
      "execution_count": null,
      "outputs": [
        {
          "output_type": "stream",
          "name": "stdout",
          "text": [
            "              precision    recall  f1-score   support\n",
            "\n",
            "           0       0.77      0.99      0.87      5837\n",
            "           1       0.45      0.04      0.07      1763\n",
            "\n",
            "    accuracy                           0.77      7600\n",
            "   macro avg       0.61      0.51      0.47      7600\n",
            "weighted avg       0.70      0.77      0.68      7600\n",
            " \n",
            "\n",
            "\n"
          ]
        },
        {
          "output_type": "display_data",
          "data": {
            "text/plain": [
              "<Figure size 864x432 with 3 Axes>"
            ],
            "image/png": "[encoded data removed]"
          },
          "metadata": {
            "needs_background": "light"
          }
        },
        {
          "output_type": "display_data",
          "data": {
            "text/plain": [
              "<Figure size 864x432 with 3 Axes>"
            ],
            "image/png": "[encoded data removed]"
          },
          "metadata": {
            "needs_background": "light"
          }
        }
      ]
    },
    {
      "cell_type": "markdown",
      "source": [
        "**Interpret Results**"
      ],
      "metadata": {
        "id": "wj8j2ovFCrG7"
      }
    },
    {
      "cell_type": "markdown",
      "source": [
        "**Feature Importance**"
      ],
      "metadata": {
        "id": "_Nc0TtWFCx8K"
      }
    },
    {
      "cell_type": "code",
      "source": [
        "# Feature Importance\n",
        "X = traindf.drop(columns=['Response'],axis=1)\n",
        "clf_feature = pd.DataFrame({'Importance':gbclf.feature_importances_,'Column':X.columns})\n",
        "clf_feature = clf_feature.sort_values(by='Importance',ascending=False) \n",
        "clf_feature = clf_feature[:8] # top 8 features\n",
        "clf_feature.plot(kind='barh',x='Column',y='Importance',figsize=(20, 10))\n",
        "plt.title('Gradient Boosting Feature Importance \\n',fontsize=16)\n",
        "plt.savefig('featureimportance.jpg',dpi=200,bbox_inches='tight')\n",
        "plt.show()"
      ],
      "metadata": {
        "colab": {
          "base_uri": "https://localhost:8080/",
          "height": 627
        },
        "id": "CPTrffm_CuyM",
        "outputId": "074c0046-4f33-427b-c9d3-5ac40e7fe49f"
      },
      "execution_count": null,
      "outputs": [
        {
          "output_type": "display_data",
          "data": {
            "text/plain": [
              "<Figure size 1440x720 with 1 Axes>"
            ],
            "image/png": "[encoded data removed]"
          },
          "metadata": {
            "needs_background": "light"
          }
        }
      ]
    },
    {
      "cell_type": "markdown",
      "source": [
        "**Reco Policy Category**"
      ],
      "metadata": {
        "id": "W6fD9u42C9eF"
      }
    },
    {
      "cell_type": "code",
      "source": [
        "df['Reco_Policy_Cat'] = df['Reco_Policy_Cat'].astype('O')\n",
        "\n",
        "fig, ax = plt.subplots(figsize=(10,6))\n",
        "sns.countplot(data=df,x='Reco_Policy_Cat',hue='Response',palette='mako');\n",
        "fig.savefig('policycategoryxresponse.jpg',dpi=200,bbox_inches='tight')"
      ],
      "metadata": {
        "colab": {
          "base_uri": "https://localhost:8080/",
          "height": 389
        },
        "id": "mVyw13MzC88t",
        "outputId": "bc53c6a9-6f1b-4cb5-88ad-c7e9ff7b93af"
      },
      "execution_count": null,
      "outputs": [
        {
          "output_type": "display_data",
          "data": {
            "text/plain": [
              "<Figure size 720x432 with 1 Axes>"
            ],
            "image/png": "[encoded data removed]"
          },
          "metadata": {
            "needs_background": "light"
          }
        }
      ]
    },
    {
      "cell_type": "markdown",
      "source": [
        "This graph may be misleading as each policy category caries a significantly different client count. Lets break down the top five categories based on positive over total responses."
      ],
      "metadata": {
        "id": "Vdqxc9bSDHp9"
      }
    },
    {
      "cell_type": "code",
      "source": [
        "RPC = df.groupby(['Reco_Policy_Cat','Response'])['Response'].count().unstack()\n",
        "RPC['PositiveRatio'] = RPC[1] / (RPC[1] + RPC[0])\n",
        "RPC = RPC.sort_values(by='PositiveRatio', ascending=False)[:5].reset_index()\n",
        "# RPC\n",
        "fig, ax = plt.subplots(figsize=(10,6))\n",
        "plt.title('Top 5 Reco Policy Categories', fontdict={'fontsize': 14})\n",
        "sns.barplot(data=RPC,x='Reco_Policy_Cat',y='PositiveRatio',palette='mako');\n",
        "fig.savefig('top5categoryxresponse.jpg',dpi=200,bbox_inches='tight')"
      ],
      "metadata": {
        "colab": {
          "base_uri": "https://localhost:8080/",
          "height": 406
        },
        "id": "YM20WAfuDK4-",
        "outputId": "f21bc70c-2337-454d-87b2-08c078758bdc"
      },
      "execution_count": null,
      "outputs": [
        {
          "output_type": "display_data",
          "data": {
            "text/plain": [
              "<Figure size 720x432 with 1 Axes>"
            ],
            "image/png": "[encoded data removed]"
          },
          "metadata": {
            "needs_background": "light"
          }
        }
      ]
    },
    {
      "cell_type": "markdown",
      "source": [
        "Reco Policy Category 15 is the clear front runner"
      ],
      "metadata": {
        "id": "MyE5ZFNdDQxN"
      }
    },
    {
      "cell_type": "markdown",
      "source": [
        "**Reco Policy Premium**"
      ],
      "metadata": {
        "id": "qsN1LTbRDUS1"
      }
    },
    {
      "cell_type": "code",
      "source": [
        "# Binning Ages for Visualizations\n",
        "df['Premium(bin)'] = df['Reco_Policy_Premium'].apply(lambda x: '0-9999' if x < 10000\n",
        "                                                     else '10000-14999' if x < 15000 \n",
        "                                                     else '15000-19999' if x < 20000 \n",
        "                                                     else '20000-24999' if x < 25000 \n",
        "                                                     else '25000-29999' if x < 30000 \n",
        "                                                     else '30000+')"
      ],
      "metadata": {
        "id": "tuHWagd3DW-V"
      },
      "execution_count": null,
      "outputs": []
    },
    {
      "cell_type": "code",
      "source": [
        "# dashboard analysis\n",
        "df.to_csv('jobathondashboard.csv')"
      ],
      "metadata": {
        "id": "zdbOsJhpDcMF"
      },
      "execution_count": null,
      "outputs": []
    },
    {
      "cell_type": "code",
      "source": [
        "df = df.sort_values(['Premium(bin)'], ascending=True)\n",
        "fig, ax = plt.subplots(figsize=(10,6))\n",
        "sns.countplot(data=df,x='Premium(bin)',hue='Response',palette='mako');\n",
        "fig.savefig('premiumbin.jpg',dpi=200,bbox_inches='tight')"
      ],
      "metadata": {
        "colab": {
          "base_uri": "https://localhost:8080/",
          "height": 388
        },
        "id": "g23imxD5DgEV",
        "outputId": "ff613aab-0912-4562-a76d-3ca48f724e64"
      },
      "execution_count": null,
      "outputs": [
        {
          "output_type": "display_data",
          "data": {
            "text/plain": [
              "<Figure size 720x432 with 1 Axes>"
            ],
            "image/png": "[encoded data removed]"
          },
          "metadata": {
            "needs_background": "light"
          }
        }
      ]
    },
    {
      "cell_type": "markdown",
      "source": [
        "Lets confirm the positive to total response ratios before we make a recommendation."
      ],
      "metadata": {
        "id": "JBxdWPg_DkO0"
      }
    },
    {
      "cell_type": "code",
      "source": [
        "PRE = df.groupby(['Premium(bin)','Response'])['Response'].count().unstack()\n",
        "PRE['PositiveRatio'] = PRE[1] / (PRE[1] + PRE[0])\n",
        "PRE = PRE.sort_values(by='PositiveRatio', ascending=False)\n",
        "PRE"
      ],
      "metadata": {
        "colab": {
          "base_uri": "https://localhost:8080/",
          "height": 269
        },
        "id": "gUu7hPnLDoek",
        "outputId": "a959766f-8fbf-492b-dc2b-a512f20c2731"
      },
      "execution_count": null,
      "outputs": [
        {
          "output_type": "execute_result",
          "data": {
            "text/plain": [
              "Response         0     1  PositiveRatio\n",
              "Premium(bin)                           \n",
              "25000-29999   1372   451       0.247394\n",
              "15000-19999   6291  2018       0.242869\n",
              "20000-24999   3110   997       0.242756\n",
              "0-9999        8699  2712       0.237665\n",
              "10000-14999   8751  2678       0.234316\n",
              "30000+         709   212       0.230185"
            ],
            "text/html": [
              "\n",
              "  <div id=\"df-ba86d503-9692-4fd9-a735-31858f18489f\">\n",
              "    <div class=\"colab-df-container\">\n",
              "      <div>\n",
              "<style scoped>\n",
              "    .dataframe tbody tr th:only-of-type {\n",
              "        vertical-align: middle;\n",
              "    }\n",
              "\n",
              "    .dataframe tbody tr th {\n",
              "        vertical-align: top;\n",
              "    }\n",
              "\n",
              "    .dataframe thead th {\n",
              "        text-align: right;\n",
              "    }\n",
              "</style>\n",
              "<table border=\"1\" class=\"dataframe\">\n",
              "  <thead>\n",
              "    <tr style=\"text-align: right;\">\n",
              "      <th>Response</th>\n",
              "      <th>0</th>\n",
              "      <th>1</th>\n",
              "      <th>PositiveRatio</th>\n",
              "    </tr>\n",
              "    <tr>\n",
              "      <th>Premium(bin)</th>\n",
              "      <th></th>\n",
              "      <th></th>\n",
              "      <th></th>\n",
              "    </tr>\n",
              "  </thead>\n",
              "  <tbody>\n",
              "    <tr>\n",
              "      <th>25000-29999</th>\n",
              "      <td>1372</td>\n",
              "      <td>451</td>\n",
              "      <td>0.247394</td>\n",
              "    </tr>\n",
              "    <tr>\n",
              "      <th>15000-19999</th>\n",
              "      <td>6291</td>\n",
              "      <td>2018</td>\n",
              "      <td>0.242869</td>\n",
              "    </tr>\n",
              "    <tr>\n",
              "      <th>20000-24999</th>\n",
              "      <td>3110</td>\n",
              "      <td>997</td>\n",
              "      <td>0.242756</td>\n",
              "    </tr>\n",
              "    <tr>\n",
              "      <th>0-9999</th>\n",
              "      <td>8699</td>\n",
              "      <td>2712</td>\n",
              "      <td>0.237665</td>\n",
              "    </tr>\n",
              "    <tr>\n",
              "      <th>10000-14999</th>\n",
              "      <td>8751</td>\n",
              "      <td>2678</td>\n",
              "      <td>0.234316</td>\n",
              "    </tr>\n",
              "    <tr>\n",
              "      <th>30000+</th>\n",
              "      <td>709</td>\n",
              "      <td>212</td>\n",
              "      <td>0.230185</td>\n",
              "    </tr>\n",
              "  </tbody>\n",
              "</table>\n",
              "</div>\n",
              "      <button class=\"colab-df-convert\" onclick=\"convertToInteractive('df-ba86d503-9692-4fd9-a735-31858f18489f')\"\n",
              "              title=\"Convert this dataframe to an interactive table.\"\n",
              "              style=\"display:none;\">\n",
              "        \n",
              "  <svg xmlns=\"http://www.w3.org/2000/svg\" height=\"24px\"viewBox=\"0 0 24 24\"\n",
              "       width=\"24px\">\n",
              "    <path d=\"M0 0h24v24H0V0z\" fill=\"none\"/>\n",
              "    <path d=\"M18.56 5.44l.94 2.06.94-2.06 2.06-.94-2.06-.94-.94-2.06-.94 2.06-2.06.94zm-11 1L8.5 8.5l.94-2.06 2.06-.94-2.06-.94L8.5 2.5l-.94 2.06-2.06.94zm10 10l.94 2.06.94-2.06 2.06-.94-2.06-.94-.94-2.06-.94 2.06-2.06.94z\"/><path d=\"M17.41 7.96l-1.37-1.37c-.4-.4-.92-.59-1.43-.59-.52 0-1.04.2-1.43.59L10.3 9.45l-7.72 7.72c-.78.78-.78 2.05 0 2.83L4 21.41c.39.39.9.59 1.41.59.51 0 1.02-.2 1.41-.59l7.78-7.78 2.81-2.81c.8-.78.8-2.07 0-2.86zM5.41 20L4 18.59l7.72-7.72 1.47 1.35L5.41 20z\"/>\n",
              "  </svg>\n",
              "      </button>\n",
              "      \n",
              "  <style>\n",
              "    .colab-df-container {\n",
              "      display:flex;\n",
              "      flex-wrap:wrap;\n",
              "      gap: 12px;\n",
              "    }\n",
              "\n",
              "    .colab-df-convert {\n",
              "      background-color: #E8F0FE;\n",
              "      border: none;\n",
              "      border-radius: 50%;\n",
              "      cursor: pointer;\n",
              "      display: none;\n",
              "      fill: #1967D2;\n",
              "      height: 32px;\n",
              "      padding: 0 0 0 0;\n",
              "      width: 32px;\n",
              "    }\n",
              "\n",
              "    .colab-df-convert:hover {\n",
              "      background-color: #E2EBFA;\n",
              "      box-shadow: 0px 1px 2px rgba(60, 64, 67, 0.3), 0px 1px 3px 1px rgba(60, 64, 67, 0.15);\n",
              "      fill: #174EA6;\n",
              "    }\n",
              "\n",
              "    [theme=dark] .colab-df-convert {\n",
              "      background-color: #3B4455;\n",
              "      fill: #D2E3FC;\n",
              "    }\n",
              "\n",
              "    [theme=dark] .colab-df-convert:hover {\n",
              "      background-color: #434B5C;\n",
              "      box-shadow: 0px 1px 3px 1px rgba(0, 0, 0, 0.15);\n",
              "      filter: drop-shadow(0px 1px 2px rgba(0, 0, 0, 0.3));\n",
              "      fill: #FFFFFF;\n",
              "    }\n",
              "  </style>\n",
              "\n",
              "      <script>\n",
              "        const buttonEl =\n",
              "          document.querySelector('#df-ba86d503-9692-4fd9-a735-31858f18489f button.colab-df-convert');\n",
              "        buttonEl.style.display =\n",
              "          google.colab.kernel.accessAllowed ? 'block' : 'none';\n",
              "\n",
              "        async function convertToInteractive(key) {\n",
              "          const element = document.querySelector('#df-ba86d503-9692-4fd9-a735-31858f18489f');\n",
              "          const dataTable =\n",
              "            await google.colab.kernel.invokeFunction('convertToInteractive',\n",
              "                                                     [key], {});\n",
              "          if (!dataTable) return;\n",
              "\n",
              "          const docLinkHtml = 'Like what you see? Visit the ' +\n",
              "            '<a target=\"_blank\" href=https://colab.research.google.com/notebooks/data_table.ipynb>data table notebook</a>'\n",
              "            + ' to learn more about interactive tables.';\n",
              "          element.innerHTML = '';\n",
              "          dataTable['output_type'] = 'display_data';\n",
              "          await google.colab.output.renderOutput(dataTable, element);\n",
              "          const docLink = document.createElement('div');\n",
              "          docLink.innerHTML = docLinkHtml;\n",
              "          element.appendChild(docLink);\n",
              "        }\n",
              "      </script>\n",
              "    </div>\n",
              "  </div>\n",
              "  "
            ]
          },
          "metadata": {},
          "execution_count": 43
        }
      ]
    },
    {
      "cell_type": "code",
      "source": [
        "PRE = PRE.reset_index()\n",
        "fig, ax = plt.subplots(figsize=(10,6))\n",
        "plt.title('Top 5 Premium Bins', fontdict={'fontsize': 16})\n",
        "sns.barplot(data=PRE,x='Premium(bin)',y='PositiveRatio',palette='mako');\n",
        "fig.savefig('top5premiumbin.jpg',dpi=200,bbox_inches='tight')"
      ],
      "metadata": {
        "colab": {
          "base_uri": "https://localhost:8080/",
          "height": 406
        },
        "id": "lCRa1nguDtvE",
        "outputId": "9689df6d-326b-4aaf-fab1-814906688982"
      },
      "execution_count": null,
      "outputs": [
        {
          "output_type": "display_data",
          "data": {
            "text/plain": [
              "<Figure size 720x432 with 1 Axes>"
            ],
            "image/png": "[encoded data removed]"
          },
          "metadata": {
            "needs_background": "light"
          }
        }
      ]
    },
    {
      "cell_type": "markdown",
      "source": [
        "In this case, most of the ratios are extremely close so the recommendation would be to focus on individuals who pay an annual premium between 15,000 and 19,999 as they convert at approximately the same rate as the front runner but represent a much larger group of clients. The high conversion along with the larger client volume will lead to higher profit."
      ],
      "metadata": {
        "id": "OiK5n0BDDxm_"
      }
    },
    {
      "cell_type": "markdown",
      "source": [
        "**City Code**"
      ],
      "metadata": {
        "id": "ol2fhxdWEC61"
      }
    },
    {
      "cell_type": "code",
      "source": [
        "fig, ax = plt.subplots(figsize=(15,6))\n",
        "sns.countplot(data=df,x='City_Code',hue='Response',palette='mako');\n",
        "fig.savefig('citycode.jpg',dpi=200,bbox_inches='tight')"
      ],
      "metadata": {
        "colab": {
          "base_uri": "https://localhost:8080/",
          "height": 389
        },
        "id": "If9DMvWaEFg1",
        "outputId": "46d68cd2-a6ea-4ba1-b4af-f2175922b548"
      },
      "execution_count": null,
      "outputs": [
        {
          "output_type": "display_data",
          "data": {
            "text/plain": [
              "<Figure size 1080x432 with 1 Axes>"
            ],
            "image/png": "[encoded data removed]"
          },
          "metadata": {
            "needs_background": "light"
          }
        }
      ]
    },
    {
      "cell_type": "code",
      "source": [
        "CITY = df.groupby(['City_Code','Response'])['Response'].count().unstack()\n",
        "CITY['PositiveRatio'] = CITY[1] / (CITY[1] + CITY[0])\n",
        "CITY = CITY.sort_values(by='PositiveRatio', ascending=False)[:11]\n",
        "CITY"
      ],
      "metadata": {
        "colab": {
          "base_uri": "https://localhost:8080/",
          "height": 426
        },
        "id": "zG67uhv3ELYm",
        "outputId": "ab99c2ed-927c-4e1d-9edf-d52e38c9691f"
      },
      "execution_count": null,
      "outputs": [
        {
          "output_type": "execute_result",
          "data": {
            "text/plain": [
              "Response      0     1  PositiveRatio\n",
              "City_Code                           \n",
              "C30          27    12       0.307692\n",
              "C32          87    35       0.286885\n",
              "C34          75    30       0.285714\n",
              "C27         156    59       0.274419\n",
              "C23         315   118       0.272517\n",
              "C33         158    53       0.251185\n",
              "C11         641   215       0.251168\n",
              "C13         562   186       0.248663\n",
              "C7         1084   358       0.248266\n",
              "C8         1017   328       0.243866\n",
              "C1         5043  1626       0.243815"
            ],
            "text/html": [
              "\n",
              "  <div id=\"df-0ef91cdc-3c38-4593-9009-b5f92b346cc2\">\n",
              "    <div class=\"colab-df-container\">\n",
              "      <div>\n",
              "<style scoped>\n",
              "    .dataframe tbody tr th:only-of-type {\n",
              "        vertical-align: middle;\n",
              "    }\n",
              "\n",
              "    .dataframe tbody tr th {\n",
              "        vertical-align: top;\n",
              "    }\n",
              "\n",
              "    .dataframe thead th {\n",
              "        text-align: right;\n",
              "    }\n",
              "</style>\n",
              "<table border=\"1\" class=\"dataframe\">\n",
              "  <thead>\n",
              "    <tr style=\"text-align: right;\">\n",
              "      <th>Response</th>\n",
              "      <th>0</th>\n",
              "      <th>1</th>\n",
              "      <th>PositiveRatio</th>\n",
              "    </tr>\n",
              "    <tr>\n",
              "      <th>City_Code</th>\n",
              "      <th></th>\n",
              "      <th></th>\n",
              "      <th></th>\n",
              "    </tr>\n",
              "  </thead>\n",
              "  <tbody>\n",
              "    <tr>\n",
              "      <th>C30</th>\n",
              "      <td>27</td>\n",
              "      <td>12</td>\n",
              "      <td>0.307692</td>\n",
              "    </tr>\n",
              "    <tr>\n",
              "      <th>C32</th>\n",
              "      <td>87</td>\n",
              "      <td>35</td>\n",
              "      <td>0.286885</td>\n",
              "    </tr>\n",
              "    <tr>\n",
              "      <th>C34</th>\n",
              "      <td>75</td>\n",
              "      <td>30</td>\n",
              "      <td>0.285714</td>\n",
              "    </tr>\n",
              "    <tr>\n",
              "      <th>C27</th>\n",
              "      <td>156</td>\n",
              "      <td>59</td>\n",
              "      <td>0.274419</td>\n",
              "    </tr>\n",
              "    <tr>\n",
              "      <th>C23</th>\n",
              "      <td>315</td>\n",
              "      <td>118</td>\n",
              "      <td>0.272517</td>\n",
              "    </tr>\n",
              "    <tr>\n",
              "      <th>C33</th>\n",
              "      <td>158</td>\n",
              "      <td>53</td>\n",
              "      <td>0.251185</td>\n",
              "    </tr>\n",
              "    <tr>\n",
              "      <th>C11</th>\n",
              "      <td>641</td>\n",
              "      <td>215</td>\n",
              "      <td>0.251168</td>\n",
              "    </tr>\n",
              "    <tr>\n",
              "      <th>C13</th>\n",
              "      <td>562</td>\n",
              "      <td>186</td>\n",
              "      <td>0.248663</td>\n",
              "    </tr>\n",
              "    <tr>\n",
              "      <th>C7</th>\n",
              "      <td>1084</td>\n",
              "      <td>358</td>\n",
              "      <td>0.248266</td>\n",
              "    </tr>\n",
              "    <tr>\n",
              "      <th>C8</th>\n",
              "      <td>1017</td>\n",
              "      <td>328</td>\n",
              "      <td>0.243866</td>\n",
              "    </tr>\n",
              "    <tr>\n",
              "      <th>C1</th>\n",
              "      <td>5043</td>\n",
              "      <td>1626</td>\n",
              "      <td>0.243815</td>\n",
              "    </tr>\n",
              "  </tbody>\n",
              "</table>\n",
              "</div>\n",
              "      <button class=\"colab-df-convert\" onclick=\"convertToInteractive('df-0ef91cdc-3c38-4593-9009-b5f92b346cc2')\"\n",
              "              title=\"Convert this dataframe to an interactive table.\"\n",
              "              style=\"display:none;\">\n",
              "        \n",
              "  <svg xmlns=\"http://www.w3.org/2000/svg\" height=\"24px\"viewBox=\"0 0 24 24\"\n",
              "       width=\"24px\">\n",
              "    <path d=\"M0 0h24v24H0V0z\" fill=\"none\"/>\n",
              "    <path d=\"M18.56 5.44l.94 2.06.94-2.06 2.06-.94-2.06-.94-.94-2.06-.94 2.06-2.06.94zm-11 1L8.5 8.5l.94-2.06 2.06-.94-2.06-.94L8.5 2.5l-.94 2.06-2.06.94zm10 10l.94 2.06.94-2.06 2.06-.94-2.06-.94-.94-2.06-.94 2.06-2.06.94z\"/><path d=\"M17.41 7.96l-1.37-1.37c-.4-.4-.92-.59-1.43-.59-.52 0-1.04.2-1.43.59L10.3 9.45l-7.72 7.72c-.78.78-.78 2.05 0 2.83L4 21.41c.39.39.9.59 1.41.59.51 0 1.02-.2 1.41-.59l7.78-7.78 2.81-2.81c.8-.78.8-2.07 0-2.86zM5.41 20L4 18.59l7.72-7.72 1.47 1.35L5.41 20z\"/>\n",
              "  </svg>\n",
              "      </button>\n",
              "      \n",
              "  <style>\n",
              "    .colab-df-container {\n",
              "      display:flex;\n",
              "      flex-wrap:wrap;\n",
              "      gap: 12px;\n",
              "    }\n",
              "\n",
              "    .colab-df-convert {\n",
              "      background-color: #E8F0FE;\n",
              "      border: none;\n",
              "      border-radius: 50%;\n",
              "      cursor: pointer;\n",
              "      display: none;\n",
              "      fill: #1967D2;\n",
              "      height: 32px;\n",
              "      padding: 0 0 0 0;\n",
              "      width: 32px;\n",
              "    }\n",
              "\n",
              "    .colab-df-convert:hover {\n",
              "      background-color: #E2EBFA;\n",
              "      box-shadow: 0px 1px 2px rgba(60, 64, 67, 0.3), 0px 1px 3px 1px rgba(60, 64, 67, 0.15);\n",
              "      fill: #174EA6;\n",
              "    }\n",
              "\n",
              "    [theme=dark] .colab-df-convert {\n",
              "      background-color: #3B4455;\n",
              "      fill: #D2E3FC;\n",
              "    }\n",
              "\n",
              "    [theme=dark] .colab-df-convert:hover {\n",
              "      background-color: #434B5C;\n",
              "      box-shadow: 0px 1px 3px 1px rgba(0, 0, 0, 0.15);\n",
              "      filter: drop-shadow(0px 1px 2px rgba(0, 0, 0, 0.3));\n",
              "      fill: #FFFFFF;\n",
              "    }\n",
              "  </style>\n",
              "\n",
              "      <script>\n",
              "        const buttonEl =\n",
              "          document.querySelector('#df-0ef91cdc-3c38-4593-9009-b5f92b346cc2 button.colab-df-convert');\n",
              "        buttonEl.style.display =\n",
              "          google.colab.kernel.accessAllowed ? 'block' : 'none';\n",
              "\n",
              "        async function convertToInteractive(key) {\n",
              "          const element = document.querySelector('#df-0ef91cdc-3c38-4593-9009-b5f92b346cc2');\n",
              "          const dataTable =\n",
              "            await google.colab.kernel.invokeFunction('convertToInteractive',\n",
              "                                                     [key], {});\n",
              "          if (!dataTable) return;\n",
              "\n",
              "          const docLinkHtml = 'Like what you see? Visit the ' +\n",
              "            '<a target=\"_blank\" href=https://colab.research.google.com/notebooks/data_table.ipynb>data table notebook</a>'\n",
              "            + ' to learn more about interactive tables.';\n",
              "          element.innerHTML = '';\n",
              "          dataTable['output_type'] = 'display_data';\n",
              "          await google.colab.output.renderOutput(dataTable, element);\n",
              "          const docLink = document.createElement('div');\n",
              "          docLink.innerHTML = docLinkHtml;\n",
              "          element.appendChild(docLink);\n",
              "        }\n",
              "      </script>\n",
              "    </div>\n",
              "  </div>\n",
              "  "
            ]
          },
          "metadata": {},
          "execution_count": 46
        }
      ]
    },
    {
      "cell_type": "code",
      "source": [
        "CITY = CITY.reset_index()\n",
        "fig, ax = plt.subplots(figsize=(10,6))\n",
        "plt.title('Top 11 City Categories', fontdict={'fontsize': 16})\n",
        "sns.barplot(data=CITY,x='City_Code',y='PositiveRatio',palette='mako');\n",
        "fig.savefig('top11citycode.jpg',dpi=200,bbox_inches='tight')"
      ],
      "metadata": {
        "colab": {
          "base_uri": "https://localhost:8080/",
          "height": 407
        },
        "id": "9y8FJuAcEPVc",
        "outputId": "724dd224-c3f5-4830-ca0d-7496a2afac09"
      },
      "execution_count": null,
      "outputs": [
        {
          "output_type": "display_data",
          "data": {
            "text/plain": [
              "<Figure size 720x432 with 1 Axes>"
            ],
            "image/png": "[encoded data removed]"
          },
          "metadata": {
            "needs_background": "light"
          }
        }
      ]
    },
    {
      "cell_type": "markdown",
      "source": [
        "In this particular case I would recommend focusing on the top 11 scoring positive ratios. Ranks 10 and 11 are exponentially larger in volume than the first 9 and have the potential to yield high ROI with positive to total ratios close to 25%."
      ],
      "metadata": {
        "id": "9sJk4wgvEVz8"
      }
    },
    {
      "cell_type": "markdown",
      "source": [
        "**Submission**"
      ],
      "metadata": {
        "id": "5LlvopQ8EZE0"
      }
    },
    {
      "cell_type": "code",
      "source": [
        "features = testdf.columns\n",
        "target = ['Response']"
      ],
      "metadata": {
        "id": "7_NZL9hnEc7M"
      },
      "execution_count": null,
      "outputs": []
    },
    {
      "cell_type": "code",
      "source": [
        "# preparing submission\n",
        "gbclf.fit(traindf[features], traindf[target].values.ravel())\n",
        "predictions = gbclf.predict_proba(testdf[features])[:,1]\n",
        "submission = pd.DataFrame({'ID': testdf2['ID'],'Response': predictions})"
      ],
      "metadata": {
        "id": "29Gpoc95Ef1F"
      },
      "execution_count": null,
      "outputs": []
    },
    {
      "cell_type": "code",
      "source": [
        "submission['Response'].describe()"
      ],
      "metadata": {
        "colab": {
          "base_uri": "https://localhost:8080/"
        },
        "id": "w7gmnWSxEl1U",
        "outputId": "8f41af22-7901-4e0e-893c-203caa9adcfb"
      },
      "execution_count": null,
      "outputs": [
        {
          "output_type": "execute_result",
          "data": {
            "text/plain": [
              "count    12882.000000\n",
              "mean         0.227742\n",
              "std          0.107901\n",
              "min          0.007234\n",
              "25%          0.172267\n",
              "50%          0.219342\n",
              "75%          0.276750\n",
              "max          0.829486\n",
              "Name: Response, dtype: float64"
            ]
          },
          "metadata": {},
          "execution_count": 50
        }
      ]
    },
    {
      "cell_type": "code",
      "source": [
        "submission['Response'] = submission['Response'].apply(lambda x: 0 if x < 0.3 else 1)"
      ],
      "metadata": {
        "id": "VsSUovQLEo50"
      },
      "execution_count": null,
      "outputs": []
    },
    {
      "cell_type": "markdown",
      "source": [
        "In following the theme of the test and train datasets as well as presenting a client list of a respectable size, the cut off for positive response predictions will be 30%"
      ],
      "metadata": {
        "id": "vctyT9UqEsv1"
      }
    },
    {
      "cell_type": "code",
      "source": [
        "submission.to_csv('submission.csv', index=False)"
      ],
      "metadata": {
        "id": "amNkUfv7Ex6k"
      },
      "execution_count": null,
      "outputs": []
    },
    {
      "cell_type": "markdown",
      "source": [
        "**Recommendations**"
      ],
      "metadata": {
        "id": "RtwDKZ3SE07s"
      }
    },
    {
      "cell_type": "markdown",
      "source": [
        "The model's top 3 features were Reco Policy Category, Reco Policy Premium and City Code. Within those three categories, subcategories yielded the highest positive to total response ratios. It is recommended to focus on clients in/with:\n",
        "\n",
        "City Codes: C1, C2, C13, C23\n",
        "\n",
        "Reco Policy Categories: 15, 22\n",
        "\n",
        "Reco Policy Premiums between: 15,000 & 19,999."
      ],
      "metadata": {
        "id": "rylOvygmE6zM"
      }
    },
    {
      "cell_type": "markdown",
      "source": [
        "**Limitations**\n",
        "\n",
        "The project was limited by the anonymity of the data. Specifically the geographic data that could have been used for additional feature engineering leading to higher scores."
      ],
      "metadata": {
        "id": "RjYRY0YPFDKD"
      }
    },
    {
      "cell_type": "markdown",
      "source": [
        "**Future Work**\n",
        "\n",
        "Future models can be created using more complicated feature engineering and analysis such as clustering of the geographic features. For the purposes of this project, doing so would have complicated the output and made it difficult to implement within a real workplace."
      ],
      "metadata": {
        "id": "EzbZLtQnFN5s"
      }
    }
  ]
}