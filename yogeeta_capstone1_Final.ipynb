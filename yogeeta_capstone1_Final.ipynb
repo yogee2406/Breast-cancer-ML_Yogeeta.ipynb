{
  "cells": [
    {
      "cell_type": "markdown",
      "metadata": {
        "id": "view-in-github",
        "colab_type": "text"
      },
      "source": [
        "<a href=\"https://colab.research.google.com/github/yogee2406/Breast-cancer-ML_Yogeeta.ipynb/blob/main/yogeeta_capstone1_Final.ipynb\" target=\"_parent\"><img src=\"https://colab.research.google.com/assets/colab-badge.svg\" alt=\"Open In Colab\"/></a>"
      ]
    },
    {
      "cell_type": "markdown",
      "metadata": {
        "id": "45393208"
      },
      "source": [
        "### Introduction"
      ],
      "id": "45393208"
    },
    {
      "cell_type": "markdown",
      "metadata": {
        "id": "41d4a11e"
      },
      "source": [
        "It's always wonderful to see services customized to your needs.Businesses try to understand your behavior and adjust their offerings, so as to ensure you feel attached to their services.\n",
        "- **InsaidTelecom**, one of the leading telecom players, understands that customizing offering is very important for its business to stay competitive.\n",
        "- Currently, InsaidTelecom is seeking to leverage behavioral data from more than 60% of the 50 million mobile devices active daily in India to help its clients better understand and interact with their audiences.\n",
        "\n",
        "![image.png](attachment:image.png)\n",
        "\n",
        "In this assignment, you are going to **study the demographics** of a **user (gender and age)** based on their app download and usage behaviors.\n",
        "The Data is collected from mobile apps that use InsaidTelecom services. Full recognition and consent from individual user of those apps have been obtained,\n",
        "and appropriate anonymization have been performed to protect privacy. Due to confidentiality, we won't provide details on how the gender and age data was obtained.\n"
      ],
      "id": "41d4a11e"
    },
    {
      "cell_type": "markdown",
      "metadata": {
        "id": "c283893c"
      },
      "source": [
        "### Problem Statement"
      ],
      "id": "c283893c"
    },
    {
      "cell_type": "markdown",
      "metadata": {
        "id": "196173a2"
      },
      "source": [
        "- Insaidians are expected to **build a dashboard** to understand user's **demographic characteristics** based on their:\n",
        "  - mobile usage\n",
        "  - geolocation, and\n",
        "  - mobile device properties.\n",
        "- Doing so will help millions of developers and brand advertisers around the world pursue data-driven marketing efforts which are relevant to their users and catered to their preferences.\n",
        "\n",
        "- To help the customer the consultants are expected to have depth of clarity in the underlying data.\n",
        "**How much effort has been put into cleansing and purifying the data will decide how closely have you looked at the data.\n",
        "How detailed is the observation stated in the submission report and finally how well a group presents their consulting journey.**\n",
        "\n",
        "- Please remember this is an analytics consulting hence, your efforts in terms of finding user behavior is going to directly impact the company's offerings.\n",
        "- Do help the company understand what is the right way forward and suggest actionable insights from marketing and product terms."
      ],
      "id": "196173a2"
    },
    {
      "cell_type": "markdown",
      "metadata": {
        "id": "5d05f6c0"
      },
      "source": [
        "**events_data**\n",
        "- when a user uses mobile on INSAID Telecom network, the event gets logged in this data.\n",
        "- Each event has an event id, location (lat/long), and the event corresponds to frequency of mobile usage.\n",
        "- timestamp: when the user is using the mobile.\n",
        "\n",
        "**gender_age_train**\n",
        "- Devices and their respective user gender, age and age_group\n",
        "\n",
        "**phone_brand_device_model**\n",
        "- device ids, brand, and models phone_brand: note that few brands are in Chinese"
      ],
      "id": "5d05f6c0"
    },
    {
      "cell_type": "markdown",
      "metadata": {
        "id": "700187fe"
      },
      "source": [
        "### Import Libraries"
      ],
      "id": "700187fe"
    },
    {
      "cell_type": "code",
      "execution_count": null,
      "metadata": {
        "colab": {
          "background_save": true
        },
        "id": "966aed7d"
      },
      "outputs": [],
      "source": [
        "import pandas as pd\n",
        "import numpy as np\n",
        "import matplotlib.pyplot as plt\n",
        "import seaborn as sns\n",
        "sns.set()\n",
        "%matplotlib inline\n",
        "import warnings\n",
        "warnings.filterwarnings('ignore')"
      ],
      "id": "966aed7d"
    },
    {
      "cell_type": "markdown",
      "metadata": {
        "id": "f147e6c5"
      },
      "source": [
        "### Events_data"
      ],
      "id": "f147e6c5"
    },
    {
      "cell_type": "code",
      "execution_count": null,
      "metadata": {
        "colab": {
          "background_save": true
        },
        "id": "5acf3711"
      },
      "outputs": [],
      "source": [
        "raw_data = pd.read_csv('/content/drive/MyDrive/events_data.csv.zip')\n",
        "raw_data.head()"
      ],
      "id": "5acf3711"
    },
    {
      "cell_type": "code",
      "execution_count": null,
      "metadata": {
        "colab": {
          "background_save": true
        },
        "id": "1124f4ee"
      },
      "outputs": [],
      "source": [
        "raw_data.tail()"
      ],
      "id": "1124f4ee"
    },
    {
      "cell_type": "code",
      "execution_count": null,
      "metadata": {
        "colab": {
          "background_save": true
        },
        "id": "uQPue-CdC-6E"
      },
      "outputs": [],
      "source": [
        "from google.colab import drive\n",
        "drive.mount('/content/drive')"
      ],
      "id": "uQPue-CdC-6E"
    },
    {
      "cell_type": "code",
      "execution_count": null,
      "metadata": {
        "colab": {
          "background_save": true
        },
        "id": "1a4303e7"
      },
      "outputs": [],
      "source": [
        "raw_data['state'].nunique()"
      ],
      "id": "1a4303e7"
    },
    {
      "cell_type": "code",
      "execution_count": null,
      "metadata": {
        "colab": {
          "background_save": true
        },
        "id": "d07fbea7"
      },
      "outputs": [],
      "source": [
        "raw_data.shape"
      ],
      "id": "d07fbea7"
    },
    {
      "cell_type": "code",
      "execution_count": null,
      "metadata": {
        "colab": {
          "background_save": true
        },
        "id": "ae314288"
      },
      "outputs": [],
      "source": [
        "raw_data.info()"
      ],
      "id": "ae314288"
    },
    {
      "cell_type": "code",
      "execution_count": null,
      "metadata": {
        "colab": {
          "background_save": true
        },
        "id": "7c8b8853"
      },
      "outputs": [],
      "source": [
        "raw_data.isna().sum()"
      ],
      "id": "7c8b8853"
    },
    {
      "cell_type": "code",
      "execution_count": null,
      "metadata": {
        "colab": {
          "background_save": true
        },
        "id": "4815928a"
      },
      "outputs": [],
      "source": [
        "raw_data['event_id'].nunique()"
      ],
      "id": "4815928a"
    },
    {
      "cell_type": "code",
      "execution_count": null,
      "metadata": {
        "colab": {
          "background_save": true
        },
        "id": "f9733bca"
      },
      "outputs": [],
      "source": [
        "raw_data['device_id'].nunique()"
      ],
      "id": "f9733bca"
    },
    {
      "cell_type": "code",
      "execution_count": null,
      "metadata": {
        "colab": {
          "background_save": true
        },
        "id": "a67bb0d0"
      },
      "outputs": [],
      "source": [
        "raw_data['city'].nunique()"
      ],
      "id": "a67bb0d0"
    },
    {
      "cell_type": "code",
      "execution_count": null,
      "metadata": {
        "colab": {
          "background_save": true
        },
        "id": "620ac68f"
      },
      "outputs": [],
      "source": [
        "# City\n",
        "fig, ax = plt.subplots(figsize = (16,8))\n",
        "\n",
        "sns.barplot(x =raw_data['city'].value_counts().keys()[:50], y=raw_data['city'].value_counts()[:50])\n",
        "plt.xlabel('City Name')\n",
        "plt.ylabel('Counts')\n",
        "plt.xticks(rotation = 90)\n",
        "plt.title('City')\n",
        "plt.show()"
      ],
      "id": "620ac68f"
    },
    {
      "cell_type": "code",
      "execution_count": null,
      "metadata": {
        "colab": {
          "background_save": true
        },
        "id": "b12c3811"
      },
      "outputs": [],
      "source": [
        "raw_data['state'].nunique()"
      ],
      "id": "b12c3811"
    },
    {
      "cell_type": "code",
      "execution_count": null,
      "metadata": {
        "colab": {
          "background_save": true
        },
        "id": "40be5978"
      },
      "outputs": [],
      "source": [
        "# State\n",
        "fig, ax = plt.subplots(figsize = (16,8))\n",
        "\n",
        "sns.barplot(x =raw_data['state'].value_counts().keys(), y=raw_data['state'].value_counts())\n",
        "plt.xlabel('State Name')\n",
        "plt.ylabel('Counts')\n",
        "plt.xticks(rotation = 90)\n",
        "plt.title('State')\n",
        "plt.show()"
      ],
      "id": "40be5978"
    },
    {
      "cell_type": "markdown",
      "metadata": {
        "id": "a4cb6b71"
      },
      "source": [
        "#### Observations:\n",
        "1. Events data set shape is **3252950** Observations, and **7** Feature Columns for analysis.\n",
        "2. Device_id unique, anonymized string of numbers and letters that identifies every individual smartphone or tablet in the world. Missing Values in device_id is 453\n",
        "3. Timestamp datatype is Object, needs to be converted in timestamp for better analysis.\n",
        "4. Longitude and Latitude can provide location of the device.\n",
        "5. Longitude and Latitude is observed with 423 Missing values\n",
        "6. State has 377 Missing values\n",
        "7. Feature event_id shows **3252950** unique events\n",
        "8. We can observe that in **3252950** events there are **60865** Unique device_id.\n"
      ],
      "id": "a4cb6b71"
    },
    {
      "cell_type": "markdown",
      "metadata": {
        "id": "e4a58cf0"
      },
      "source": [
        "### Gender_age_train"
      ],
      "id": "e4a58cf0"
    },
    {
      "cell_type": "code",
      "execution_count": null,
      "metadata": {
        "colab": {
          "background_save": true
        },
        "id": "4d15e596"
      },
      "outputs": [],
      "source": [
        "import mysql.connector\n",
        "mydb = mysql.connector.connect(\n",
        " user='student', password='student',\n",
        "                              host='cpanel.insaid.co',\n",
        "                              database='Capstone1')\n",
        "\n",
        "mycursor = mydb.cursor()\n",
        "\n",
        "mycursor.execute(\"content/drive/MyDrive/gender_age_train.csv\")\n",
        "\n",
        "myresult = mycursor.fetchall()\n",
        "\n",
        "gender_age_train.csv = pd.DataFrame(myresult, columns = ['device_id', 'gender', 'age', 'group'])"
      ],
      "id": "4d15e596"
    },
    {
      "cell_type": "code",
      "execution_count": null,
      "metadata": {
        "colab": {
          "background_save": true
        },
        "id": "041c08ff"
      },
      "outputs": [],
      "source": [
        "gender_age_train = pd.read_csv(\"/content/drive/MyDrive/gender_age_train.csv\")"
      ],
      "id": "041c08ff"
    },
    {
      "cell_type": "code",
      "execution_count": null,
      "metadata": {
        "colab": {
          "background_save": true
        },
        "id": "7f43962e"
      },
      "outputs": [],
      "source": [
        "gender_age_train.head()"
      ],
      "id": "7f43962e"
    },
    {
      "cell_type": "code",
      "execution_count": null,
      "metadata": {
        "colab": {
          "background_save": true
        },
        "id": "452b9094"
      },
      "outputs": [],
      "source": [
        "gender_age_train.tail()"
      ],
      "id": "452b9094"
    },
    {
      "cell_type": "code",
      "execution_count": null,
      "metadata": {
        "colab": {
          "background_save": true
        },
        "id": "d1518a06"
      },
      "outputs": [],
      "source": [
        "gender_age_train.shape"
      ],
      "id": "d1518a06"
    },
    {
      "cell_type": "code",
      "execution_count": null,
      "metadata": {
        "colab": {
          "background_save": true
        },
        "id": "48d1516a"
      },
      "outputs": [],
      "source": [
        "gender_age_train.info()"
      ],
      "id": "48d1516a"
    },
    {
      "cell_type": "code",
      "execution_count": null,
      "metadata": {
        "colab": {
          "background_save": true
        },
        "id": "b3be824f"
      },
      "outputs": [],
      "source": [
        "gender_age_train.describe()"
      ],
      "id": "b3be824f"
    },
    {
      "cell_type": "markdown",
      "metadata": {
        "id": "a564198a"
      },
      "source": [
        "#### Observations: \n",
        "1. Shape of the gender_age_train dataset is **(74645,4)**.\n",
        "2. No missing value is observed.\n",
        "3. **Age** : \n",
        "    - It is observed that **MINIMUM Age is 1 and Max is 96**.\n",
        "    - Avearge Users are of age 31 Years.\n",
        "    - Median Age of user is 29 Years.\n",
        "4. Some device_id is negative, we have remove the negative sign form the device id."
      ],
      "id": "a564198a"
    },
    {
      "cell_type": "code",
      "execution_count": null,
      "metadata": {
        "colab": {
          "background_save": true
        },
        "id": "77e84ace"
      },
      "outputs": [],
      "source": [
        "gender_age_train['device_id'].nunique()"
      ],
      "id": "77e84ace"
    },
    {
      "cell_type": "code",
      "execution_count": null,
      "metadata": {
        "colab": {
          "background_save": true
        },
        "id": "034487af"
      },
      "outputs": [],
      "source": [
        "gender_age_train['device_id'].plot.hist(figsize = (12, 6))"
      ],
      "id": "034487af"
    },
    {
      "cell_type": "code",
      "execution_count": null,
      "metadata": {
        "colab": {
          "background_save": true
        },
        "id": "4ad556b2"
      },
      "outputs": [],
      "source": [
        "abs(gender_age_train['device_id']).plot.hist(figsize = (12, 6))"
      ],
      "id": "4ad556b2"
    },
    {
      "cell_type": "code",
      "execution_count": null,
      "metadata": {
        "colab": {
          "background_save": true
        },
        "id": "5dad7c16"
      },
      "outputs": [],
      "source": [
        "# Gender\n",
        "fig, ax = plt.subplots(figsize = (10,6))\n",
        "\n",
        "sns.barplot(x =gender_age_train['gender'].value_counts().keys(), y=gender_age_train['gender'].value_counts())\n",
        "plt.xlabel('User by Gender')\n",
        "plt.ylabel('Counts')\n",
        "plt.title('Gender')\n",
        "plt.show()"
      ],
      "id": "5dad7c16"
    },
    {
      "cell_type": "code",
      "execution_count": null,
      "metadata": {
        "colab": {
          "background_save": true
        },
        "id": "ce97c112"
      },
      "outputs": [],
      "source": [
        "100*(gender_age_train['gender'].value_counts()/ gender_age_train.shape[0])"
      ],
      "id": "ce97c112"
    },
    {
      "cell_type": "markdown",
      "metadata": {
        "id": "7e98c3a4"
      },
      "source": [
        "#### Observations:\n",
        "- In the given dataset we can observe that Male users are more than Female Users.\n",
        "- Service users are 64% Male and 35% are Female."
      ],
      "id": "7e98c3a4"
    },
    {
      "cell_type": "code",
      "execution_count": null,
      "metadata": {
        "colab": {
          "background_save": true
        },
        "id": "5fd3fb0d"
      },
      "outputs": [],
      "source": [
        "# Age\n",
        "fig, ax = plt.subplots(figsize = (12,6))\n",
        "\n",
        "sns.histplot(gender_age_train['age'], color = '#FD625E', bins = 50, kde = True)\n",
        "plt.xlabel('Age')\n",
        "plt.ylabel('Frequency')\n",
        "plt.title('Age Distribution')\n",
        "plt.show()"
      ],
      "id": "5fd3fb0d"
    },
    {
      "cell_type": "markdown",
      "metadata": {
        "id": "5e56562f"
      },
      "source": [
        "#### Observations:\n",
        "- It is observed that users from 15- 96 Years.\n",
        "- Users between 20-40 years are high, they are very active user of the service.\n",
        "- We can also see that there are users between 1-15 and 80-96 years. "
      ],
      "id": "5e56562f"
    },
    {
      "cell_type": "code",
      "execution_count": null,
      "metadata": {
        "colab": {
          "background_save": true
        },
        "id": "1c04c265"
      },
      "outputs": [],
      "source": [
        "#Group\n",
        "fig, ax = plt.subplots(figsize = (12,6))\n",
        "\n",
        "sns.barplot(x =gender_age_train['group'].value_counts().keys(), y=gender_age_train['group'].value_counts())\n",
        "plt.xlabel('Group')\n",
        "plt.ylabel('Counts')\n",
        "plt.title('Age Group')\n",
        "plt.show()\n"
      ],
      "id": "1c04c265"
    },
    {
      "cell_type": "markdown",
      "metadata": {
        "id": "0249d570"
      },
      "source": [
        "#### Observations:\n",
        "- Users between age group 23-26 & 32-38 are high and are Male Users.\n",
        "- Female Users between age group 33-42 are high."
      ],
      "id": "0249d570"
    },
    {
      "cell_type": "markdown",
      "metadata": {
        "id": "dbfaf4b0"
      },
      "source": [
        "### Phone_brand_device_model"
      ],
      "id": "dbfaf4b0"
    },
    {
      "cell_type": "code",
      "execution_count": null,
      "metadata": {
        "colab": {
          "background_save": true
        },
        "id": "b3a1d34a"
      },
      "outputs": [],
      "source": [
        "#mydb2 = mysql.connector.connect(\n",
        "# user='student', password='student',\n",
        "                              host='cpanel.insaid.co',\n",
        "                              database='Capstone1')\n",
        "\n",
        "#mycursor = mydb.cursor()\n",
        "\n",
        "#mycursor.execute(\"select * from phone_brand_device_model\")\n",
        "\n",
        "#myresult2 = mycursor.fetchall()\n",
        "\n",
        "#phone_brand_device_model = pd.DataFrame(myresult2, columns = ['device_id', 'phone_brand', 'device_model'])"
      ],
      "id": "b3a1d34a"
    },
    {
      "cell_type": "code",
      "execution_count": null,
      "metadata": {
        "colab": {
          "background_save": true
        },
        "id": "c1df59af"
      },
      "outputs": [],
      "source": [
        "phone_brand_device_model = pd.read_csv(\"/content/drive/MyDrive/phone_brand_device_model (1).csv\")"
      ],
      "id": "c1df59af"
    },
    {
      "cell_type": "code",
      "execution_count": null,
      "metadata": {
        "colab": {
          "background_save": true
        },
        "id": "df442ceb"
      },
      "outputs": [],
      "source": [
        "phone_brand_device_model.head()"
      ],
      "id": "df442ceb"
    },
    {
      "cell_type": "code",
      "execution_count": null,
      "metadata": {
        "colab": {
          "background_save": true
        },
        "id": "4b9b1c7f"
      },
      "outputs": [],
      "source": [
        "phone_brand_device_model.tail()"
      ],
      "id": "4b9b1c7f"
    },
    {
      "cell_type": "code",
      "execution_count": null,
      "metadata": {
        "colab": {
          "background_save": true
        },
        "id": "a49f2eb6"
      },
      "outputs": [],
      "source": [
        "phone_brand_device_model.shape"
      ],
      "id": "a49f2eb6"
    },
    {
      "cell_type": "code",
      "execution_count": null,
      "metadata": {
        "colab": {
          "background_save": true
        },
        "id": "16abcba5"
      },
      "outputs": [],
      "source": [
        "phone_brand_device_model.info()"
      ],
      "id": "16abcba5"
    },
    {
      "cell_type": "code",
      "execution_count": null,
      "metadata": {
        "colab": {
          "background_save": true
        },
        "id": "d51562ce"
      },
      "outputs": [],
      "source": [
        "phone_brand_device_model.describe()"
      ],
      "id": "d51562ce"
    },
    {
      "cell_type": "code",
      "execution_count": null,
      "metadata": {
        "colab": {
          "background_save": true
        },
        "id": "607331c3"
      },
      "outputs": [],
      "source": [
        "phone_brand_device_model['device_id'].nunique()"
      ],
      "id": "607331c3"
    },
    {
      "cell_type": "code",
      "execution_count": null,
      "metadata": {
        "colab": {
          "background_save": true
        },
        "id": "bc64803d"
      },
      "outputs": [],
      "source": [
        "abs(phone_brand_device_model['device_id']).plot.hist(figsize = (12, 6))"
      ],
      "id": "bc64803d"
    },
    {
      "cell_type": "markdown",
      "metadata": {
        "id": "c2054846"
      },
      "source": [
        "## Data Pre-Processing\n",
        "#### Task:\n",
        "1. Device_id in all three dataset change from negative to positive using abs().\n",
        "2. Timestamp datatype convert to valid timestamp using pandas to_datetime.\n",
        "3. Find the missing Null values in Device_id, latitude, longitude and State and try to fill these data.\n",
        "4. Phone_brand and Device_model names change from Chinese to English.\n",
        "5. Check for outlier in age and remove it."
      ],
      "id": "c2054846"
    },
    {
      "cell_type": "code",
      "execution_count": null,
      "metadata": {
        "colab": {
          "background_save": true
        },
        "id": "f2c36b74"
      },
      "outputs": [],
      "source": [
        "# Converting all negative device_id number to positive\n",
        "raw_data['device_id'] = abs(raw_data['device_id'])\n",
        "gender_age_train['device_id'] = abs(gender_age_train['device_id'])\n",
        "phone_brand_device_model['device_id'] = abs(phone_brand_device_model['device_id'])"
      ],
      "id": "f2c36b74"
    },
    {
      "cell_type": "code",
      "execution_count": null,
      "metadata": {
        "colab": {
          "background_save": true
        },
        "id": "d606e668"
      },
      "outputs": [],
      "source": [
        "raw_data['timestamp'] = pd.to_datetime(raw_data['timestamp'])\n",
        "raw_data.info()"
      ],
      "id": "d606e668"
    },
    {
      "cell_type": "code",
      "execution_count": null,
      "metadata": {
        "colab": {
          "background_save": true
        },
        "id": "d4e5f7b2"
      },
      "outputs": [],
      "source": [
        "#Missing values in raw_data\n",
        "raw_data.isna().sum()"
      ],
      "id": "d4e5f7b2"
    },
    {
      "cell_type": "code",
      "execution_count": null,
      "metadata": {
        "colab": {
          "background_save": true
        },
        "id": "9c531268",
        "scrolled": false
      },
      "outputs": [],
      "source": [
        "# Missing State\n",
        "state_missing = raw_data[raw_data['state'].isna()]\n",
        "state_missing"
      ],
      "id": "9c531268"
    },
    {
      "cell_type": "code",
      "execution_count": null,
      "metadata": {
        "colab": {
          "background_save": true
        },
        "id": "7142b41c"
      },
      "outputs": [],
      "source": [
        "# Plot for city with missing state\n",
        "fig, ax = plt.subplots(figsize = (12,6))\n",
        "sns.barplot(x = state_missing['city'].value_counts().keys(), y = state_missing['city'].value_counts(), color = 'b')\n",
        "plt.xlabel('City Name')\n",
        "plt.ylabel('Counts')\n",
        "plt.xticks(rotation = 90)\n",
        "plt.title('City With Missing State')\n",
        "plt.show()"
      ],
      "id": "7142b41c"
    },
    {
      "cell_type": "code",
      "execution_count": null,
      "metadata": {
        "colab": {
          "background_save": true
        },
        "id": "c8896111"
      },
      "outputs": [],
      "source": [
        "# State\n",
        "raw_data['state'] = np.where(raw_data['city'] == 'Delhi', 'Delhi', raw_data.state)\n",
        "raw_data['state'] = np.where(raw_data['city'] == 'Pune', 'Maharashtra', raw_data.state)\n",
        "raw_data['state'] = np.where(raw_data['city'] == 'Indore', 'MadhyaPradesh', raw_data.state)\n",
        "raw_data['state'] = np.where(raw_data['city'] == 'Jaipur', 'Rajasthan', raw_data.state)\n",
        "raw_data['state'] = np.where(raw_data['city'] == 'Visakhapatnam', 'AndhraPradesh', raw_data.state)\n",
        "raw_data['state'] = np.where(raw_data['city'] == 'Chennai', 'TamilNadu', raw_data.state)\n",
        "raw_data['state'] = np.where(raw_data['city'] == 'Gangarampur', 'WestBengal', raw_data.state)\n",
        "raw_data['state'] = np.where(raw_data['city'] == 'Arambagh', 'WestBengal', raw_data.state)\n",
        "raw_data['state'] = np.where(raw_data['city'] == 'Channapatna', 'Karnataka', raw_data.state)"
      ],
      "id": "c8896111"
    },
    {
      "cell_type": "code",
      "execution_count": null,
      "metadata": {
        "colab": {
          "background_save": true
        },
        "id": "f3c2aa0c"
      },
      "outputs": [],
      "source": [
        "raw_data.head()"
      ],
      "id": "f3c2aa0c"
    },
    {
      "cell_type": "code",
      "execution_count": null,
      "metadata": {
        "colab": {
          "background_save": true
        },
        "id": "883b2e57",
        "scrolled": false
      },
      "outputs": [],
      "source": [
        "#device_id\n",
        "device_id_null = raw_data[raw_data['device_id'].isna()]\n",
        "device_id_null"
      ],
      "id": "883b2e57"
    },
    {
      "cell_type": "code",
      "execution_count": null,
      "metadata": {
        "colab": {
          "background_save": true
        },
        "id": "64cc2e5d"
      },
      "outputs": [],
      "source": [
        "device_id_null['city'].unique()"
      ],
      "id": "64cc2e5d"
    },
    {
      "cell_type": "code",
      "execution_count": null,
      "metadata": {
        "colab": {
          "background_save": true
        },
        "id": "da93e5ee"
      },
      "outputs": [],
      "source": [
        "device_id_null[device_id_null['city'] == 'Indore']"
      ],
      "id": "da93e5ee"
    },
    {
      "cell_type": "code",
      "execution_count": null,
      "metadata": {
        "colab": {
          "background_save": true
        },
        "id": "b95c8568"
      },
      "outputs": [],
      "source": [
        "# Unique Longitudes and Latitude\n",
        "device_id_null['longitude'].unique(), device_id_null['latitude'].unique()"
      ],
      "id": "b95c8568"
    },
    {
      "cell_type": "code",
      "execution_count": null,
      "metadata": {
        "colab": {
          "background_save": true
        },
        "id": "9f3eecc4",
        "scrolled": false
      },
      "outputs": [],
      "source": [
        "#jaipur data\n",
        "jaipur = device_id_null[device_id_null['city'] == 'Jaipur']\n",
        "jaipur['longitude'].unique()"
      ],
      "id": "9f3eecc4"
    },
    {
      "cell_type": "code",
      "execution_count": null,
      "metadata": {
        "colab": {
          "background_save": true
        },
        "id": "69b6c4d7"
      },
      "outputs": [],
      "source": [
        "# Null Device id\n",
        "fig, ax = plt.subplots(figsize = (12,6))\n",
        "sns.barplot(x = device_id_null['city'].value_counts().keys(), y = device_id_null['city'].value_counts(), color = 'b')\n",
        "plt.xlabel('City Name')\n",
        "plt.ylabel('Counts')\n",
        "plt.xticks(rotation = 90)\n",
        "plt.title('Device ID Missing')\n",
        "plt.show()"
      ],
      "id": "69b6c4d7"
    },
    {
      "cell_type": "code",
      "execution_count": null,
      "metadata": {
        "colab": {
          "background_save": true
        },
        "id": "d0c3c2ad",
        "scrolled": false
      },
      "outputs": [],
      "source": [
        "#unique device id \n",
        "unique_device_id = raw_data.drop_duplicates(['device_id'])\n",
        "unique_device_id"
      ],
      "id": "d0c3c2ad"
    },
    {
      "cell_type": "code",
      "execution_count": null,
      "metadata": {
        "colab": {
          "background_save": true
        },
        "id": "542fb047"
      },
      "outputs": [],
      "source": [
        "unique_device_id[unique_device_id['city'] == 'Jaipur']"
      ],
      "id": "542fb047"
    },
    {
      "cell_type": "code",
      "execution_count": null,
      "metadata": {
        "colab": {
          "background_save": true
        },
        "id": "060b8925"
      },
      "outputs": [],
      "source": [
        "#unique device id\n",
        "fig, ax = plt.subplots(figsize = (12,6))\n",
        "sns.barplot(x = unique_device_id['city'].value_counts().keys()[:50], y = unique_device_id['city'].value_counts()[:50], color = 'b')\n",
        "plt.xlabel('City Name')\n",
        "plt.ylabel('Counts')\n",
        "plt.xticks(rotation = 90)\n",
        "plt.title('Unique Device ID City')\n",
        "plt.show()"
      ],
      "id": "060b8925"
    },
    {
      "cell_type": "code",
      "execution_count": null,
      "metadata": {
        "colab": {
          "background_save": true
        },
        "id": "ef0889ea",
        "scrolled": true
      },
      "outputs": [],
      "source": [
        "unique_device_id[unique_device_id['longitude']== 75.888487]"
      ],
      "id": "ef0889ea"
    },
    {
      "cell_type": "code",
      "execution_count": null,
      "metadata": {
        "colab": {
          "background_save": true
        },
        "id": "fdb2528a"
      },
      "outputs": [],
      "source": [
        "unique_device_id[unique_device_id['longitude']== 75.846007]"
      ],
      "id": "fdb2528a"
    },
    {
      "cell_type": "code",
      "execution_count": null,
      "metadata": {
        "colab": {
          "background_save": true
        },
        "id": "a48244ba"
      },
      "outputs": [],
      "source": [
        "unique_device_id[unique_device_id['longitude']== 75.836167]"
      ],
      "id": "a48244ba"
    },
    {
      "cell_type": "code",
      "execution_count": null,
      "metadata": {
        "colab": {
          "background_save": true
        },
        "id": "339cb740"
      },
      "outputs": [],
      "source": [
        "# pune_missing_device_id \n",
        "pune = device_id_null[device_id_null['city'] == 'Pune']\n",
        "pune['longitude'].unique()"
      ],
      "id": "339cb740"
    },
    {
      "cell_type": "code",
      "execution_count": null,
      "metadata": {
        "colab": {
          "background_save": true
        },
        "id": "1ab1785c"
      },
      "outputs": [],
      "source": [
        "pune"
      ],
      "id": "1ab1785c"
    },
    {
      "cell_type": "code",
      "execution_count": null,
      "metadata": {
        "colab": {
          "background_save": true
        },
        "id": "c2272bbd"
      },
      "outputs": [],
      "source": [
        "visakhapatnam = device_id_null[device_id_null['city'] == 'Visakhapatnam']\n",
        "visakhapatnam['longitude'].unique(), visakhapatnam['latitude'].unique()"
      ],
      "id": "c2272bbd"
    },
    {
      "cell_type": "code",
      "execution_count": null,
      "metadata": {
        "colab": {
          "background_save": true
        },
        "id": "213bc6b9"
      },
      "outputs": [],
      "source": [
        "unique_device_id[unique_device_id['longitude']==83.357991]"
      ],
      "id": "213bc6b9"
    },
    {
      "cell_type": "code",
      "execution_count": null,
      "metadata": {
        "colab": {
          "background_save": true
        },
        "id": "99e8702c"
      },
      "outputs": [],
      "source": [
        "unique_device_id[unique_device_id['longitude']==83.371738]"
      ],
      "id": "99e8702c"
    },
    {
      "cell_type": "code",
      "execution_count": null,
      "metadata": {
        "colab": {
          "background_save": true
        },
        "id": "6045b404"
      },
      "outputs": [],
      "source": [
        "unique_device_id[unique_device_id['longitude']== 83.342711]"
      ],
      "id": "6045b404"
    },
    {
      "cell_type": "code",
      "execution_count": null,
      "metadata": {
        "colab": {
          "background_save": true
        },
        "id": "14c34962"
      },
      "outputs": [],
      "source": [
        "raw_data[raw_data['longitude'] == 73.860165]\n"
      ],
      "id": "14c34962"
    },
    {
      "cell_type": "code",
      "execution_count": null,
      "metadata": {
        "colab": {
          "background_save": true
        },
        "id": "50c1acf2"
      },
      "outputs": [],
      "source": [
        "unique_device_id[unique_device_id['longitude']==73.862756]"
      ],
      "id": "50c1acf2"
    },
    {
      "cell_type": "code",
      "execution_count": null,
      "metadata": {
        "colab": {
          "background_save": true
        },
        "id": "8c76d02b"
      },
      "outputs": [],
      "source": [
        "unique_device_id[unique_device_id['longitude']== 73.860165]"
      ],
      "id": "8c76d02b"
    },
    {
      "cell_type": "code",
      "execution_count": null,
      "metadata": {
        "colab": {
          "background_save": true
        },
        "id": "366ce99e"
      },
      "outputs": [],
      "source": [
        "unique_device_id[unique_device_id['longitude']== 73.926499]"
      ],
      "id": "366ce99e"
    },
    {
      "cell_type": "code",
      "execution_count": null,
      "metadata": {
        "colab": {
          "background_save": true
        },
        "id": "bedca711"
      },
      "outputs": [],
      "source": [
        "raw_data['device_id'] = np.where(raw_data['longitude'] == 75.888487, 9.177251e+17, raw_data.device_id).astype(float)\n",
        "raw_data['device_id'] = np.where(raw_data['longitude'] == 75.846007, 8.460337e+18, raw_data.device_id).astype(float)\n",
        "raw_data['device_id'] = np.where(raw_data['longitude'] == 75.836167, 3.562356e+18, raw_data.device_id).astype(float)\n",
        "raw_data['device_id'] = np.where(raw_data['longitude'] == 73.862756, 9.027086e+18, raw_data.device_id).astype(float)"
      ],
      "id": "bedca711"
    },
    {
      "cell_type": "code",
      "execution_count": null,
      "metadata": {
        "colab": {
          "background_save": true
        },
        "id": "00617c05"
      },
      "outputs": [],
      "source": [
        "raw_data.info()"
      ],
      "id": "00617c05"
    },
    {
      "cell_type": "code",
      "execution_count": null,
      "metadata": {
        "colab": {
          "background_save": true
        },
        "id": "885e63ab"
      },
      "outputs": [],
      "source": [
        "raw_data['device_id'].isna().sum()"
      ],
      "id": "885e63ab"
    },
    {
      "cell_type": "code",
      "execution_count": null,
      "metadata": {
        "colab": {
          "background_save": true
        },
        "id": "7586c318"
      },
      "outputs": [],
      "source": [
        "raw_data['device_id'].nunique()"
      ],
      "id": "7586c318"
    },
    {
      "cell_type": "code",
      "execution_count": null,
      "metadata": {
        "colab": {
          "background_save": true
        },
        "id": "fced89ed"
      },
      "outputs": [],
      "source": [
        "%matplotlib inline\n",
        "# NULL Device Id Plotting\n",
        "fig, ax = plt.subplots(figsize = (12, 8))\n",
        "sns.scatterplot(x = device_id_null['latitude'], y = device_id_null['longitude'])\n",
        "plt.show()"
      ],
      "id": "fced89ed"
    },
    {
      "cell_type": "code",
      "execution_count": null,
      "metadata": {
        "colab": {
          "background_save": true
        },
        "id": "8103fdda"
      },
      "outputs": [],
      "source": [
        "#Null Device_id Locations \n",
        "null_device_locations = device_id_null[['city','latitude', 'longitude']].values.tolist()\n",
        "null_device_locations"
      ],
      "id": "8103fdda"
    },
    {
      "cell_type": "code",
      "execution_count": null,
      "metadata": {
        "colab": {
          "background_save": true
        },
        "id": "bcea9e91"
      },
      "outputs": [],
      "source": [
        "import folium\n",
        "device_map = folium.Map(location = [22.660325, 88.388361])\n",
        "fg = folium.FeatureGroup(name ='null_id_locations')\n",
        "\n",
        "for i in null_device_locations:\n",
        "    fg.add_child(folium.Marker(location = [i[1], i[2]], popup=i[0],\n",
        "                              icon = folium.Icon(color = 'red')))\n",
        "\n",
        "device_map.add_child(fg)"
      ],
      "id": "bcea9e91"
    },
    {
      "cell_type": "code",
      "execution_count": null,
      "metadata": {
        "colab": {
          "background_save": true
        },
        "id": "9f33f495"
      },
      "outputs": [],
      "source": [
        "#Device locations of the events data\n",
        "fig, ax = plt.subplots(figsize = (12, 8))\n",
        "sns.scatterplot(y = raw_data['latitude'], x= raw_data['longitude'])\n",
        "plt.ylabel('LATITUDE')\n",
        "plt.xlabel('LONGITUDE')\n",
        "plt.xticks(ticks = np.arange(0, 100,5))\n",
        "plt.yticks(ticks = np.arange(0,60,5))\n",
        "\n",
        "plt.show()"
      ],
      "id": "9f33f495"
    },
    {
      "cell_type": "code",
      "execution_count": null,
      "metadata": {
        "colab": {
          "background_save": true
        },
        "id": "38586e3c",
        "scrolled": false
      },
      "outputs": [],
      "source": [
        "#Anomaly location data\n",
        "fig, ax = plt.subplots(figsize = (12, 8))\n",
        "sns.scatterplot(y = data_anomaly['latitude'], x= data_anomaly['longitude'])\n",
        "plt.ylabel('LATITUDE')\n",
        "plt.xlabel('LONGITUDE')\n",
        "plt.xticks(ticks = np.arange(0, 100,5))\n",
        "plt.yticks(ticks = np.arange(0,60,5))\n",
        "\n",
        "plt.show()"
      ],
      "id": "38586e3c"
    },
    {
      "cell_type": "code",
      "execution_count": null,
      "metadata": {
        "colab": {
          "background_save": true
        },
        "id": "6daaaf9c"
      },
      "outputs": [],
      "source": [
        "#Creating a separate data for Anomaly Locations\n",
        "data_anomaly = raw_data[raw_data['longitude'] < 69.5]\n",
        "data_anomaly['longitude'].unique(),data_anomaly['latitude'].unique()"
      ],
      "id": "6daaaf9c"
    },
    {
      "cell_type": "code",
      "execution_count": null,
      "metadata": {
        "colab": {
          "background_save": true
        },
        "id": "1775786c"
      },
      "outputs": [],
      "source": [
        "anomaly_locations = data_anomaly[['city','latitude', 'longitude']].values.tolist()"
      ],
      "id": "1775786c"
    },
    {
      "cell_type": "code",
      "execution_count": null,
      "metadata": {
        "colab": {
          "background_save": true
        },
        "id": "6c249704"
      },
      "outputs": [],
      "source": [
        "#Anomaly Locations\n",
        "anomaly_locations"
      ],
      "id": "6c249704"
    },
    {
      "cell_type": "code",
      "execution_count": null,
      "metadata": {
        "colab": {
          "background_save": true
        },
        "id": "310c8e16"
      },
      "outputs": [],
      "source": [
        "#Plotting Anomaly Device Locations on Map\n",
        "import folium\n",
        "device_map = folium.Map(location = [22.660325, 88.388361])\n",
        "fg = folium.FeatureGroup(name ='anomaly_id_locations')\n",
        "\n",
        "for i in anomaly_locations:\n",
        "    fg.add_child(folium.Marker(location = [i[1], i[2]], popup=i[0],\n",
        "                              icon = folium.Icon(color = 'blue')))\n",
        "\n",
        "device_map.add_child(fg)"
      ],
      "id": "310c8e16"
    },
    {
      "cell_type": "code",
      "execution_count": null,
      "metadata": {
        "colab": {
          "background_save": true
        },
        "id": "3d56e0dc"
      },
      "outputs": [],
      "source": [
        "#Phone Brand\n",
        "fig, ax = plt.subplots(figsize = (12,6))\n",
        "\n",
        "sns.barplot(x =phone_brand_device_model['phone_brand'].value_counts().keys()[:50], y=phone_brand_device_model['phone_brand'].value_counts()[:50])\n",
        "plt.xlabel('Brand Name')\n",
        "plt.ylabel('Counts')\n",
        "plt.title('Phone Brands')\n",
        "plt.xticks(rotation = 90)\n",
        "plt.show()"
      ],
      "id": "3d56e0dc"
    },
    {
      "cell_type": "code",
      "execution_count": null,
      "metadata": {
        "colab": {
          "background_save": true
        },
        "id": "21fd6fb6"
      },
      "outputs": [],
      "source": [
        "# Phone Brand name Chinese to English\n",
        "phone_brand_device_model['phone_brand'] = phone_brand_device_model['phone_brand'].replace(to_replace = ['vivo', '小米', 'OPPO', '三星', '酷派', '联想 ', '华为', '奇酷', '魅族', '斐讯',\n",
        "       '中国移动', 'HTC', '天语', '至尊宝', 'LG', '欧博信', '优米', 'ZUK', '努比亚', '惠普',\n",
        "       '尼比鲁', '美图', '乡米', '摩托罗拉', '梦米', '锤子', '富可视', '乐视', '海信', '百立丰',\n",
        "       '一加', '语信', '海尔', '酷比', '纽曼', '波导', '朵唯', '聆韵', 'TCL', '酷珀', '爱派尔',\n",
        "       'LOGO', '青葱', '果米', '华硕', '昂达', '艾优尼', '康佳', '优购', '邦华', '赛博宇华',\n",
        "       '黑米', 'Lovme', '先锋', 'E派', '神舟', '诺基亚', '普耐尔', '糖葫芦', '亿通', '欧新',\n",
        "       '米奇', '酷比魔方', '蓝魔', '小杨树', '贝尔丰', '糯米', '米歌', 'E人E本', '西米', '大Q',\n",
        "       '台电', '飞利浦', '唯米', '大显', '长虹', '维图', '青橙', '本为', '虾米', '夏新', '帷幄',\n",
        "       '百加', 'SUGAR', '欧奇', '世纪星', '智镁', '欧比', '基伍', '飞秒', '德赛', '易派',\n",
        "       '谷歌', '金星数码', '广信', '诺亚信', 'MIL', '白米', '大可乐', '宝捷讯', '优语', '首云',\n",
        "       '瑞米', '瑞高', '沃普丰', '摩乐', '鲜米', '凯利通', '唯比', '欧沃', '丰米', '恒宇丰',\n",
        "       '奥克斯', '西门子', '欧乐迪', 'PPTV'],\n",
        "                                                                                          value= ['vivo', 'Xiaomi', 'OPPO', 'Samsung', 'Coolpad', 'Lenovo', 'Huawei', 'Qiku', 'Meizu', 'Phixun',\n",
        "       'China Mobile', 'HTC', 'Tianyu', 'Supreme treasure', 'LG', 'Oboxin', 'Youmi', 'ZUK', 'Nubia', 'HP',\n",
        "       'Nibiru', 'Meitu', 'Xiangmi', 'Motorola', 'Mengmi', 'Hammer', 'InFocus', 'LeTV', 'Hisense', 'Bailifeng',\n",
        "       'OnePlus', 'Yuxin', 'Haier', 'Cooby', 'Newman', 'Waveguide', 'Duowei', 'Ling Yun', 'TCL', 'Cooper', 'Aipel' ,\n",
        "       'LOGO', 'Scallion', 'Guomi', 'Asus', 'Onda', 'Aiuni', 'Konka', 'Yougo', 'Banghua', 'Cyber Yuhua',\n",
        "       'Black Rice', 'Lovme', 'Pioneer', 'E Pie', 'Shenzhou', 'Nokia', 'Pure', 'Candied Hulu', 'Yitong', 'Ouxin',\n",
        "       'Mickey', 'Cool Doo Cube', 'Blue Devil', 'Little Poplar', 'Belfeng', 'Glutinous Rice', 'Mi Song', 'Eren Eben', 'Simi', 'Big Q' ,\n",
        "       'Taipower', 'Philips', 'Weimi', 'Daxian', 'Changhong', 'Vitu', 'Qingcheng', 'Original', 'Shrimp', 'Xiaxin', 'Huang',\n",
        "       'Baika', 'SUGAR', 'Okey', 'Century Star', 'Chi-Mag', 'Obi', 'Kivu', 'Femtosecond', 'Desai', 'Epai',\n",
        "       'Google', 'Venus Digital', 'Guangxin', 'Noahs letter', 'MIL', 'White Rice', 'Big Cola', 'Baojixun', 'Youyu', 'Shouyun',\n",
        "       'Rimi', 'Rigao', 'Wopfeng', 'Mole', 'Xianmi', 'Kellytong', 'Vip', 'Owo', 'Fengmi', 'Hengyufeng',\n",
        "       'Ox', 'Siemens', 'Oraldi', 'PPTV'])"
      ],
      "id": "21fd6fb6"
    },
    {
      "cell_type": "code",
      "execution_count": null,
      "metadata": {
        "colab": {
          "background_save": true
        },
        "id": "860871d7"
      },
      "outputs": [],
      "source": [
        "#Phone Brand\n",
        "fig, ax = plt.subplots(figsize = (12,6))\n",
        "\n",
        "sns.barplot(x =phone_brand_device_model['phone_brand'].value_counts().keys()[:50], y=phone_brand_device_model['phone_brand'].value_counts()[:50])\n",
        "plt.xlabel('Brand Name')\n",
        "plt.ylabel('Counts')\n",
        "plt.title('Phone Brands')\n",
        "plt.xticks(rotation = 90)\n",
        "plt.show()"
      ],
      "id": "860871d7"
    },
    {
      "cell_type": "code",
      "execution_count": null,
      "metadata": {
        "colab": {
          "background_save": true
        },
        "id": "46cf9e40",
        "scrolled": false
      },
      "outputs": [],
      "source": [
        "# Device name Chinese\n",
        "chinese_device_model = ['红米Note2','红米Note3','大神F1Plus','note顶配版','星星1号','红米note', '青春版','荣耀4A','魅蓝Note 2',\n",
        "                        '荣耀7i','荣耀畅玩4C','红米2A','荣耀畅玩5','荣耀7',  '红米1S','麦芒4','荣耀6','荣耀畅玩4X','荣耀3X畅玩版','荣耀X2',\n",
        "                        '魅蓝NOTE','荣耀6 Plus','荣耀+','荣耀畅玩4','黄金斗士A8','小米note','荣耀3C','小米4C','红米note增强版','天鉴W900', '荣耀畅玩5X',\n",
        "                        '红米2','大神F1','魅蓝2','Mate 7 青春版','乐檬K3 Note','火星一号','乐檬K3', '联想黄金斗士S8','大神F2','魅蓝','荣耀6 plus','大神F2全高清版',\n",
        "                        '灵感XL','旗舰版','坚果手机','红米', '超级手机1 Pro','畅享5','魅蓝metal','超级手机1','超级手机1s','荣耀U8860','纽扣','荣耀畅玩平板T1', '红辣椒 X1',\n",
        "                        '春雷HD','ivvi 小i','荣耀畅玩4C运动版','麦芒3','小鲜2','大器2', '锋尚','大神X7','小苹果','乐玩','大神Note3','么么哒3N','锋尚Pro','红辣椒','荣耀3X',\n",
        "                        '三星big foot','荣耀3C畅玩版','ivvi 小骨Pro', '红辣椒XM', '远航3', 'My 布拉格', 'metal 标准版', '畅享5S', '红辣椒Note', '锋尚Max', '2016版 Galaxy', '红牛V5', \n",
        "                        '2016版 Galaxy', '锋尚2','金钢','野火S','2016版 Galaxy','红米3','小辣椒 X3','荣耀平板T1-','大神Note','7295A青春版','大Q Note','么么哒',\n",
        "                        '小辣椒 M2','黄金斗士Note8','炫影S+','风华3','TALK 7X四核','2016版 Galaxy', '天鉴T1','土星一号', '麦芒3S','飞马','联想VIBE X2', '威武3', '红辣椒任性版',\n",
        "                        '小辣椒 9', '大观4', '超级手机Max','星星2号','雷霆战机','威武3C', '倾城L3','Z9 mini 精英版','小辣椒S1', '小辣椒 5','T03锋至版','乐玩2C','么么哒3S','乐K31',\n",
        " '黄金斗士S8畅玩版','时尚手机',]"
      ],
      "id": "46cf9e40"
    },
    {
      "cell_type": "code",
      "execution_count": null,
      "metadata": {
        "colab": {
          "background_save": true
        },
        "id": "e705aa93"
      },
      "outputs": [],
      "source": [
        "# Device name in English\n",
        "english_device_model = ['Redmi Note2', 'Redmi Note3', 'Great God F1Plus', 'note top version', 'Star 1', 'Redmi note',\n",
        "                        'Youth Edition','Honor 4A','Meizu Note 2','Honor 7i','Honor Play 4C','Redmi 2A','Honor Play 5','Honor 7',\n",
        "                        'Redmi 1S', 'Maimang 4', 'Honor 6', 'Honor Play 4X', 'Honor 3X Play Edition', 'Honor X2', 'Mei Lan NOTE', 'Honor 6 Plus',\n",
        "                        'Honor+', 'Honor Play 4', 'Golden Fighter A8', 'Xiaomi Note', 'Honor 3C', 'Xiaomi 4C', 'Redmi Note Enhanced Edition', 'Tianjian W900',\n",
        "                        'Honor Play 5X','Red Rice 2','Great God F1','Meizu 2','Mate 7 Youth Edition','Lemeng K3 Note','Mars One','Lemeng K3',\n",
        "                        'Lenovo Gold Fighter S8', 'Dashen F2', 'Charm Blue', 'Honor 6 plus', 'Dashen F2 Full HD Version', 'Inspiration XL', 'Ultimate Edition', 'Nut Phone', 'Red Rice' ,\n",
        "                        'Super Phone 1 Pro', 'Enjoy 5', 'Meizu Metal', 'Super Phone 1', 'Super Phone 1s', 'Honor U8860', 'Button', 'Honor Play Tablet T1',\n",
        "                        'Red Pepper X1', 'Chunlei HD', 'ivvi Xiaoi', 'Honor Play 4C Sports Edition', 'Maimang 3', 'Xiaoxian 2','Big 2','Feng Shang',\n",
        "                        'Great God X7','Little Apple','Have fun','Great God Note3','Momoda 3N','Fengshang Pro','Red chilli','Honor 3X','Samsung big foot','Honor 3C Play Edition','ivvi Osicles Pro',\n",
        "                        'Red Pepper XM','voyage 3','My Prague','metal Standard Edition','Enjoy 5S','Red Pepper Note','Feng Shang Max','2016 Edition Galaxy','Red Bull V5','2016 Edition Galaxy','Feng Shang 2',\n",
        "                        'Golden Steel','Wildfire S','2016 Edition Galaxy','Red Rice 3','Pepper X3','Honor Tablet T1-','Great God Note','7295A Youth Edition','Big Q Note','mwah','Pepper M2','Golden Warrior Note8',\n",
        "                        'Hyunying S+','Fenghua 3','TALK 7X Quad Core','2016 version of Galaxy','Tianjian T1','Saturn One','Maimang 3S','Pegasus','Lenovo VIBE X2','Mighty 3','Red pepper capricious version',\n",
        "                        'Pepper 9','Grand View 4','Super Phone Max','Star 2','Thunder Fighter','Mighty 3C','Allure L3','Z9 mini Elite Edition','Chili S1','Pepper 5','T03 Frontier Edition','Fun 2C','Momada 3S','Lemeng K31','Golden Fighter S8 Play Edition',\n",
        "                        'Fashionable phone']"
      ],
      "id": "e705aa93"
    },
    {
      "cell_type": "code",
      "execution_count": null,
      "metadata": {
        "colab": {
          "background_save": true
        },
        "id": "fd7fe4ff"
      },
      "outputs": [],
      "source": [
        "# Device name Chinese to English\n",
        "phone_brand_device_model['device_model'] = phone_brand_device_model['device_model'].replace(to_replace = ['红米Note2','红米Note3','大神F1Plus','note顶配版','星星1号','红米note', '青春版','荣耀4A','魅蓝Note 2',\n",
        "                        '荣耀7i','荣耀畅玩4C','红米2A','荣耀畅玩5','荣耀7',  '红米1S','麦芒4','荣耀6','荣耀畅玩4X','荣耀3X畅玩版','荣耀X2',\n",
        "                        '魅蓝NOTE','荣耀6 Plus','荣耀+','荣耀畅玩4','黄金斗士A8','小米note','荣耀3C','小米4C','红米note增强版','天鉴W900', '荣耀畅玩5X',\n",
        "                        '红米2','大神F1','魅蓝2','Mate 7 青春版','乐檬K3 Note','火星一号','乐檬K3', '联想黄金斗士S8','大神F2','魅蓝','荣耀6 plus','大神F2全高清版',\n",
        "                        '灵感XL','旗舰版','坚果手机','红米', '超级手机1 Pro','畅享5','魅蓝metal','超级手机1','超级手机1s','荣耀U8860','纽扣','荣耀畅玩平板T1', '红辣椒 X1',\n",
        "                        '春雷HD','ivvi 小i','荣耀畅玩4C运动版','麦芒3','小鲜2','大器2', '锋尚','大神X7','小苹果','乐玩','大神Note3','么么哒3N','锋尚Pro','红辣椒','荣耀3X',\n",
        "                        '三星big foot','荣耀3C畅玩版','ivvi 小骨Pro', '红辣椒XM', '远航3', 'My 布拉格', 'metal 标准版', '畅享5S', '红辣椒Note', '锋尚Max', '2016版 Galaxy', '红牛V5', \n",
        "                        '2016版 Galaxy', '锋尚2','金钢','野火S','2016版 Galaxy','红米3','小辣椒 X3','荣耀平板T1-','大神Note','7295A青春版','大Q Note','么么哒',\n",
        "                        '小辣椒 M2','黄金斗士Note8','炫影S+','风华3','TALK 7X四核','2016版 Galaxy', '天鉴T1','土星一号', '麦芒3S','飞马','联想VIBE X2', '威武3', '红辣椒任性版',\n",
        "                        '小辣椒 9', '大观4', '超级手机Max','星星2号','雷霆战机','威武3C', '倾城L3','Z9 mini 精英版','小辣椒S1', '小辣椒 5','T03锋至版','乐玩2C','么么哒3S','乐K31',\n",
        " '黄金斗士S8畅玩版','时尚手机'],\n",
        "                            value= ['Redmi Note2', 'Redmi Note3', 'Great God F1Plus', 'note top version', 'Star 1', 'Redmi note',\n",
        "                        'Youth Edition','Honor 4A','Meizu Note 2','Honor 7i','Honor Play 4C','Redmi 2A','Honor Play 5','Honor 7',\n",
        "                        'Redmi 1S', 'Maimang 4', 'Honor 6', 'Honor Play 4X', 'Honor 3X Play Edition', 'Honor X2', 'Mei Lan NOTE', 'Honor 6 Plus',\n",
        "                        'Honor+', 'Honor Play 4', 'Golden Fighter A8', 'Xiaomi Note', 'Honor 3C', 'Xiaomi 4C', 'Redmi Note Enhanced Edition', 'Tianjian W900',\n",
        "                        'Honor Play 5X','Red Rice 2','Great God F1','Meizu 2','Mate 7 Youth Edition','Lemeng K3 Note','Mars One','Lemeng K3',\n",
        "                        'Lenovo Gold Fighter S8', 'Dashen F2', 'Charm Blue', 'Honor 6 plus', 'Dashen F2 Full HD Version', 'Inspiration XL', 'Ultimate Edition', 'Nut Phone', 'Red Rice' ,\n",
        "                        'Super Phone 1 Pro', 'Enjoy 5', 'Meizu Metal', 'Super Phone 1', 'Super Phone 1s', 'Honor U8860', 'Button', 'Honor Play Tablet T1',\n",
        "                        'Red Pepper X1', 'Chunlei HD', 'ivvi Xiaoi', 'Honor Play 4C Sports Edition', 'Maimang 3', 'Xiaoxian 2','Big 2','Feng Shang',\n",
        "                        'Great God X7','Little Apple','Have fun','Great God Note3','Momoda 3N','Fengshang Pro','Red chilli','Honor 3X','Samsung big foot','Honor 3C Play Edition','ivvi Osicles Pro',\n",
        "                        'Red Pepper XM','voyage 3','My Prague','metal Standard Edition','Enjoy 5S','Red Pepper Note','Feng Shang Max','2016 Edition Galaxy','Red Bull V5',\n",
        "                        '2016 Edition Galaxy','Feng Shang 2','Golden Steel','Wildfire S','2016 Edition Galaxy','Red Rice 3','Pepper X3','Honor Tablet T1-','Great God Note','7295A Youth Edition','Big Q Note',\n",
        "                        'mwah','Pepper M2','Golden Warrior Note8','Hyunying S+','Fenghua 3','TALK 7X Quad Core','2016 version of Galaxy','Tianjian T1','Saturn One','Maimang 3S','Pegasus','Lenovo VIBE X2','Mighty 3',\n",
        "                        'Red pepper capricious version','Pepper 9','Grand View 4','Super Phone Max','Star 2','Thunder Fighter','Mighty 3C','Allure L3','Z9 mini Elite Edition','Chili S1','Pepper 5','T03 Frontier Edition','Fun 2C','Momada 3S',\n",
        "                        'Lemeng K31','Golden Fighter S8 Play Edition','Fashionable phone'])"
      ],
      "id": "fd7fe4ff"
    },
    {
      "cell_type": "code",
      "execution_count": null,
      "metadata": {
        "colab": {
          "background_save": true
        },
        "id": "ce7d6789"
      },
      "outputs": [],
      "source": [
        "# Device Model\n",
        "fig, ax = plt.subplots(figsize = (12,6))\n",
        "\n",
        "sns.barplot(x =phone_brand_device_model['device_model'].value_counts().keys()[:50], y=phone_brand_device_model['device_model'].value_counts()[:50])\n",
        "plt.xlabel('Model Name')\n",
        "plt.ylabel('Counts')\n",
        "plt.title('Model')\n",
        "plt.xticks(rotation = 90)\n",
        "plt.show()"
      ],
      "id": "ce7d6789"
    },
    {
      "cell_type": "markdown",
      "metadata": {
        "id": "15799cdf"
      },
      "source": [
        "#### Observations:\n",
        "-\n",
        "-\n",
        "-\n",
        "-"
      ],
      "id": "15799cdf"
    },
    {
      "cell_type": "code",
      "execution_count": null,
      "metadata": {
        "colab": {
          "background_save": true
        },
        "id": "e1df4dfb"
      },
      "outputs": [],
      "source": [
        "events_data = raw_data[raw_data['longitude'] >69.5]"
      ],
      "id": "e1df4dfb"
    },
    {
      "cell_type": "code",
      "execution_count": null,
      "metadata": {
        "colab": {
          "background_save": true
        },
        "id": "43f88760"
      },
      "outputs": [],
      "source": [
        "events_data.head()"
      ],
      "id": "43f88760"
    },
    {
      "cell_type": "code",
      "execution_count": null,
      "metadata": {
        "colab": {
          "background_save": true
        },
        "id": "b7393278"
      },
      "outputs": [],
      "source": [
        "age_data = gender_age_train\n",
        "phone_data = phone_brand_device_model"
      ],
      "id": "b7393278"
    },
    {
      "cell_type": "code",
      "execution_count": null,
      "metadata": {
        "colab": {
          "background_save": true
        },
        "id": "663bf1e8"
      },
      "outputs": [],
      "source": [
        "events_data.info(show_counts = True)"
      ],
      "id": "663bf1e8"
    },
    {
      "cell_type": "code",
      "execution_count": null,
      "metadata": {
        "colab": {
          "background_save": true
        },
        "id": "6acecd00",
        "scrolled": true
      },
      "outputs": [],
      "source": [
        "events_data.isna().sum()"
      ],
      "id": "6acecd00"
    },
    {
      "cell_type": "code",
      "execution_count": null,
      "metadata": {
        "colab": {
          "background_save": true
        },
        "id": "d6444e61"
      },
      "outputs": [],
      "source": [
        "age_data.info()"
      ],
      "id": "d6444e61"
    },
    {
      "cell_type": "code",
      "execution_count": null,
      "metadata": {
        "colab": {
          "background_save": true
        },
        "id": "c79cbb16"
      },
      "outputs": [],
      "source": [
        "phone_data.info()"
      ],
      "id": "c79cbb16"
    },
    {
      "cell_type": "code",
      "execution_count": null,
      "metadata": {
        "colab": {
          "background_save": true
        },
        "id": "2592bb07"
      },
      "outputs": [],
      "source": [
        "age_data['age'].plot.hist(figsize = 12,5)"
      ],
      "id": "2592bb07"
    },
    {
      "cell_type": "code",
      "execution_count": null,
      "metadata": {
        "colab": {
          "background_save": true
        },
        "id": "8a54da12"
      },
      "outputs": [],
      "source": [
        "# Age\n",
        "fig, ax = plt.subplots(figsize = (12,6))\n",
        "\n",
        "sns.histplot(age_data['age'], color = '#9B0065', bins = 50, kde = True)\n",
        "plt.xlabel('Age')\n",
        "plt.ylabel('Frequency')\n",
        "plt.title('Age Distribution')\n",
        "plt.show()"
      ],
      "id": "8a54da12"
    },
    {
      "cell_type": "code",
      "execution_count": null,
      "metadata": {
        "colab": {
          "background_save": true
        },
        "id": "0781f46f"
      },
      "outputs": [],
      "source": [
        "# First quartile (Q1)\n",
        "Q1 = np.percentile(age_data['age'], 25, interpolation = 'midpoint')\n",
        "  \n",
        "# Third quartile (Q3)\n",
        "Q3 = np.percentile(age_data['age'], 75, interpolation = 'midpoint')\n",
        "  \n",
        "# Interquaritle range (IQR)\n",
        "IQR = Q3 - Q1\n",
        "  \n",
        "print(IQR)\n",
        "print(Q1)\n",
        "print(Q3)"
      ],
      "id": "0781f46f"
    },
    {
      "cell_type": "code",
      "execution_count": null,
      "metadata": {
        "colab": {
          "background_save": true
        },
        "id": "9a08f54a"
      },
      "outputs": [],
      "source": [
        "events_data_impute=raw_data.filter(['event_id','device_id','longitude','latitude'],axis=1)"
      ],
      "id": "9a08f54a"
    },
    {
      "cell_type": "code",
      "execution_count": null,
      "metadata": {
        "colab": {
          "background_save": true
        },
        "id": "23074df4"
      },
      "outputs": [],
      "source": [
        "from sklearn.impute import SimpleImputer\n",
        "imr = SimpleImputer(missing_values=np.nan, strategy='most_frequent')\n",
        "imr = imr.fit(events_data_impute.values)\n",
        "imputed_data = imr.transform(events_data_impute.values)\n",
        "print (imputed_data)"
      ],
      "id": "23074df4"
    },
    {
      "cell_type": "code",
      "execution_count": null,
      "metadata": {
        "colab": {
          "background_save": true
        },
        "id": "de6f7e2e"
      },
      "outputs": [],
      "source": [
        "events_data_filled = pd.DataFrame(data=imputed_data, columns=[\"event_id\", \"device_id\",\"longitude\",\"latitude\"])"
      ],
      "id": "de6f7e2e"
    },
    {
      "cell_type": "code",
      "execution_count": null,
      "metadata": {
        "colab": {
          "background_save": true
        },
        "id": "042a3eb6"
      },
      "outputs": [],
      "source": [
        "events_data_filled.head()"
      ],
      "id": "042a3eb6"
    },
    {
      "cell_type": "code",
      "execution_count": null,
      "metadata": {
        "colab": {
          "background_save": true
        },
        "id": "a20b0511"
      },
      "outputs": [],
      "source": [
        "events_data_filled.isna().sum()"
      ],
      "id": "a20b0511"
    },
    {
      "cell_type": "code",
      "execution_count": null,
      "metadata": {
        "colab": {
          "background_save": true
        },
        "id": "b4833297"
      },
      "outputs": [],
      "source": [
        "events_data_filled.info()"
      ],
      "id": "b4833297"
    },
    {
      "cell_type": "code",
      "execution_count": null,
      "metadata": {
        "colab": {
          "background_save": true
        },
        "id": "dc9cac02"
      },
      "outputs": [],
      "source": [
        "events_data_imputed=pd.merge(raw_data,events_data_filled,on=['event_id'])"
      ],
      "id": "dc9cac02"
    },
    {
      "cell_type": "code",
      "execution_count": null,
      "metadata": {
        "colab": {
          "background_save": true
        },
        "id": "e65126f4"
      },
      "outputs": [],
      "source": [
        "events_data_imputed.head()"
      ],
      "id": "e65126f4"
    },
    {
      "cell_type": "code",
      "execution_count": null,
      "metadata": {
        "colab": {
          "background_save": true
        },
        "id": "79f88136"
      },
      "outputs": [],
      "source": [
        "events_data_imputed.isnull().sum()"
      ],
      "id": "79f88136"
    },
    {
      "cell_type": "code",
      "execution_count": null,
      "metadata": {
        "colab": {
          "background_save": true
        },
        "id": "c8e5af90"
      },
      "outputs": [],
      "source": [
        "events_data_imputed.drop(['device_id_x', 'longitude_x', 'latitude_x'], axis=1, inplace=True)"
      ],
      "id": "c8e5af90"
    },
    {
      "cell_type": "code",
      "execution_count": null,
      "metadata": {
        "colab": {
          "background_save": true
        },
        "id": "681a2c7a"
      },
      "outputs": [],
      "source": [
        "events_data_imputed.rename(columns={'device_id_y': 'device_id', 'longitude_y': 'longitude', 'latitude_y': 'latitude'}, inplace=True)"
      ],
      "id": "681a2c7a"
    },
    {
      "cell_type": "code",
      "execution_count": null,
      "metadata": {
        "colab": {
          "background_save": true
        },
        "id": "a39143ca"
      },
      "outputs": [],
      "source": [
        "events_data_imputed.isnull().sum()"
      ],
      "id": "a39143ca"
    },
    {
      "cell_type": "code",
      "execution_count": null,
      "metadata": {
        "colab": {
          "background_save": true
        },
        "id": "cdaba535"
      },
      "outputs": [],
      "source": [
        "#events_data_imputed.drop(['latitude_x'], axis=1, inplace=True)"
      ],
      "id": "cdaba535"
    },
    {
      "cell_type": "code",
      "execution_count": null,
      "metadata": {
        "colab": {
          "background_save": true
        },
        "id": "be1db714"
      },
      "outputs": [],
      "source": [
        "events_data_imputed.isnull().sum()"
      ],
      "id": "be1db714"
    },
    {
      "cell_type": "code",
      "execution_count": null,
      "metadata": {
        "colab": {
          "background_save": true
        },
        "id": "582ecda7"
      },
      "outputs": [],
      "source": [
        "events_data_imputed.info()"
      ],
      "id": "582ecda7"
    },
    {
      "cell_type": "markdown",
      "metadata": {
        "id": "c6c9efbb"
      },
      "source": [
        "# TASK 3:\n",
        "    1. Do an Analysis of the preprocessed data.\n",
        "\n",
        "\n",
        "Here are the points about how Analysis should be done:\n",
        "\n",
        "\n",
        "1. Distribution of Users(device_id) across States.\n",
        "\n",
        "\n",
        "2. Distribution of Users across Phone Brands(Consider only 10 Most used Phone Brands).\n",
        "\n",
        "\n",
        "3. Distribution of Users across Gender.\n",
        "\n",
        "\n",
        "4. Distribution of Users across Age Segments.\n",
        "\n",
        "\n",
        "5. Distribution of Phone Brands(Consider only 10 Most used Phone Brands) for each Age Segment, State, Gender.\n",
        "\n",
        "\n",
        "6. Distribution of Gender for each State, Age Segment and Phone Brand(Consider only 10 Most used Phone Brands).\n",
        "\n",
        "\n",
        "7. Distribution of Age Segments for each State, Gender and Phone Brand(Consider only 10 Most used Phone Brands).\n",
        "\n",
        "\n",
        "\n",
        "Note: While doing analysis for the above points, consider only one instance of a particular User(device_id) as a User can do multiple phone calls and considering every instance of the same User can give misleading numbers.\n",
        "\n",
        "\n",
        "8. Hourly distribution of Phone Calls.\n",
        "\n",
        "\n",
        "9. Plot the Users on the Map using any suitable package."
      ],
      "id": "c6c9efbb"
    },
    {
      "cell_type": "markdown",
      "metadata": {
        "id": "269119fd"
      },
      "source": [
        "1. Distribution of Users(device_id) across States."
      ],
      "id": "269119fd"
    },
    {
      "cell_type": "code",
      "execution_count": null,
      "metadata": {
        "colab": {
          "background_save": true
        },
        "id": "e6cc8ac6"
      },
      "outputs": [],
      "source": [
        "event_unique_device_id = events_data_imputed.drop_duplicates(['device_id'])"
      ],
      "id": "e6cc8ac6"
    },
    {
      "cell_type": "code",
      "execution_count": null,
      "metadata": {
        "colab": {
          "background_save": true
        },
        "id": "cd5e9d7d"
      },
      "outputs": [],
      "source": [
        "event_unique_device_id['device_id'].nunique()"
      ],
      "id": "cd5e9d7d"
    },
    {
      "cell_type": "code",
      "execution_count": null,
      "metadata": {
        "colab": {
          "background_save": true
        },
        "id": "cd3f09b9"
      },
      "outputs": [],
      "source": [
        "event_unique_device_id['device_id']"
      ],
      "id": "cd3f09b9"
    },
    {
      "cell_type": "code",
      "execution_count": null,
      "metadata": {
        "colab": {
          "background_save": true
        },
        "id": "89de0e42"
      },
      "outputs": [],
      "source": [
        "fig, ax = plt.subplots(figsize = (12,6))\n",
        "\n",
        "sns.barplot(data=event_unique_device_id, x=\"state\", y=\"device_id\")\n",
        "plt.xlabel('state Name')\n",
        "plt.ylabel('device_id')\n",
        "plt.title('device_id vs state')\n",
        "plt.xticks(rotation = 90)\n",
        "plt.show()"
      ],
      "id": "89de0e42"
    },
    {
      "cell_type": "markdown",
      "metadata": {
        "id": "c59810f3"
      },
      "source": [
        "# 2.  Distribution of Users across Phone Brands(Consider only 10 Most used Phone Brands)."
      ],
      "id": "c59810f3"
    },
    {
      "cell_type": "code",
      "execution_count": null,
      "metadata": {
        "colab": {
          "background_save": true
        },
        "id": "38f77439"
      },
      "outputs": [],
      "source": [
        "fig, ax = plt.subplots(figsize = (12, 6))\n",
        "sns.barplot(x = phone_data['phone_brand'].value_counts().keys()[:10], y = phone_data['phone_brand'].value_counts()[:10], color = 'r')\n",
        "\n",
        "plt.show()"
      ],
      "id": "38f77439"
    },
    {
      "cell_type": "code",
      "execution_count": null,
      "metadata": {
        "colab": {
          "background_save": true
        },
        "id": "0614f585"
      },
      "outputs": [],
      "source": [
        "top_10_phone_data = phone_data['phone_brand'].value_counts()[:10].to_frame()"
      ],
      "id": "0614f585"
    },
    {
      "cell_type": "code",
      "execution_count": null,
      "metadata": {
        "colab": {
          "background_save": true
        },
        "id": "3d8a4175"
      },
      "outputs": [],
      "source": [
        "top_10_phone_data.info()"
      ],
      "id": "3d8a4175"
    },
    {
      "cell_type": "code",
      "execution_count": null,
      "metadata": {
        "colab": {
          "background_save": true
        },
        "id": "b14d22f0"
      },
      "outputs": [],
      "source": [
        "sns.histplot(phone_data, x = \"device_id\", hue = \"phone_brand\")\n",
        "plt.show()"
      ],
      "id": "b14d22f0"
    },
    {
      "cell_type": "markdown",
      "metadata": {
        "id": "6e09dc46"
      },
      "source": [
        "# MERGING ALL THREE DATASETS"
      ],
      "id": "6e09dc46"
    },
    {
      "cell_type": "code",
      "execution_count": null,
      "metadata": {
        "colab": {
          "background_save": true
        },
        "id": "b012a893"
      },
      "outputs": [],
      "source": [
        "event_gender = pd.merge(events_data, age_data, how = \"inner\", left_index=True, right_index=True)"
      ],
      "id": "b012a893"
    },
    {
      "cell_type": "code",
      "execution_count": null,
      "metadata": {
        "colab": {
          "background_save": true
        },
        "id": "27be7a58"
      },
      "outputs": [],
      "source": [
        "event_gender.info()"
      ],
      "id": "27be7a58"
    },
    {
      "cell_type": "code",
      "execution_count": null,
      "metadata": {
        "colab": {
          "background_save": true
        },
        "id": "44873150"
      },
      "outputs": [],
      "source": [
        "all_one = pd.merge(event_gender, phone_data, how = \"inner\", left_index=True, right_index=True)"
      ],
      "id": "44873150"
    },
    {
      "cell_type": "code",
      "execution_count": null,
      "metadata": {
        "colab": {
          "background_save": true
        },
        "id": "b4e89c02"
      },
      "outputs": [],
      "source": [
        "all_one.info()"
      ],
      "id": "b4e89c02"
    },
    {
      "cell_type": "code",
      "execution_count": null,
      "metadata": {
        "colab": {
          "background_save": true
        },
        "id": "00c5fbdf"
      },
      "outputs": [],
      "source": [
        "all_one.to_csv(\"all_one\")"
      ],
      "id": "00c5fbdf"
    },
    {
      "cell_type": "code",
      "execution_count": null,
      "metadata": {
        "colab": {
          "background_save": true
        },
        "id": "0e58fbce"
      },
      "outputs": [],
      "source": [
        "all_dashboard_df = all_one[['event_id', 'device_id_x', 'timestamp', 'longitude', 'latitude', 'state']]"
      ],
      "id": "0e58fbce"
    },
    {
      "cell_type": "code",
      "execution_count": null,
      "metadata": {
        "colab": {
          "background_save": true
        },
        "id": "1efaf92a",
        "outputId": "d2407afd-428a-4ce2-b5ae-880a7b194a74"
      },
      "outputs": [
        {
          "ename": "FileNotFoundError",
          "evalue": "ignored",
          "output_type": "error",
          "traceback": [
            "\u001b[0;31m---------------------------------------------------------------------------\u001b[0m",
            "\u001b[0;31mFileNotFoundError\u001b[0m                         Traceback (most recent call last)",
            "\u001b[0;32m<ipython-input-158-437d61547015>\u001b[0m in \u001b[0;36m<module>\u001b[0;34m()\u001b[0m\n\u001b[0;32m----> 1\u001b[0;31m \u001b[0mall_dashboard_df\u001b[0m\u001b[0;34m.\u001b[0m\u001b[0mto_csv\u001b[0m\u001b[0;34m(\u001b[0m\u001b[0;34m\"\"\u001b[0m\u001b[0;34m)\u001b[0m\u001b[0;34m\u001b[0m\u001b[0;34m\u001b[0m\u001b[0m\n\u001b[0m",
            "\u001b[0;32m/usr/local/lib/python3.7/dist-packages/pandas/core/generic.py\u001b[0m in \u001b[0;36mto_csv\u001b[0;34m(self, path_or_buf, sep, na_rep, float_format, columns, header, index, index_label, mode, encoding, compression, quoting, quotechar, line_terminator, chunksize, date_format, doublequote, escapechar, decimal, errors, storage_options)\u001b[0m\n\u001b[1;32m   3480\u001b[0m             \u001b[0mdoublequote\u001b[0m\u001b[0;34m=\u001b[0m\u001b[0mdoublequote\u001b[0m\u001b[0;34m,\u001b[0m\u001b[0;34m\u001b[0m\u001b[0;34m\u001b[0m\u001b[0m\n\u001b[1;32m   3481\u001b[0m             \u001b[0mescapechar\u001b[0m\u001b[0;34m=\u001b[0m\u001b[0mescapechar\u001b[0m\u001b[0;34m,\u001b[0m\u001b[0;34m\u001b[0m\u001b[0;34m\u001b[0m\u001b[0m\n\u001b[0;32m-> 3482\u001b[0;31m             \u001b[0mstorage_options\u001b[0m\u001b[0;34m=\u001b[0m\u001b[0mstorage_options\u001b[0m\u001b[0;34m,\u001b[0m\u001b[0;34m\u001b[0m\u001b[0;34m\u001b[0m\u001b[0m\n\u001b[0m\u001b[1;32m   3483\u001b[0m         )\n\u001b[1;32m   3484\u001b[0m \u001b[0;34m\u001b[0m\u001b[0m\n",
            "\u001b[0;32m/usr/local/lib/python3.7/dist-packages/pandas/io/formats/format.py\u001b[0m in \u001b[0;36mto_csv\u001b[0;34m(self, path_or_buf, encoding, sep, columns, index_label, mode, compression, quoting, quotechar, line_terminator, chunksize, date_format, doublequote, escapechar, errors, storage_options)\u001b[0m\n\u001b[1;32m   1103\u001b[0m             \u001b[0mformatter\u001b[0m\u001b[0;34m=\u001b[0m\u001b[0mself\u001b[0m\u001b[0;34m.\u001b[0m\u001b[0mfmt\u001b[0m\u001b[0;34m,\u001b[0m\u001b[0;34m\u001b[0m\u001b[0;34m\u001b[0m\u001b[0m\n\u001b[1;32m   1104\u001b[0m         )\n\u001b[0;32m-> 1105\u001b[0;31m         \u001b[0mcsv_formatter\u001b[0m\u001b[0;34m.\u001b[0m\u001b[0msave\u001b[0m\u001b[0;34m(\u001b[0m\u001b[0;34m)\u001b[0m\u001b[0;34m\u001b[0m\u001b[0;34m\u001b[0m\u001b[0m\n\u001b[0m\u001b[1;32m   1106\u001b[0m \u001b[0;34m\u001b[0m\u001b[0m\n\u001b[1;32m   1107\u001b[0m         \u001b[0;32mif\u001b[0m \u001b[0mcreated_buffer\u001b[0m\u001b[0;34m:\u001b[0m\u001b[0;34m\u001b[0m\u001b[0;34m\u001b[0m\u001b[0m\n",
            "\u001b[0;32m/usr/local/lib/python3.7/dist-packages/pandas/io/formats/csvs.py\u001b[0m in \u001b[0;36msave\u001b[0;34m(self)\u001b[0m\n\u001b[1;32m    241\u001b[0m             \u001b[0merrors\u001b[0m\u001b[0;34m=\u001b[0m\u001b[0mself\u001b[0m\u001b[0;34m.\u001b[0m\u001b[0merrors\u001b[0m\u001b[0;34m,\u001b[0m\u001b[0;34m\u001b[0m\u001b[0;34m\u001b[0m\u001b[0m\n\u001b[1;32m    242\u001b[0m             \u001b[0mcompression\u001b[0m\u001b[0;34m=\u001b[0m\u001b[0mself\u001b[0m\u001b[0;34m.\u001b[0m\u001b[0mcompression\u001b[0m\u001b[0;34m,\u001b[0m\u001b[0;34m\u001b[0m\u001b[0;34m\u001b[0m\u001b[0m\n\u001b[0;32m--> 243\u001b[0;31m             \u001b[0mstorage_options\u001b[0m\u001b[0;34m=\u001b[0m\u001b[0mself\u001b[0m\u001b[0;34m.\u001b[0m\u001b[0mstorage_options\u001b[0m\u001b[0;34m,\u001b[0m\u001b[0;34m\u001b[0m\u001b[0;34m\u001b[0m\u001b[0m\n\u001b[0m\u001b[1;32m    244\u001b[0m         ) as handles:\n\u001b[1;32m    245\u001b[0m \u001b[0;34m\u001b[0m\u001b[0m\n",
            "\u001b[0;32m/usr/local/lib/python3.7/dist-packages/pandas/io/common.py\u001b[0m in \u001b[0;36mget_handle\u001b[0;34m(path_or_buf, mode, encoding, compression, memory_map, is_text, errors, storage_options)\u001b[0m\n\u001b[1;32m    705\u001b[0m                 \u001b[0mencoding\u001b[0m\u001b[0;34m=\u001b[0m\u001b[0mioargs\u001b[0m\u001b[0;34m.\u001b[0m\u001b[0mencoding\u001b[0m\u001b[0;34m,\u001b[0m\u001b[0;34m\u001b[0m\u001b[0;34m\u001b[0m\u001b[0m\n\u001b[1;32m    706\u001b[0m                 \u001b[0merrors\u001b[0m\u001b[0;34m=\u001b[0m\u001b[0merrors\u001b[0m\u001b[0;34m,\u001b[0m\u001b[0;34m\u001b[0m\u001b[0;34m\u001b[0m\u001b[0m\n\u001b[0;32m--> 707\u001b[0;31m                 \u001b[0mnewline\u001b[0m\u001b[0;34m=\u001b[0m\u001b[0;34m\"\"\u001b[0m\u001b[0;34m,\u001b[0m\u001b[0;34m\u001b[0m\u001b[0;34m\u001b[0m\u001b[0m\n\u001b[0m\u001b[1;32m    708\u001b[0m             )\n\u001b[1;32m    709\u001b[0m         \u001b[0;32melse\u001b[0m\u001b[0;34m:\u001b[0m\u001b[0;34m\u001b[0m\u001b[0;34m\u001b[0m\u001b[0m\n",
            "\u001b[0;31mFileNotFoundError\u001b[0m: [Errno 2] No such file or directory: ''"
          ]
        }
      ],
      "source": [
        "all_dashboard_df.to_csv(\"\")"
      ],
      "id": "1efaf92a"
    },
    {
      "cell_type": "code",
      "execution_count": null,
      "metadata": {
        "colab": {
          "background_save": true,
          "base_uri": "https://localhost:8080/"
        },
        "id": "27f30d83",
        "outputId": "f23895c6-31db-4174-dbee-13b3a7b9c802"
      },
      "outputs": [
        {
          "data": {
            "text/plain": [
              "<matplotlib.axes._subplots.AxesSubplot at 0x7fd391197190>"
            ]
          },
          "execution_count": null,
          "metadata": {},
          "output_type": "execute_result"
        },
        {
          "data": {
            "image/png": "[encoded data removed]",
            "text/plain": [
              "<Figure size 1152x432 with 1 Axes>"
            ]
          },
          "metadata": {},
          "output_type": "display_data"
        }
      ],
      "source": [
        "all_one.groupby(['state','device_id'])['device_id'].count().plot.bar(figsize=(16,6))"
      ],
      "id": "27f30d83"
    },
    {
      "cell_type": "code",
      "execution_count": null,
      "metadata": {
        "colab": {
          "background_save": true
        },
        "id": "6bcd2878",
        "outputId": "7df2e5c9-2187-4484-a60d-06716bea42d8"
      },
      "outputs": [
        {
          "data": {
            "text/html": [
              "\n",
              "  <div id=\"df-ff481b6b-843b-4d1f-95c4-fd2603985bd9\">\n",
              "    <div class=\"colab-df-container\">\n",
              "      <div>\n",
              "<style scoped>\n",
              "    .dataframe tbody tr th:only-of-type {\n",
              "        vertical-align: middle;\n",
              "    }\n",
              "\n",
              "    .dataframe tbody tr th {\n",
              "        vertical-align: top;\n",
              "    }\n",
              "\n",
              "    .dataframe thead th {\n",
              "        text-align: right;\n",
              "    }\n",
              "</style>\n",
              "<table border=\"1\" class=\"dataframe\">\n",
              "  <thead>\n",
              "    <tr style=\"text-align: right;\">\n",
              "      <th></th>\n",
              "      <th>event_id</th>\n",
              "      <th>device_id_x</th>\n",
              "      <th>timestamp</th>\n",
              "      <th>longitude</th>\n",
              "      <th>latitude</th>\n",
              "      <th>city</th>\n",
              "      <th>state</th>\n",
              "      <th>device_id_y</th>\n",
              "      <th>gender</th>\n",
              "      <th>age</th>\n",
              "      <th>group</th>\n",
              "      <th>device_id</th>\n",
              "      <th>phone_brand</th>\n",
              "      <th>device_model</th>\n",
              "    </tr>\n",
              "  </thead>\n",
              "  <tbody>\n",
              "    <tr>\n",
              "      <th>0</th>\n",
              "      <td>2765368</td>\n",
              "      <td>2.973348e+18</td>\n",
              "      <td>2016-05-07 22:52:05</td>\n",
              "      <td>77.225676</td>\n",
              "      <td>28.730140</td>\n",
              "      <td>Delhi</td>\n",
              "      <td>Delhi</td>\n",
              "      <td>8076087639492063270</td>\n",
              "      <td>M</td>\n",
              "      <td>35</td>\n",
              "      <td>M32-38</td>\n",
              "      <td>1.877780e+18</td>\n",
              "      <td>vivo</td>\n",
              "      <td>Y13</td>\n",
              "    </tr>\n",
              "    <tr>\n",
              "      <th>1</th>\n",
              "      <td>2955066</td>\n",
              "      <td>4.734221e+18</td>\n",
              "      <td>2016-05-01 20:44:16</td>\n",
              "      <td>88.388361</td>\n",
              "      <td>22.660325</td>\n",
              "      <td>Calcutta</td>\n",
              "      <td>WestBengal</td>\n",
              "      <td>2897161552818060146</td>\n",
              "      <td>M</td>\n",
              "      <td>35</td>\n",
              "      <td>M32-38</td>\n",
              "      <td>3.766090e+18</td>\n",
              "      <td>Xiaomi</td>\n",
              "      <td>V183</td>\n",
              "    </tr>\n",
              "    <tr>\n",
              "      <th>2</th>\n",
              "      <td>605968</td>\n",
              "      <td>3.264500e+18</td>\n",
              "      <td>2016-05-02 14:23:04</td>\n",
              "      <td>77.256809</td>\n",
              "      <td>28.757906</td>\n",
              "      <td>Delhi</td>\n",
              "      <td>Delhi</td>\n",
              "      <td>8260683887967679142</td>\n",
              "      <td>M</td>\n",
              "      <td>35</td>\n",
              "      <td>M32-38</td>\n",
              "      <td>6.238940e+18</td>\n",
              "      <td>OPPO</td>\n",
              "      <td>R7s</td>\n",
              "    </tr>\n",
              "    <tr>\n",
              "      <th>3</th>\n",
              "      <td>448114</td>\n",
              "      <td>5.731369e+18</td>\n",
              "      <td>2016-05-03 13:21:16</td>\n",
              "      <td>80.343613</td>\n",
              "      <td>13.153332</td>\n",
              "      <td>Chennai</td>\n",
              "      <td>TamilNadu</td>\n",
              "      <td>4938849341048082022</td>\n",
              "      <td>M</td>\n",
              "      <td>30</td>\n",
              "      <td>M29-31</td>\n",
              "      <td>8.973200e+18</td>\n",
              "      <td>Samsung</td>\n",
              "      <td>A368t</td>\n",
              "    </tr>\n",
              "    <tr>\n",
              "      <th>4</th>\n",
              "      <td>665740</td>\n",
              "      <td>3.388880e+17</td>\n",
              "      <td>2016-05-06 03:51:05</td>\n",
              "      <td>85.997745</td>\n",
              "      <td>23.842609</td>\n",
              "      <td>Bokaro</td>\n",
              "      <td>Jharkhand</td>\n",
              "      <td>245133531816851882</td>\n",
              "      <td>M</td>\n",
              "      <td>30</td>\n",
              "      <td>M29-31</td>\n",
              "      <td>2.015530e+18</td>\n",
              "      <td>Xiaomi</td>\n",
              "      <td>Redmi Note2</td>\n",
              "    </tr>\n",
              "  </tbody>\n",
              "</table>\n",
              "</div>\n",
              "      <button class=\"colab-df-convert\" onclick=\"convertToInteractive('df-ff481b6b-843b-4d1f-95c4-fd2603985bd9')\"\n",
              "              title=\"Convert this dataframe to an interactive table.\"\n",
              "              style=\"display:none;\">\n",
              "        \n",
              "  <svg xmlns=\"http://www.w3.org/2000/svg\" height=\"24px\"viewBox=\"0 0 24 24\"\n",
              "       width=\"24px\">\n",
              "    <path d=\"M0 0h24v24H0V0z\" fill=\"none\"/>\n",
              "    <path d=\"M18.56 5.44l.94 2.06.94-2.06 2.06-.94-2.06-.94-.94-2.06-.94 2.06-2.06.94zm-11 1L8.5 8.5l.94-2.06 2.06-.94-2.06-.94L8.5 2.5l-.94 2.06-2.06.94zm10 10l.94 2.06.94-2.06 2.06-.94-2.06-.94-.94-2.06-.94 2.06-2.06.94z\"/><path d=\"M17.41 7.96l-1.37-1.37c-.4-.4-.92-.59-1.43-.59-.52 0-1.04.2-1.43.59L10.3 9.45l-7.72 7.72c-.78.78-.78 2.05 0 2.83L4 21.41c.39.39.9.59 1.41.59.51 0 1.02-.2 1.41-.59l7.78-7.78 2.81-2.81c.8-.78.8-2.07 0-2.86zM5.41 20L4 18.59l7.72-7.72 1.47 1.35L5.41 20z\"/>\n",
              "  </svg>\n",
              "      </button>\n",
              "      \n",
              "  <style>\n",
              "    .colab-df-container {\n",
              "      display:flex;\n",
              "      flex-wrap:wrap;\n",
              "      gap: 12px;\n",
              "    }\n",
              "\n",
              "    .colab-df-convert {\n",
              "      background-color: #E8F0FE;\n",
              "      border: none;\n",
              "      border-radius: 50%;\n",
              "      cursor: pointer;\n",
              "      display: none;\n",
              "      fill: #1967D2;\n",
              "      height: 32px;\n",
              "      padding: 0 0 0 0;\n",
              "      width: 32px;\n",
              "    }\n",
              "\n",
              "    .colab-df-convert:hover {\n",
              "      background-color: #E2EBFA;\n",
              "      box-shadow: 0px 1px 2px rgba(60, 64, 67, 0.3), 0px 1px 3px 1px rgba(60, 64, 67, 0.15);\n",
              "      fill: #174EA6;\n",
              "    }\n",
              "\n",
              "    [theme=dark] .colab-df-convert {\n",
              "      background-color: #3B4455;\n",
              "      fill: #D2E3FC;\n",
              "    }\n",
              "\n",
              "    [theme=dark] .colab-df-convert:hover {\n",
              "      background-color: #434B5C;\n",
              "      box-shadow: 0px 1px 3px 1px rgba(0, 0, 0, 0.15);\n",
              "      filter: drop-shadow(0px 1px 2px rgba(0, 0, 0, 0.3));\n",
              "      fill: #FFFFFF;\n",
              "    }\n",
              "  </style>\n",
              "\n",
              "      <script>\n",
              "        const buttonEl =\n",
              "          document.querySelector('#df-ff481b6b-843b-4d1f-95c4-fd2603985bd9 button.colab-df-convert');\n",
              "        buttonEl.style.display =\n",
              "          google.colab.kernel.accessAllowed ? 'block' : 'none';\n",
              "\n",
              "        async function convertToInteractive(key) {\n",
              "          const element = document.querySelector('#df-ff481b6b-843b-4d1f-95c4-fd2603985bd9');\n",
              "          const dataTable =\n",
              "            await google.colab.kernel.invokeFunction('convertToInteractive',\n",
              "                                                     [key], {});\n",
              "          if (!dataTable) return;\n",
              "\n",
              "          const docLinkHtml = 'Like what you see? Visit the ' +\n",
              "            '<a target=\"_blank\" href=https://colab.research.google.com/notebooks/data_table.ipynb>data table notebook</a>'\n",
              "            + ' to learn more about interactive tables.';\n",
              "          element.innerHTML = '';\n",
              "          dataTable['output_type'] = 'display_data';\n",
              "          await google.colab.output.renderOutput(dataTable, element);\n",
              "          const docLink = document.createElement('div');\n",
              "          docLink.innerHTML = docLinkHtml;\n",
              "          element.appendChild(docLink);\n",
              "        }\n",
              "      </script>\n",
              "    </div>\n",
              "  </div>\n",
              "  "
            ],
            "text/plain": [
              "   event_id   device_id_x           timestamp  longitude   latitude      city  \\\n",
              "0   2765368  2.973348e+18 2016-05-07 22:52:05  77.225676  28.730140     Delhi   \n",
              "1   2955066  4.734221e+18 2016-05-01 20:44:16  88.388361  22.660325  Calcutta   \n",
              "2    605968  3.264500e+18 2016-05-02 14:23:04  77.256809  28.757906     Delhi   \n",
              "3    448114  5.731369e+18 2016-05-03 13:21:16  80.343613  13.153332   Chennai   \n",
              "4    665740  3.388880e+17 2016-05-06 03:51:05  85.997745  23.842609    Bokaro   \n",
              "\n",
              "        state          device_id_y gender  age   group     device_id  \\\n",
              "0       Delhi  8076087639492063270      M   35  M32-38  1.877780e+18   \n",
              "1  WestBengal  2897161552818060146      M   35  M32-38  3.766090e+18   \n",
              "2       Delhi  8260683887967679142      M   35  M32-38  6.238940e+18   \n",
              "3   TamilNadu  4938849341048082022      M   30  M29-31  8.973200e+18   \n",
              "4   Jharkhand   245133531816851882      M   30  M29-31  2.015530e+18   \n",
              "\n",
              "  phone_brand device_model  \n",
              "0        vivo          Y13  \n",
              "1      Xiaomi         V183  \n",
              "2        OPPO          R7s  \n",
              "3     Samsung        A368t  \n",
              "4      Xiaomi  Redmi Note2  "
            ]
          },
          "execution_count": null,
          "metadata": {},
          "output_type": "execute_result"
        }
      ],
      "source": [
        "all_one.head()"
      ],
      "id": "6bcd2878"
    },
    {
      "cell_type": "code",
      "execution_count": null,
      "metadata": {
        "colab": {
          "background_save": true
        },
        "id": "2fc5897a"
      },
      "outputs": [],
      "source": [
        "all_one.drop('device_id_x', inplace=True, axis=1)"
      ],
      "id": "2fc5897a"
    },
    {
      "cell_type": "code",
      "execution_count": null,
      "metadata": {
        "colab": {
          "background_save": true
        },
        "id": "538182f7"
      },
      "outputs": [],
      "source": [
        "all_one.drop('device_id_y', inplace=True, axis=1)"
      ],
      "id": "538182f7"
    },
    {
      "cell_type": "code",
      "execution_count": null,
      "metadata": {
        "colab": {
          "background_save": true
        },
        "id": "ab54a867"
      },
      "outputs": [],
      "source": [
        "all_one.head(10)"
      ],
      "id": "ab54a867"
    },
    {
      "cell_type": "code",
      "execution_count": null,
      "metadata": {
        "colab": {
          "background_save": true
        },
        "id": "97b80ea8"
      },
      "outputs": [],
      "source": [
        "df_final = all_one[['event_id', 'device_id', 'timestamp', 'longitude', 'latitude', 'state']]"
      ],
      "id": "97b80ea8"
    },
    {
      "cell_type": "code",
      "execution_count": null,
      "metadata": {
        "colab": {
          "background_save": true
        },
        "id": "fd0ba4c6"
      },
      "outputs": [],
      "source": [
        "df_final.to_csv(\"C:/Users/shubh/OneDrive/Desktop/DATA SCIENCE/Data Science INSAID COURSE/Capstone Project 1/myevents.csv\")"
      ],
      "id": "fd0ba4c6"
    },
    {
      "cell_type": "code",
      "execution_count": null,
      "metadata": {
        "colab": {
          "background_save": true
        },
        "id": "2f976874"
      },
      "outputs": [],
      "source": [
        ""
      ],
      "id": "2f976874"
    },
    {
      "cell_type": "code",
      "execution_count": null,
      "metadata": {
        "colab": {
          "background_save": true
        },
        "id": "9f0d8cf6"
      },
      "outputs": [],
      "source": [
        "df_delhi_final = all_one[all_one['state']=='Delhi']\n",
        "print(all_one.info())\n",
        "print(df_delhi_final.info())"
      ],
      "id": "9f0d8cf6"
    },
    {
      "cell_type": "markdown",
      "metadata": {
        "id": "f760a806"
      },
      "source": [
        "Outlier Detection for Latitude and Longitude:"
      ],
      "id": "f760a806"
    },
    {
      "cell_type": "code",
      "execution_count": null,
      "metadata": {
        "colab": {
          "background_save": true
        },
        "id": "77205802"
      },
      "outputs": [],
      "source": [
        "# Creating subset for plotting latitude and longitude in map\n",
        "dataE_map = df_delhi_final[['latitude','longitude','city','state']]\n",
        "\n",
        "# Counting number of duplicates of latitude and longitude\n",
        "count1 = dataE_map.groupby(['latitude', 'longitude']).size() \n",
        "count = pd.DataFrame(count1)\n",
        "count = count.rename(columns={0: 'DuplicateCounts'})\n",
        "count.head()"
      ],
      "id": "77205802"
    },
    {
      "cell_type": "code",
      "execution_count": null,
      "metadata": {
        "colab": {
          "background_save": true
        },
        "id": "44d63928"
      },
      "outputs": [],
      "source": [
        "# Remove  duplicated values \n",
        "dataE_map = dataE_map.drop_duplicates(keep='first')\n",
        "dataE_map.describe(include='all')"
      ],
      "id": "44d63928"
    },
    {
      "cell_type": "code",
      "execution_count": null,
      "metadata": {
        "colab": {
          "background_save": true
        },
        "id": "f0ffa756"
      },
      "outputs": [],
      "source": [
        "# merging the map data with count data to get the duplicatecounts of lat & long\n",
        "dataE_map = pd.merge(left=dataE_map, right=count, on=['latitude', 'longitude'],how='left')\n",
        "dataE_map.head(20)"
      ],
      "id": "f0ffa756"
    },
    {
      "cell_type": "code",
      "execution_count": null,
      "metadata": {
        "colab": {
          "background_save": true
        },
        "id": "f03f6f42"
      },
      "outputs": [],
      "source": [
        "# Plotting latitude & longitude values in map using Folium\n",
        "import statistics as st\n",
        "from scipy import stats\n",
        "long_mode = st.mode(df_delhi_final[df_delhi_final.city == 'Delhi']['longitude'])\n",
        "lat_mode = st.mode(df_delhi_final[df_delhi_final.city == 'Delhi']['latitude'])\n",
        "map_vis = folium.Map(location=[lat_mode, long_mode], zoom_start=5, tiles='Stamen Terrain')\n",
        "# Duplicates quartile is created to show different colors for different no. of duplicates\n",
        "dataE_map['DuplicateCounts_quartile'] = pd.qcut(dataE_map['DuplicateCounts'], 4, labels=False)\n",
        "# Color dictionary is created to distdf_mh_finalinguish the duplicates quartile (red shows more duplicates of lat & long data)\n",
        "colordict = {0: 'blue', 1: 'green', 2: 'orange', 3: 'red'}\n",
        "\n",
        "for lat, lon, Dc, Dc_q, city, state in zip(dataE_map['latitude'], dataE_map['longitude'], dataE_map['DuplicateCounts'], dataE_map['DuplicateCounts_quartile'], dataE_map['city'], dataE_map['state']):\n",
        "    folium.CircleMarker(\n",
        "        [lat, lon],\n",
        "        radius=5,\n",
        "        popup = ('City: ' + str(city).capitalize() + '<br>'\n",
        "                 'State: ' + str(state) + '<br>'\n",
        "                 'Latitude: ' + str(lat) + '<br>'\n",
        "                 'Longitude: ' + str(lon) + '<br>'\n",
        "                 'Lat & Long DuplicateCounts: ' + str(Dc)\n",
        "                ),\n",
        "        color='b',\n",
        "        key_on = Dc_q,\n",
        "        threshold_scale=[0,1,2,3],\n",
        "        fill_color=colordict[Dc_q],\n",
        "        fill=True,\n",
        "        fill_opacity=0.7\n",
        "        ).add_to(map_vis)"
      ],
      "id": "f03f6f42"
    },
    {
      "cell_type": "code",
      "execution_count": null,
      "metadata": {
        "colab": {
          "background_save": true
        },
        "id": "99df1809"
      },
      "outputs": [],
      "source": [
        "# Using latitude zscore value to extract the three latitude outliers (which are outside Delhi)\n",
        "dataE_map2 = dataE_map['latitude']\n",
        "z = np.abs(stats.zscore(dataE_map2))\n",
        "print(z)"
      ],
      "id": "99df1809"
    },
    {
      "cell_type": "markdown",
      "metadata": {
        "id": "1d6cdff0"
      },
      "source": [
        "# ZScore: The Z-score is the signed number of standard deviations by which the value of an observation or data point is above the mean value of what is being observed or measured."
      ],
      "id": "1d6cdff0"
    },
    {
      "cell_type": "code",
      "execution_count": null,
      "metadata": {
        "colab": {
          "background_save": true
        },
        "id": "193a67a3"
      },
      "outputs": [],
      "source": [
        "# Finding the latitude values whose Zscore value > 3\n",
        "dataE_map2 = dataE_map2[(z > 3)]\n",
        "dataE_map2"
      ],
      "id": "193a67a3"
    },
    {
      "cell_type": "code",
      "execution_count": null,
      "metadata": {
        "colab": {
          "background_save": true
        },
        "id": "b4a82013"
      },
      "outputs": [],
      "source": [
        "# Crosschecking the rows of identified latitudes in map data\n",
        "dataE_map3 = dataE_map.isin({'latitude': dataE_map2})['latitude']\n",
        "dataE_map3 = dataE_map[dataE_map3]\n",
        "dataE_map3"
      ],
      "id": "b4a82013"
    },
    {
      "cell_type": "code",
      "execution_count": null,
      "metadata": {
        "colab": {
          "background_save": true
        },
        "id": "5b5fc851"
      },
      "outputs": [],
      "source": [
        "# Plotting latitude & longitude values in map using Folium to crosscheck whether chosen latitude & longitude values are outside maharashtra\n",
        "map_vis1 = folium.Map(location=[lat_mode, long_mode], zoom_start=5, tiles='Stamen Terrain')\n",
        "\n",
        "for lat, lon in zip(dataE_map3['latitude'], dataE_map3['longitude']):\n",
        "    folium.CircleMarker(\n",
        "        [lat, lon],\n",
        "        radius=5,\n",
        "        popup = ('Lat: ' + str(lat) + '<br>'\n",
        "                 'Long: ' + str(lon) + '<br>'\n",
        "        ),\n",
        "        color='blue',\n",
        "        fill=True,\n",
        "        fill_opacity=0.7\n",
        "        ).add_to(map_vis1)\n",
        "map_vis1  "
      ],
      "id": "5b5fc851"
    },
    {
      "cell_type": "markdown",
      "metadata": {
        "id": "0b902eda"
      },
      "source": [
        "Observations:\n",
        "\n",
        "1. The marked location are outside of Delhi which is confirmed\n",
        "2. This lat & long have duplicates values which more data needs to be reviewed\n",
        "3. All chosen locations are in Delhi location so we will replaced with mode values of Delhi latitude & longitude"
      ],
      "id": "0b902eda"
    },
    {
      "cell_type": "code",
      "execution_count": null,
      "metadata": {
        "colab": {
          "background_save": true
        },
        "id": "c1481a55"
      },
      "outputs": [],
      "source": [
        "import statistics as st\n",
        "from scipy import stats\n",
        "# Using latitude zscore value to extract the three latitude outliers (which are outside delhi)\n",
        "\n",
        "df_events_map = raw_data[['latitude','longitude','city','state']]\n",
        "# Counting number of duplicates of latitude and longitude\n",
        "\n",
        "count1 = df_events_map.groupby(['latitude', 'longitude']).size() \n",
        "count = pd.DataFrame(count1)\n",
        "count = count.rename(columns={0: 'DuplicateCounts'})\n",
        "print(count.head())\n",
        "df_events_map = pd.merge(left=df_events_map, right=count, on=['latitude', 'longitude'],how='left')\n",
        "display(df_events_map)\n",
        "\n",
        "dataE_map2 = df_events_map['latitude']\n",
        "display(dataE_map2)\n",
        "z = np.abs(stats.zscore(dataE_map2\n",
        "                       ))\n",
        "print(z)"
      ],
      "id": "c1481a55"
    },
    {
      "cell_type": "code",
      "execution_count": null,
      "metadata": {
        "colab": {
          "background_save": true
        },
        "id": "62ee1ff8"
      },
      "outputs": [],
      "source": [
        "# Finding the latitude values whose Zscore value > 3\n",
        "dataE_map2 = dataE_map2[(z > 3)]\n",
        "dataE_map2"
      ],
      "id": "62ee1ff8"
    },
    {
      "cell_type": "markdown",
      "metadata": {
        "id": "468a1caa"
      },
      "source": [
        "# Outlier Detection and Removal in Age data for Age:\n",
        "    "
      ],
      "id": "468a1caa"
    },
    {
      "cell_type": "code",
      "execution_count": null,
      "metadata": {
        "colab": {
          "background_save": true
        },
        "id": "89de88f9"
      },
      "outputs": [],
      "source": [
        "all_one['age'].plot.hist(figsize = (12,6))"
      ],
      "id": "89de88f9"
    },
    {
      "cell_type": "markdown",
      "metadata": {
        "id": "2a4a1e84"
      },
      "source": [
        "# Observations:\n",
        "\n",
        "1. Unable to locate any outliers as such but we knew that min age is 1 & max age was 96 eariler\n",
        "List item"
      ],
      "id": "2a4a1e84"
    },
    {
      "cell_type": "code",
      "execution_count": null,
      "metadata": {
        "colab": {
          "background_save": true
        },
        "id": "8a1ba531"
      },
      "outputs": [],
      "source": [
        "import plotly as py\n",
        "import plotly.offline as pyoff\n",
        "import plotly.graph_objs as go"
      ],
      "id": "8a1ba531"
    },
    {
      "cell_type": "code",
      "execution_count": null,
      "metadata": {
        "colab": {
          "background_save": true
        },
        "id": "9e231aca"
      },
      "outputs": [],
      "source": [
        "#checking the outliers using Box Plot\n",
        "plot_data = [\n",
        "    go.Box(\n",
        "        x=all_one['age'],fillcolor='rgba(219, 64, 82, 0.6)',)]\n",
        "\n",
        "plot_layout = go.Layout(\n",
        "        title='Age')\n",
        "fig = go.Figure(data=plot_data, layout=plot_layout)\n",
        "pyoff.iplot(fig)"
      ],
      "id": "9e231aca"
    },
    {
      "cell_type": "markdown",
      "metadata": {
        "id": "267d90f6"
      },
      "source": [
        "Observations:\n",
        "\n",
        "1.Median age is near to 30 years\n",
        "2.Minimum age is 1 and Max age 96 close to 100"
      ],
      "id": "267d90f6"
    },
    {
      "cell_type": "markdown",
      "metadata": {
        "id": "543d53db"
      },
      "source": [
        "# After removing Outliers we have reasonable age values in our dataset:"
      ],
      "id": "543d53db"
    },
    {
      "cell_type": "markdown",
      "metadata": {
        "id": "710d9e75"
      },
      "source": [
        "Gender Distribution:"
      ],
      "id": "710d9e75"
    },
    {
      "cell_type": "code",
      "execution_count": null,
      "metadata": {
        "colab": {
          "background_save": true
        },
        "id": "7022b0a5"
      },
      "outputs": [],
      "source": [
        "# Gender\n",
        "fig, ax = plt.subplots(figsize = (10,6))\n",
        "\n",
        "sns.barplot(x =all_one['gender'].value_counts().keys(), y=all_one['gender'].value_counts())\n",
        "plt.xlabel('User by Gender')\n",
        "plt.ylabel('Counts')\n",
        "plt.title('Gender')\n",
        "plt.show()"
      ],
      "id": "7022b0a5"
    },
    {
      "cell_type": "code",
      "execution_count": null,
      "metadata": {
        "colab": {
          "background_save": true
        },
        "id": "12025a87"
      },
      "outputs": [],
      "source": [
        "100*(all_one['gender'].value_counts()/ all_one.shape[0])"
      ],
      "id": "12025a87"
    },
    {
      "cell_type": "markdown",
      "metadata": {
        "id": "92a9d15e"
      },
      "source": [
        "Observations:\n",
        "1. In the given dataset we can observe that Male users are more than Female Users.\n",
        "2. Service users are 64% Male and 35% are Female."
      ],
      "id": "92a9d15e"
    },
    {
      "cell_type": "code",
      "execution_count": null,
      "metadata": {
        "colab": {
          "background_save": true
        },
        "id": "6fe297c2"
      },
      "outputs": [],
      "source": [
        "# Age\n",
        "fig, ax = plt.subplots(figsize = (12,6))\n",
        "\n",
        "sns.histplot(all_one['age'], color = '#FD625E', bins = 50, kde = True)\n",
        "plt.xlabel('Age')\n",
        "plt.ylabel('Frequency')\n",
        "plt.title('Age Distribution')\n",
        "plt.show()"
      ],
      "id": "6fe297c2"
    },
    {
      "cell_type": "markdown",
      "metadata": {
        "id": "6e371890"
      },
      "source": [
        "Observations:\n",
        "1. It is observed that users from 15- 96 Years.\n",
        "2. Users between 20-40 years are high, they are very active user of the service.\n",
        "3. We can also see that there are users between 1-15 and 80-96 years."
      ],
      "id": "6e371890"
    },
    {
      "cell_type": "code",
      "execution_count": null,
      "metadata": {
        "colab": {
          "background_save": true
        },
        "id": "a1f09a0a"
      },
      "outputs": [],
      "source": [
        "#Group\n",
        "fig, ax = plt.subplots(figsize = (12,6))\n",
        "\n",
        "sns.barplot(x =all_one['group'].value_counts().keys(), y=all_one['group'].value_counts())\n",
        "plt.xlabel('Group')\n",
        "plt.ylabel('Counts')\n",
        "plt.title('Age Group')\n",
        "plt.show()"
      ],
      "id": "a1f09a0a"
    },
    {
      "cell_type": "markdown",
      "metadata": {
        "id": "f0336c15"
      },
      "source": [
        "Observations:\n",
        "1. Users between age group 23-26 & 32-38 are high and are Male Users.\n",
        "2. Female Users between age group 33-42 are high."
      ],
      "id": "f0336c15"
    },
    {
      "cell_type": "markdown",
      "metadata": {
        "id": "9aa53100"
      },
      "source": [
        "# Data Pre-Processing"
      ],
      "id": "9aa53100"
    },
    {
      "cell_type": "markdown",
      "metadata": {
        "id": "f882a13f"
      },
      "source": [
        "Task:\n",
        "1. Device_id in all three dataset change from negative to positive using abs().\n",
        "2. Timestamp datatype convert to valid timestamp using pandas to_datetime.\n",
        "3. Find the missing Null values in Device_id, latitude, longitude and State and try to fill these data.\n",
        "4. Phone_brand and Device_model names change from Chinese to English.\n",
        "5. Check for outlier in age and remove it."
      ],
      "id": "f882a13f"
    },
    {
      "cell_type": "code",
      "execution_count": null,
      "metadata": {
        "colab": {
          "background_save": true
        },
        "id": "41f099a2"
      },
      "outputs": [],
      "source": [
        "#converting the type of Date Field from string object to datetime.\n",
        "df_delhi_final['timestamp'] = pd.to_datetime(df_delhi_final['timestamp'])"
      ],
      "id": "41f099a2"
    },
    {
      "cell_type": "code",
      "execution_count": null,
      "metadata": {
        "colab": {
          "background_save": true
        },
        "id": "f2cf6981"
      },
      "outputs": [],
      "source": [
        "#coerce the date, month and year from timestamp column \n",
        "df_delhi_final['date']=df_delhi_final['timestamp'].dt.day\n",
        "df_delhi_final['month']=df_delhi_final['timestamp'].dt.month\n",
        "df_delhi_final['year']=df_delhi_final['timestamp'].dt.year\n",
        "df_delhi_final['hour']=df_delhi_final['timestamp'].dt.hour"
      ],
      "id": "f2cf6981"
    },
    {
      "cell_type": "code",
      "execution_count": null,
      "metadata": {
        "colab": {
          "background_save": true
        },
        "id": "d3ac0efc"
      },
      "outputs": [],
      "source": [
        "df_delhi_final.head()"
      ],
      "id": "d3ac0efc"
    },
    {
      "cell_type": "code",
      "execution_count": null,
      "metadata": {
        "colab": {
          "background_save": true
        },
        "id": "6dacb3ef"
      },
      "outputs": [],
      "source": [
        "#converting the type of Date Field from string object to datetime.\n",
        "all_one['timestamp'] = pd.to_datetime(all_one['timestamp'])"
      ],
      "id": "6dacb3ef"
    },
    {
      "cell_type": "code",
      "execution_count": null,
      "metadata": {
        "colab": {
          "background_save": true
        },
        "id": "3f1bd201"
      },
      "outputs": [],
      "source": [
        "#coerce the date, month and year from timestamp column \n",
        "all_one['date']=all_one['timestamp'].dt.day\n",
        "all_one['month']=all_one['timestamp'].dt.month\n",
        "all_one['year']=all_one['timestamp'].dt.year\n",
        "all_one['hour']=all_one['timestamp'].dt.hour"
      ],
      "id": "3f1bd201"
    },
    {
      "cell_type": "code",
      "execution_count": null,
      "metadata": {
        "colab": {
          "background_save": true
        },
        "id": "74e1bd34"
      },
      "outputs": [],
      "source": [
        "all_one.head()"
      ],
      "id": "74e1bd34"
    },
    {
      "cell_type": "markdown",
      "metadata": {
        "id": "f452f7ec"
      },
      "source": [
        "# Age groups have correct classification"
      ],
      "id": "f452f7ec"
    },
    {
      "cell_type": "code",
      "execution_count": null,
      "metadata": {
        "colab": {
          "background_save": true
        },
        "id": "51c37e66"
      },
      "outputs": [],
      "source": [
        "labels=all_one['group'].unique()\n",
        "print(labels)\n",
        "print(all_one.info())\n",
        "\n",
        "print(all_one.groupby('group').count())\n",
        "\n",
        "print(\"*****************************Calculated Check of Age Group*******************\")\n",
        "print(\"M32-38: \",all_one[(all_one['age']>=32) & (all_one['age']<=38) & (all_one['gender']==\"M\")][\"device_id\"].count())\n",
        "print(\"M29-31: \",all_one[(all_one['age']>=29) & (all_one['age']<=31) & (all_one['gender']==\"M\")][\"device_id\"].count())\n",
        "print(\"F24-26: \",all_one[(all_one['age']>=24) & (all_one['age']<=26) & (all_one['gender']==\"F\")][\"device_id\"].count())\n",
        "print(\"F33-42: \",all_one[(all_one['age']>=33) & (all_one['age']<=42) & (all_one['gender']==\"F\")][\"device_id\"].count())\n",
        "print(\"F27-28: \",all_one[(all_one['age']>=27) & (all_one['age']<=28) & (all_one['gender']==\"F\")][\"device_id\"].count())\n",
        "print(\"M39+: \",all_one[(all_one['age']>=39) & (all_one['gender']==\"M\")][\"device_id\"].count())\n",
        "print(\"M23-26: \",all_one[(all_one['age']>=23) & (all_one['age']<=26) & (all_one['gender']==\"M\")][\"device_id\"].count())\n",
        "print(\"M27-28: \",all_one[(all_one['age']>=27) & (all_one['age']<=28) & (all_one['gender']==\"M\")][\"device_id\"].count())\n",
        "print(\"M22-: \",all_one[(all_one['age']<=22) & (all_one['gender']==\"M\")][\"device_id\"].count())\n",
        "print(\"F43+: \",all_one[(all_one['age']>=43) & (all_one['gender']==\"F\")][\"device_id\"].count())\n",
        "print(\"F23-: \",all_one[(all_one['age']<=23) & (all_one['gender']==\"F\")][\"device_id\"].count())\n",
        "print(\"F29-32: \",all_one[(all_one['age']>=29) & (all_one['age']<=32) & (all_one['gender']==\"F\")][\"device_id\"].count())"
      ],
      "id": "51c37e66"
    },
    {
      "cell_type": "code",
      "execution_count": null,
      "metadata": {
        "colab": {
          "background_save": true
        },
        "id": "06368d76"
      },
      "outputs": [],
      "source": [
        ""
      ],
      "id": "06368d76"
    },
    {
      "cell_type": "code",
      "execution_count": null,
      "metadata": {
        "colab": {
          "background_save": true
        },
        "id": "50bda3e6"
      },
      "outputs": [],
      "source": [
        ""
      ],
      "id": "50bda3e6"
    },
    {
      "cell_type": "code",
      "execution_count": null,
      "metadata": {
        "colab": {
          "background_save": true
        },
        "id": "2e7d852d"
      },
      "outputs": [],
      "source": [
        ""
      ],
      "id": "2e7d852d"
    },
    {
      "cell_type": "markdown",
      "metadata": {
        "id": "a70221f3"
      },
      "source": [
        "# 1. Distribution of Users(device_id) across States."
      ],
      "id": "a70221f3"
    },
    {
      "cell_type": "code",
      "execution_count": null,
      "metadata": {
        "colab": {
          "background_save": true
        },
        "id": "62e7295f"
      },
      "outputs": [],
      "source": [
        "state_device=all_one.groupby(['state'])['device_id'].nunique().sort_values(ascending=False).reset_index()\n",
        "display(state_device)"
      ],
      "id": "62e7295f"
    },
    {
      "cell_type": "markdown",
      "metadata": {
        "id": "df8abe06"
      },
      "source": [
        "Plotting the state now:"
      ],
      "id": "df8abe06"
    },
    {
      "cell_type": "code",
      "execution_count": null,
      "metadata": {
        "colab": {
          "background_save": true
        },
        "id": "4b583bda"
      },
      "outputs": [],
      "source": [
        "from matplotlib import pyplot\n",
        "\n",
        "import matplotlib.font_manager as font_manager\n",
        "\n",
        "# Set the font dictionaries (for plot title and axis titles)\n",
        "title_font = {'fontname':'Arial', 'size':'16', 'color':'black', 'weight':'normal',\n",
        "              'verticalalignment':'bottom'} # Bottom vertical alignment for more space\n",
        "axis_font = {'fontname':'Arial', 'size':'14'}\n",
        "\n",
        "# Set the font properties (for use in legend)   \n",
        "font_path = 'C:\\Windows\\Fonts\\Arial.ttf'\n",
        "font_prop = font_manager.FontProperties(fname=font_path, size=14)\n",
        "dimen=(30,20)\n",
        "fig= plt.figure(figsize=(10,6))\n",
        "sns.set(font_scale=3)\n",
        "fig, ax = pyplot.subplots(figsize=dimen)\n",
        "ax = sns.barplot(x='device_id', y='state',data=state_device.head(10))\n",
        "ax.set(xlabel='Device IDs', ylabel='State')\n",
        "plt.show()"
      ],
      "id": "4b583bda"
    },
    {
      "cell_type": "code",
      "execution_count": null,
      "metadata": {
        "colab": {
          "background_save": true
        },
        "id": "5580c3a0"
      },
      "outputs": [],
      "source": [
        "all_one.groupby(['state'])['device_id'].count().plot.bar(figsize=(16,6))"
      ],
      "id": "5580c3a0"
    },
    {
      "cell_type": "code",
      "execution_count": null,
      "metadata": {
        "colab": {
          "background_save": true
        },
        "id": "a54e1ffe"
      },
      "outputs": [],
      "source": [
        "all_one.groupby(['state'])['device_id'].count().sort_values(ascending=False).plot.bar(figsize=(16,6))"
      ],
      "id": "a54e1ffe"
    },
    {
      "cell_type": "markdown",
      "metadata": {
        "id": "457c258c"
      },
      "source": [
        "# 2. Distribution of Users across Phone Brands(Consider only 10 Most used Phone Brands)."
      ],
      "id": "457c258c"
    },
    {
      "cell_type": "code",
      "execution_count": null,
      "metadata": {
        "colab": {
          "background_save": true
        },
        "id": "d7d8ba64"
      },
      "outputs": [],
      "source": [
        "all_one.groupby(['phone_brand'])['device_id'].count().sort_values(ascending=False)[:10].plot.bar(figsize=(16,6))"
      ],
      "id": "d7d8ba64"
    },
    {
      "cell_type": "markdown",
      "metadata": {
        "id": "b3fe4fcc"
      },
      "source": [
        "# 3. Distribution of users across gender"
      ],
      "id": "b3fe4fcc"
    },
    {
      "cell_type": "code",
      "execution_count": null,
      "metadata": {
        "colab": {
          "background_save": true
        },
        "id": "ca0d6709"
      },
      "outputs": [],
      "source": [
        "all_one.groupby(['gender'])['device_id'].count().sort_values(ascending=False).plot.barh(figsize=(16,6))"
      ],
      "id": "ca0d6709"
    },
    {
      "cell_type": "markdown",
      "metadata": {
        "id": "48c8b1a8"
      },
      "source": [
        "# 4. Distribution of Users across Age Segments"
      ],
      "id": "48c8b1a8"
    },
    {
      "cell_type": "code",
      "execution_count": null,
      "metadata": {
        "colab": {
          "background_save": true
        },
        "id": "27aa6f25"
      },
      "outputs": [],
      "source": [
        "all_one_age_groups = pd.cut(all_one[\"age\"], bins=[0, 15, 25, 40, 60, 80]).value_counts().sort_index()\n",
        "all_one_age_groups"
      ],
      "id": "27aa6f25"
    },
    {
      "cell_type": "code",
      "execution_count": null,
      "metadata": {
        "colab": {
          "background_save": true
        },
        "id": "dfdb833c"
      },
      "outputs": [],
      "source": [
        "all_one_age = all_one"
      ],
      "id": "dfdb833c"
    },
    {
      "cell_type": "code",
      "execution_count": null,
      "metadata": {
        "colab": {
          "background_save": true
        },
        "id": "07c8b4b0"
      },
      "outputs": [],
      "source": [
        "all_one.head(5)"
      ],
      "id": "07c8b4b0"
    },
    {
      "cell_type": "code",
      "execution_count": null,
      "metadata": {
        "colab": {
          "background_save": true
        },
        "id": "3cfb7ca3"
      },
      "outputs": [],
      "source": [
        "all_one_age['age_group'] =  pd.cut(all_one[\"age\"], bins=[0, 15, 25, 40, 60, 80]).value_counts().sort_index()"
      ],
      "id": "3cfb7ca3"
    },
    {
      "cell_type": "code",
      "execution_count": null,
      "metadata": {
        "colab": {
          "background_save": true
        },
        "id": "e0fa2076"
      },
      "outputs": [],
      "source": [
        "all_one_age.drop('age_group', inplace = True, axis=1)"
      ],
      "id": "e0fa2076"
    },
    {
      "cell_type": "code",
      "execution_count": null,
      "metadata": {
        "colab": {
          "background_save": true
        },
        "id": "968b5b08"
      },
      "outputs": [],
      "source": [
        "all_one.groupby(['group'])['device_id'].count().sort_values(ascending=False).plot.barh(figsize=(16,6))"
      ],
      "id": "968b5b08"
    },
    {
      "cell_type": "code",
      "execution_count": null,
      "metadata": {
        "colab": {
          "background_save": true
        },
        "id": "2b0d43a6"
      },
      "outputs": [],
      "source": [
        "all_one.groupby(['age'])['device_id'].count().sort_values(ascending=False).plot.bar(figsize=(16,6))"
      ],
      "id": "2b0d43a6"
    },
    {
      "cell_type": "code",
      "execution_count": null,
      "metadata": {
        "colab": {
          "background_save": true
        },
        "id": "2e22552f"
      },
      "outputs": [],
      "source": [
        "# Age distribution for each gender\n",
        "plt.figure(figsize=(15,5))\n",
        "sns.set(style=\"whitegrid\")\n",
        "df_plot = all_one.drop_duplicates(subset = [\"device_id\"]).sort_values(by='device_id')\n",
        "\n",
        "plt.title(\"Age distribution for each gender\")\n",
        "Male_user = df_plot[df_plot['gender'] == 'M'].copy()\n",
        "Male_user = Male_user['age']\n",
        "Female_user = df_plot[df_plot['gender'] == 'F'].copy()\n",
        "Female_user = Female_user['age']\n",
        "\n",
        "plt.hist(Male_user, label='Male_user')\n",
        "plt.hist(Female_user, label='Female_user')\n",
        "plt.legend()"
      ],
      "id": "2e22552f"
    },
    {
      "cell_type": "markdown",
      "metadata": {
        "id": "b2028df4"
      },
      "source": [
        "We have 66.90% Male and 33.10% Female users. Age of maximum users (Male & Female) are around 20 to 40. Almost 50% of the users are of age between 22 to 32."
      ],
      "id": "b2028df4"
    },
    {
      "cell_type": "markdown",
      "metadata": {
        "id": "7518db26"
      },
      "source": [
        "# 4-Distribution of Users across Age Segments?"
      ],
      "id": "7518db26"
    },
    {
      "cell_type": "code",
      "execution_count": null,
      "metadata": {
        "colab": {
          "background_save": true
        },
        "id": "10fe5cc2"
      },
      "outputs": [],
      "source": [
        "import numpy as np\n",
        "\n",
        "###pie chart for group\n",
        "\n",
        "all_one['group'].value_counts()\n",
        "group_count=all_one['group'].value_counts().reset_index().sort_values(by='index')\n",
        "group_count.columns=['group','Count']\n",
        "\n",
        "g_count=all_one['gender'].value_counts().reset_index().sort_values(by='index')\n",
        "g_count.columns=['gender','Count']\n",
        "\n",
        "\n",
        "# Create a trace\n",
        "tag = (np.array(group_count.group))\n",
        "sizes = (np.array((group_count['Count'] / group_count['Count'].sum())))\n",
        "g_sizes = (np.array((g_count['Count'] / g_count['Count'].sum())))\n",
        "g_tag = (np.array(g_count.gender))\n",
        "\n",
        "grp_labels = zip(tag, sizes)\n",
        "g_labels = zip(g_tag, g_sizes)\n",
        "\n",
        "\n",
        "fig, ax = plt.subplots(figsize=(15,9))\n",
        "\n",
        "size = 0.3\n",
        "cmap = plt.get_cmap(\"tab20c\")\n",
        "outer_colors = cmap(np.arange(3)*4)\n",
        "inner_colors = cmap(np.array([1, 2, 3,4,5, 6,7,8, 9, 10,11,12]))\n",
        "\n",
        "\n",
        "ax.pie(g_sizes, radius=1, colors=outer_colors,autopct='%.2f%%',#labels=g_tag,\n",
        "       wedgeprops=dict(width=size, edgecolor='w'))\n",
        "\n",
        "ax.pie(sizes, radius=1-size, colors=inner_colors,#autopct='%3.1f%%',#labels=tag,\n",
        "       wedgeprops=dict(width=size, edgecolor='w'))\n",
        "\n",
        "\n",
        "ax.set(aspect=\"equal\", title='Pie plot with `ax.pie`')\n",
        "plt.xlabel(\"\", **axis_font)\n",
        "plt.ylabel(\"\", **axis_font)\n",
        "plt.title(\"Distribution of usage across Age Groups\", **title_font)\n",
        "#plt.legend(loc='right', prop=font_prop, numpoints=1)\n",
        "\n",
        "plt.legend(\n",
        "    loc='upper left',\n",
        "    prop={'size': 12},\n",
        "    labels=['%s, %1.1f%%' % (\n",
        "        l, (float(s)) * 100) for l, s in grp_labels],\n",
        "    bbox_to_anchor=(0.0, 1),\n",
        "    bbox_transform=fig.transFigure\n",
        ")\n",
        "\n",
        "\n",
        "#plt.legend(loc='center', prop=font_prop, numpoints=1)\n",
        "plt.show()"
      ],
      "id": "10fe5cc2"
    },
    {
      "cell_type": "markdown",
      "metadata": {
        "id": "52710cf0"
      },
      "source": [
        "There are 12 distinct age groups defined in the dataset (seperating male & female). All male age group user counts are higher than the female age group user counts. Even though maximum users are between 22 to 32, age group M32-38, M39+ dominates in the graph due to bigger age band as compared to M23-26, M27-28, M29-31."
      ],
      "id": "52710cf0"
    },
    {
      "cell_type": "markdown",
      "metadata": {
        "id": "a79e6ce0"
      },
      "source": [
        "# 5. Distribution of Phone Brands(Consider only 10 Most used Phone Brands) for each Age Segment, State, Gender."
      ],
      "id": "a79e6ce0"
    },
    {
      "cell_type": "code",
      "execution_count": null,
      "metadata": {
        "colab": {
          "background_save": true
        },
        "id": "6e3fdf02"
      },
      "outputs": [],
      "source": [
        "plt.figure(figsize=(15,5))\n",
        "sns.countplot(\"group\", hue=\"phone_brand\", hue_order=df_plot.phone_brand.value_counts().iloc[:10].index, order=df_plot.group.value_counts().iloc[:].index, data=df_plot)\n",
        "plt.title(\"Top 10 phone brands distribution for each age group in Delhi\")\n",
        "plt.show()"
      ],
      "id": "6e3fdf02"
    },
    {
      "cell_type": "code",
      "execution_count": null,
      "metadata": {
        "colab": {
          "background_save": true
        },
        "id": "5d20bfdc"
      },
      "outputs": [],
      "source": [
        "plt.figure(figsize=(15,5))\n",
        "sns.countplot(\"city\", hue=\"phone_brand\", hue_order=df_plot.value_counts().iloc[:10].index, order=df_plot.city.value_counts().iloc[:5].index, data=df_plot)\n",
        "plt.title(\"Top 10 phone brands distribution across cities (only top 5 cities based on user distribution is considered)\")\n",
        "plt.legend(\n",
        "    loc='upper right',\n",
        "    prop={'size': 12}\n",
        ")\n",
        "plt.show()"
      ],
      "id": "5d20bfdc"
    },
    {
      "cell_type": "code",
      "execution_count": null,
      "metadata": {
        "colab": {
          "background_save": true
        },
        "id": "2a79a531"
      },
      "outputs": [],
      "source": [
        "plt.figure(figsize=(15,5))\n",
        "sns.countplot(\"gender\", hue=\"phone_brand\", hue_order=df_plot.phone_brand.value_counts().iloc[:10].index, data=df_plot)\n",
        "plt.title(\"Top 10 phone brands distribution for each gender\")"
      ],
      "id": "2a79a531"
    },
    {
      "cell_type": "markdown",
      "metadata": {
        "id": "a6807370"
      },
      "source": [
        "# 6-Distribution of Gender for each State, Age Segment and Phone Brand(Consider only 10 Most used Phone Brands)?"
      ],
      "id": "a6807370"
    },
    {
      "cell_type": "code",
      "execution_count": null,
      "metadata": {
        "colab": {
          "background_save": true
        },
        "id": "8532b538"
      },
      "outputs": [],
      "source": [
        "plt.figure(figsize=(15,5))\n",
        "sns.countplot(\"state\", hue=\"gender\", order=df_plot.state.value_counts().iloc[:10].index, data=df_plot)\n",
        "plt.title(\"Gender distribution across cities (only top 10 cities based on user distribution is considered)\")\n",
        "plt.show()"
      ],
      "id": "8532b538"
    },
    {
      "cell_type": "code",
      "execution_count": null,
      "metadata": {
        "colab": {
          "background_save": true
        },
        "id": "640f3d16"
      },
      "outputs": [],
      "source": [
        "plt.figure(figsize=(15,5))\n",
        "sns.countplot(\"state\", hue=\"gender\", order=df_delhi_final.state.value_counts().iloc[:10].index, data=df_delhi_final)\n",
        "plt.title(\"Gender distribution across cities (only top 10 cities based on user distribution is considered)\")\n",
        "plt.show()"
      ],
      "id": "640f3d16"
    },
    {
      "cell_type": "markdown",
      "metadata": {
        "id": "596467e3"
      },
      "source": [
        "# PLoting for other cities are not important as per above output:"
      ],
      "id": "596467e3"
    },
    {
      "cell_type": "code",
      "execution_count": null,
      "metadata": {
        "colab": {
          "background_save": true
        },
        "id": "59e89ed9"
      },
      "outputs": [],
      "source": [
        "plt.figure(figsize=(15,5))\n",
        "sns.countplot(\"group\", hue=\"gender\", order=df_plot.group.value_counts().iloc[:10].index, data=df_plot)\n",
        "plt.title(\"Gender distribution for each age segments\")\n",
        "plt.show()"
      ],
      "id": "59e89ed9"
    },
    {
      "cell_type": "code",
      "execution_count": null,
      "metadata": {
        "colab": {
          "background_save": true
        },
        "id": "665401e8"
      },
      "outputs": [],
      "source": [
        "plt.figure(figsize=(15,5))\n",
        "sns.countplot(\"phone_brand\", hue=\"gender\", order=df_plot.phone_brand.value_counts().iloc[:10].index, data=df_plot)\n",
        "plt.title(\"Gender distribution for top 10 phone brands\")"
      ],
      "id": "665401e8"
    },
    {
      "cell_type": "markdown",
      "metadata": {
        "id": "83e2ae4c"
      },
      "source": [
        "Male users are the dominant users across the top 10 phone brands. It is also observed that top 10 phone brands is same across the gender. Both male & female users prefer Huawei as their top brand."
      ],
      "id": "83e2ae4c"
    },
    {
      "cell_type": "markdown",
      "metadata": {
        "id": "389dc227"
      },
      "source": [
        "# 7- Distribution of Age Segments for each State, Gender and Phone Brand(Consider only 10 Most used Phone Brands"
      ],
      "id": "389dc227"
    },
    {
      "cell_type": "code",
      "execution_count": null,
      "metadata": {
        "colab": {
          "background_save": true
        },
        "id": "ba55160d"
      },
      "outputs": [],
      "source": [
        "plt.figure(figsize=(15,5))\n",
        "sns.countplot(\"city\", hue=\"group\", hue_order=df_plot.group.value_counts().iloc[:10].index, order=df_plot.city.value_counts().iloc[:5].index, data=df_plot)\n",
        "plt.title(\"Age group distribution across cities (only top 5 cities based on user distribution is considered)\")"
      ],
      "id": "ba55160d"
    },
    {
      "cell_type": "code",
      "execution_count": null,
      "metadata": {
        "colab": {
          "background_save": true
        },
        "id": "647a4d1b"
      },
      "outputs": [],
      "source": [
        "plt.figure(figsize=(15,5))\n",
        "sns.countplot(\"city\", hue=\"group\", hue_order=df_delhi_final.group.value_counts().iloc[:10].index, order=df_delhi_final.city.value_counts().iloc[:5].index, data=df_delhi_final)\n",
        "plt.title(\"Age group distribution across cities (only top 5 cities based on user distribution is considered)\")"
      ],
      "id": "647a4d1b"
    },
    {
      "cell_type": "markdown",
      "metadata": {
        "id": "4f3eba1c"
      },
      "source": [
        "Observations:\n",
        "\n",
        "M39 + is the top most contributor in the age group"
      ],
      "id": "4f3eba1c"
    },
    {
      "cell_type": "code",
      "execution_count": null,
      "metadata": {
        "colab": {
          "background_save": true
        },
        "id": "e8503f22"
      },
      "outputs": [],
      "source": [
        "plt.figure(figsize=(15,5))\n",
        "sns.countplot(\"phone_brand\", hue=\"group\", order=df_plot.phone_brand.value_counts().iloc[:10].index, \n",
        "              hue_order=df_plot.group.value_counts().iloc[:].index, data=df_plot)\n",
        "plt.title(\"Age group distribution for top 10 phone brands\")"
      ],
      "id": "e8503f22"
    },
    {
      "cell_type": "code",
      "execution_count": null,
      "metadata": {
        "colab": {
          "background_save": true
        },
        "id": "f0deb5ba"
      },
      "outputs": [],
      "source": [
        "plt.figure(figsize=(15,5))\n",
        "sns.countplot(\"phone_brand\", hue=\"group\", order=df_delhi_final.phone_brand.value_counts().iloc[:10].index, \n",
        "              hue_order=df_delhi_final.group.value_counts().iloc[:].index, data=df_delhi_final)\n",
        "plt.title(\"Age group distribution for top 10 phone brands\")"
      ],
      "id": "f0deb5ba"
    },
    {
      "cell_type": "markdown",
      "metadata": {
        "id": "389d1a9d"
      },
      "source": [
        "M39 + is the top most user :"
      ],
      "id": "389d1a9d"
    },
    {
      "cell_type": "code",
      "execution_count": null,
      "metadata": {
        "colab": {
          "background_save": true
        },
        "id": "443551de"
      },
      "outputs": [],
      "source": [
        "plt.figure(figsize=(15,5))\n",
        "sns.countplot(\"gender\", hue=\"group\", hue_order=df_plot.group.value_counts().iloc[:].index, data=df_plot)\n",
        "plt.title(\"Age group distribution for each gender\")"
      ],
      "id": "443551de"
    },
    {
      "cell_type": "code",
      "execution_count": null,
      "metadata": {
        "colab": {
          "background_save": true
        },
        "id": "7c9b78f4"
      },
      "outputs": [],
      "source": [
        "plt.figure(figsize=(15,5))\n",
        "sns.countplot(\"gender\", hue=\"group\", hue_order=df_delhi_final.group.value_counts().iloc[:].index, data=df_plot)\n",
        "plt.title(\"Age group distribution for each gender\")"
      ],
      "id": "7c9b78f4"
    },
    {
      "cell_type": "markdown",
      "metadata": {
        "id": "4c030ab7"
      },
      "source": [
        "**Distribution of Age for each State, Gender and Phone Brand(Consider only 10\n",
        "\n",
        "List item\n",
        "List item\n",
        "Most used Phone Brands?**\n",
        "\n"
      ],
      "id": "4c030ab7"
    },
    {
      "cell_type": "code",
      "execution_count": null,
      "metadata": {
        "colab": {
          "background_save": true
        },
        "id": "5b9f842d"
      },
      "outputs": [],
      "source": [
        "# Box plot for age\n",
        "plt.figure(figsize=(15,5))\n",
        "sns.set(style=\"whitegrid\")\n",
        "sns.boxplot(y=\"age\", x=\"city\", order=df_plot.city.value_counts().iloc[:5].index, data=df_plot, palette=\"Set3\")\n",
        "plt.title(\"Age Box plot across cities\")\n",
        "# sns.despine()"
      ],
      "id": "5b9f842d"
    },
    {
      "cell_type": "code",
      "execution_count": null,
      "metadata": {
        "colab": {
          "background_save": true
        },
        "id": "f1980f06"
      },
      "outputs": [],
      "source": [
        "# Box plot for age\n",
        "plt.figure(figsize=(15,5))\n",
        "sns.set(style=\"whitegrid\")\n",
        "sns.boxplot(y=\"age\", x=\"city\", order=df_plot.city.value_counts().iloc[:5].index, data=df_plot, palette=\"Set3\")\n",
        "plt.title(\"Age Box plot across cities\")\n",
        "# sns.despine()"
      ],
      "id": "f1980f06"
    },
    {
      "cell_type": "code",
      "execution_count": null,
      "metadata": {
        "colab": {
          "background_save": true
        },
        "id": "f2b073c2"
      },
      "outputs": [],
      "source": [
        "# Box plot for age\n",
        "plt.figure(figsize=(15,5))\n",
        "sns.set(style=\"whitegrid\")\n",
        "sns.boxplot(y=\"age\", x=\"city\", order=df_delhi_final.city.value_counts().iloc[:5].index, data=df_delhi_final, palette=\"Set3\")\n",
        "plt.title(\"Age Box plot across cities\")\n",
        "# sns.despine()"
      ],
      "id": "f2b073c2"
    },
    {
      "cell_type": "code",
      "execution_count": null,
      "metadata": {
        "colab": {
          "background_save": true
        },
        "id": "32d4ead7"
      },
      "outputs": [],
      "source": [
        "# Box plot for age\n",
        "plt.figure(figsize=(15,5))\n",
        "sns.set(style=\"whitegrid\")\n",
        "sns.boxplot(y=\"age\", x=\"phone_brand\", order=df_plot.phone_brand.value_counts().iloc[:10].index, data=df_plot, palette=\"Set3\")\n",
        "plt.title(\"Age Box plot for top 10 phone brands\")\n",
        "# sns.despine()"
      ],
      "id": "32d4ead7"
    },
    {
      "cell_type": "code",
      "execution_count": null,
      "metadata": {
        "colab": {
          "background_save": true
        },
        "id": "f4fa6673"
      },
      "outputs": [],
      "source": [
        "# Box plot for age\n",
        "plt.figure(figsize=(15,5))\n",
        "sns.set(style=\"whitegrid\")\n",
        "sns.boxplot(y=\"age\", x=\"phone_brand\", order=df_delhi_final.phone_brand.value_counts().iloc[:10].index, data=df_delhi_final, palette=\"Set3\")\n",
        "plt.title(\"Age Box plot for top 10 phone brands\")\n",
        "# sns.despine()"
      ],
      "id": "f4fa6673"
    },
    {
      "cell_type": "code",
      "execution_count": null,
      "metadata": {
        "colab": {
          "background_save": true
        },
        "id": "53f99b3d"
      },
      "outputs": [],
      "source": [
        "#Median age of users across top 10 phone brands are almost same.\n",
        "# Box plot for age\n",
        "plt.figure(figsize=(15,5))\n",
        "sns.set(style=\"whitegrid\")\n",
        "sns.boxplot(y=\"age\", x=\"gender\", data=df_plot, palette=\"Set3\")\n",
        "plt.title(\"Age Box plot for each gender\")\n",
        "# sns.despine()"
      ],
      "id": "53f99b3d"
    },
    {
      "cell_type": "code",
      "execution_count": null,
      "metadata": {
        "colab": {
          "background_save": true
        },
        "id": "7e514c70"
      },
      "outputs": [],
      "source": [
        "#Median age of users across top 10 phone brands are almost same.\n",
        "# Box plot for age\n",
        "plt.figure(figsize=(15,5))\n",
        "sns.set(style=\"whitegrid\")\n",
        "sns.boxplot(y=\"age\", x=\"gender\", data=df_delhi_final, palette=\"Set3\")\n",
        "plt.title(\"Age Box plot for each gender\")\n",
        "# sns.despine()"
      ],
      "id": "7e514c70"
    },
    {
      "cell_type": "markdown",
      "metadata": {
        "id": "88c3f239"
      },
      "source": [
        "# Median age of users between male & female are almost same. Age variance betweenMale & Female are almost same."
      ],
      "id": "88c3f239"
    },
    {
      "cell_type": "markdown",
      "metadata": {
        "id": "aaac5826"
      },
      "source": [
        "# 8- Hourly distribution of Phone Calls?"
      ],
      "id": "aaac5826"
    },
    {
      "cell_type": "code",
      "execution_count": null,
      "metadata": {
        "colab": {
          "background_save": true
        },
        "id": "de52bd20"
      },
      "outputs": [],
      "source": [
        "df_delhi_hour=df_delhi_final.groupby(['hour'])['event_id'].count().reset_index()\n",
        "print(df_delhi_hour)"
      ],
      "id": "de52bd20"
    },
    {
      "cell_type": "code",
      "execution_count": null,
      "metadata": {
        "colab": {
          "background_save": true
        },
        "id": "878b38d5"
      },
      "outputs": [],
      "source": [
        "plot_data = [\n",
        "    go.Bar(\n",
        "        x=df_delhi_hour['hour'],\n",
        "        y=df_delhi_hour['event_id'],\n",
        "    )\n",
        "]\n",
        "\n",
        "plot_layout = go.Layout(\n",
        "        xaxis={\"type\": \"category\"},\n",
        "        title='Events in each hour'\n",
        "    )\n",
        "\n",
        "fig = go.Figure(data=plot_data, layout=plot_layout)\n",
        "pyoff.iplot(fig)"
      ],
      "id": "878b38d5"
    },
    {
      "cell_type": "code",
      "execution_count": null,
      "metadata": {
        "colab": {
          "background_save": true
        },
        "id": "dbaecc4f"
      },
      "outputs": [],
      "source": [
        "import datetime\n",
        "all_one['date'] = pd.to_datetime(all_one['timestamp']).dt.date\n",
        "all_one['time'] = pd.to_datetime(all_one['timestamp']).dt.time\n",
        "all_one['hour'] = pd.to_datetime(all_one['timestamp']).dt.hour"
      ],
      "id": "dbaecc4f"
    },
    {
      "cell_type": "code",
      "execution_count": null,
      "metadata": {
        "colab": {
          "background_save": true
        },
        "id": "00b4a68a"
      },
      "outputs": [],
      "source": [
        "all_one.head()"
      ],
      "id": "00b4a68a"
    },
    {
      "cell_type": "code",
      "execution_count": null,
      "metadata": {
        "colab": {
          "background_save": true
        },
        "id": "e989c62b"
      },
      "outputs": [],
      "source": [
        "plt.figure(figsize=(15,5))\n",
        "sns.countplot(\"hour\", hue = \"gender\", hue_order = all_one.gender.value_counts().iloc[:10].index, data=all_one)\n",
        "plt.title(\"Hourly call distribution for each gender\")"
      ],
      "id": "e989c62b"
    },
    {
      "cell_type": "markdown",
      "metadata": {
        "id": "0f6de356"
      },
      "source": [
        "Observations:\n",
        "    1. Hourly distrubution on merged datasets for all states"
      ],
      "id": "0f6de356"
    },
    {
      "cell_type": "markdown",
      "metadata": {
        "id": "326b580e"
      },
      "source": [
        "# Maximum call is in between 7pm till 11 pm late night:"
      ],
      "id": "326b580e"
    },
    {
      "cell_type": "code",
      "execution_count": null,
      "metadata": {
        "colab": {
          "background_save": true
        },
        "id": "a674ce8b"
      },
      "outputs": [],
      "source": [
        "plt.figure(figsize=(15,5))\n",
        "sns.countplot(\"hour\", hue=\"gender\", hue_order=df_delhi_final.gender.value_counts().iloc[:].index, data=df_delhi_final)\n",
        "plt.title(\"Hourly call distribution for each gender\")"
      ],
      "id": "a674ce8b"
    },
    {
      "cell_type": "markdown",
      "metadata": {
        "id": "74ab96f1"
      },
      "source": [
        "Observations: Hourly distribution only on delhi state"
      ],
      "id": "74ab96f1"
    },
    {
      "cell_type": "markdown",
      "metadata": {
        "id": "170955f2"
      },
      "source": [
        "Maximum call is in between 7pm till 11 pm late night:"
      ],
      "id": "170955f2"
    },
    {
      "cell_type": "code",
      "execution_count": null,
      "metadata": {
        "colab": {
          "background_save": true
        },
        "id": "1977d518"
      },
      "outputs": [],
      "source": [
        "plt.figure(figsize=(15,5))\n",
        "sns.countplot(\"hour\", hue=\"gender\", hue_order=df_delhi_final.gender.value_counts().iloc[:].index, data=df_delhi_final)\n",
        "plt.title(\"Hourly call distribution for each gender\")"
      ],
      "id": "1977d518"
    },
    {
      "cell_type": "markdown",
      "metadata": {
        "id": "1d197a9c"
      },
      "source": [
        "# Male users have more mobile call usage on hourly basis:"
      ],
      "id": "1d197a9c"
    },
    {
      "cell_type": "code",
      "execution_count": null,
      "metadata": {
        "colab": {
          "background_save": true
        },
        "id": "a875f4f9"
      },
      "outputs": [],
      "source": [
        "plt.figure(figsize=(15,5))\n",
        "sns.countplot(\"hour\", hue=\"city\", hue_order=df_delhi_final.city.value_counts().iloc[:2].index, data=df_delhi_final)\n",
        "plt.title(\"Hourly call distribution for top 2 cities\")"
      ],
      "id": "a875f4f9"
    },
    {
      "cell_type": "markdown",
      "metadata": {
        "id": "41c9c720"
      },
      "source": [
        "# Hourly call distribution for Delhi & SultanpurMajra (Top 2 cities) It looks like Delhi users are early morning callers."
      ],
      "id": "41c9c720"
    },
    {
      "cell_type": "code",
      "execution_count": null,
      "metadata": {
        "colab": {
          "background_save": true
        },
        "id": "40b02dd6"
      },
      "outputs": [],
      "source": [
        "all_one.groupby(['group']).phone_brand.count()[:10].sort_values(ascending=True).plot.bar(figsize=(16,6))"
      ],
      "id": "40b02dd6"
    },
    {
      "cell_type": "code",
      "execution_count": null,
      "metadata": {
        "colab": {
          "background_save": true
        },
        "id": "14163d83"
      },
      "outputs": [],
      "source": [
        "# 9. Plot the users on the map using any suitable package\n",
        "%time\n",
        "from bokeh.plotting import figure, show\n",
        "from bokeh.io import output_notebook\n",
        "x = all_one['longitude']\n",
        "y = all_one['latitude']\n",
        "\n",
        "output_notebook()\n",
        "p = figure()\n",
        "p.circle(x,y)\n",
        "show(p)\n"
      ],
      "id": "14163d83"
    },
    {
      "cell_type": "code",
      "execution_count": null,
      "metadata": {
        "colab": {
          "background_save": true
        },
        "id": "ab2e2f0d"
      },
      "outputs": [],
      "source": [
        ""
      ],
      "id": "ab2e2f0d"
    },
    {
      "cell_type": "code",
      "execution_count": null,
      "metadata": {
        "colab": {
          "background_save": true
        },
        "id": "bcd94c8f"
      },
      "outputs": [],
      "source": [
        ""
      ],
      "id": "bcd94c8f"
    },
    {
      "cell_type": "code",
      "execution_count": null,
      "metadata": {
        "colab": {
          "background_save": true
        },
        "id": "4c48d406"
      },
      "outputs": [],
      "source": [
        ""
      ],
      "id": "4c48d406"
    },
    {
      "cell_type": "code",
      "execution_count": null,
      "metadata": {
        "colab": {
          "background_save": true
        },
        "id": "b4c4ab73"
      },
      "outputs": [],
      "source": [
        "all_one.groupby(['state', 'gender']).count().sort_values(by= 'gender', ascending=True).plot.bar(figsize=(16,6))"
      ],
      "id": "b4c4ab73"
    },
    {
      "cell_type": "code",
      "execution_count": null,
      "metadata": {
        "colab": {
          "background_save": true
        },
        "id": "1cbbe4f2"
      },
      "outputs": [],
      "source": [
        ""
      ],
      "id": "1cbbe4f2"
    },
    {
      "cell_type": "code",
      "execution_count": null,
      "metadata": {
        "colab": {
          "background_save": true
        },
        "id": "29391cae"
      },
      "outputs": [],
      "source": [
        ""
      ],
      "id": "29391cae"
    }
  ],
  "metadata": {
    "colab": {
      "name": "yogeeta capstone1 Final.ipynb",
      "provenance": [],
      "include_colab_link": true
    },
    "kernelspec": {
      "display_name": "Python 3",
      "language": "python",
      "name": "python3"
    },
    "language_info": {
      "codemirror_mode": {
        "name": "ipython",
        "version": 3
      },
      "file_extension": ".py",
      "mimetype": "text/x-python",
      "name": "python",
      "nbconvert_exporter": "python",
      "pygments_lexer": "ipython3",
      "version": "3.8.8"
    }
  },
  "nbformat": 4,
  "nbformat_minor": 5
}