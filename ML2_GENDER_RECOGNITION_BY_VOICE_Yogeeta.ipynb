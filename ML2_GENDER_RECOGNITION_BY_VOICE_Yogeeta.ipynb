{
  "nbformat": 4,
  "nbformat_minor": 0,
  "metadata": {
    "colab": {
      "name": "ML2 GENDER RECOGNITION BY VOICE_Yogeeta",
      "provenance": [],
      "collapsed_sections": [],
      "mount_file_id": "1YbATWevVz9EwzxBHgQQjEqhW8n1UQ34l",
      "authorship_tag": "ABX9TyOBAOPwgvADC+VYxdg+2ssv",
      "include_colab_link": true
    },
    "kernelspec": {
      "name": "python3",
      "display_name": "Python 3"
    },
    "language_info": {
      "name": "python"
    }
  },
  "cells": [
    {
      "cell_type": "markdown",
      "metadata": {
        "id": "view-in-github",
        "colab_type": "text"
      },
      "source": [
        "<a href=\"https://colab.research.google.com/github/yogee2406/Breast-cancer-ML_Yogeeta.ipynb/blob/main/ML2_GENDER_RECOGNITION_BY_VOICE_Yogeeta.ipynb\" target=\"_parent\"><img src=\"https://colab.research.google.com/assets/colab-badge.svg\" alt=\"Open In Colab\"/></a>"
      ]
    },
    {
      "cell_type": "markdown",
      "source": [
        "# **PROJECT DESCRIPTION:**\n",
        "\n",
        "**Company Introduction**\n",
        "\n",
        "Your client for this project is a Telecom company.\n",
        "\n",
        "They are a leading telecom company with 5 million users.\n",
        "\n",
        "They want to keep track of the number of male and female users but as the user count increases the task becomes more tedious.\n",
        "\n",
        "They want to automate the process of keeping track of male and female users using their voice.\n",
        "\n",
        "Their research and development teams are trying to understand the **acoustic properties** of the voice and speech so that they can use it to enhance the customer experience in their new product.\n",
        "\n",
        "\n",
        "**Current Scenario**\n",
        "\n",
        "Determining a person’s gender as male or female, based upon a sample of their voice, initially seems to be an easy task.\n",
        "\n",
        "Often, the human ear can easily detect the difference between a male or a female voice within the first few spoken words.\n",
        "\n",
        "However, designing a computer program to do this turns out to be a bit trickier.\n",
        "Currently, the company is keeping track by manually entering the data for the user being male or female by listening to their voice which is a tedious task for the employees."
      ],
      "metadata": {
        "id": "uCSbPcUI8M8L"
      }
    },
    {
      "cell_type": "markdown",
      "source": [
        "# PROBLEM STATEMENT\n",
        "\n",
        "The current process suffers from the following problems:\n",
        "\n",
        "The current process is a manual classification of gender using their voice.\n",
        "This is very tedious and time-consuming as it needs to be repeated every time a new customer joins.\n",
        "\n",
        "The company has hired you as a data science consultant.\n",
        "\n",
        "They want to automate the process of predicting the male or female voice using acoustic properties of the voice or speech rather than doing this manual work.\n",
        "\n",
        "**Your Role**\n",
        "\n",
        "You are given a dataset consisting of recorded voice samples, collected from male and female speakers.\n",
        "Your task is to build a classification model using the dataset.\n",
        "Because there was no machine learning model for this problem in the company, you don’t have a quantifiable win condition. You need to build the best possible model.\n",
        "\n",
        "**Project Deliverables**\n",
        "\n",
        "Deliverable: Gender prediction using voice.\n",
        "Machine Learning Task: Classification\n",
        "Target Variable: label\n",
        "Win Condition: N/A (best possible model)\n",
        "\n",
        "**Evaluation Metric**\n",
        "\n",
        "The model evaluation will be based on the **F1 Score** score."
      ],
      "metadata": {
        "id": "Z9t9LRhm9Ga0"
      }
    },
    {
      "cell_type": "code",
      "execution_count": null,
      "metadata": {
        "id": "-PY8H_pL8Dbe"
      },
      "outputs": [],
      "source": [
        ""
      ]
    },
    {
      "cell_type": "markdown",
      "source": [
        "# Dataset Feature Description\n",
        "\n",
        "This database was created to identify a voice as male or female, based upon acoustic properties of the voice and speech.\n",
        "\n",
        "The column **label** is also present in the dataset which has two values male and female.\n",
        "\n",
        "This is the data that we have to predict for future samples.\n",
        "\n",
        "\n",
        "The dataset is divided into two parts: Train, and Test sets.\n",
        "\n",
        "Train Set:\n",
        "The train set contains 2851 rows and 22 columns.\n",
        "The last column label is the target variable.\n",
        "\n",
        "Test Set:\n",
        "The test set contains 317 rows and 21 columns.\n",
        "The test set doesn’t contain the label column.\n",
        "It needs to be predicted for the test set.\n"
      ],
      "metadata": {
        "id": "OXo3mSIi9xgi"
      }
    },
    {
      "cell_type": "code",
      "source": [
        "import pandas as pd\n",
        "import numpy as np\n",
        "import matplotlib.pyplot as plt\n",
        "import seaborn as sns\n",
        "import sklearn.model_selection, sklearn.linear_model, sklearn.svm, sklearn.metrics\n",
        "from sklearn.tree import DecisionTreeClassifier\n",
        "from sklearn.ensemble import RandomForestClassifier\n",
        "from sklearn.linear_model import LogisticRegression\n",
        "from sklearn.neighbors import KNeighborsClassifier\n",
        "from sklearn.svm import SVC"
      ],
      "metadata": {
        "id": "lkue8ALJFYC7"
      },
      "execution_count": null,
      "outputs": []
    },
    {
      "cell_type": "code",
      "source": [
        "df=pd.read_csv(\"/voice_train.csv\")"
      ],
      "metadata": {
        "id": "IYR1MxoJ91do"
      },
      "execution_count": null,
      "outputs": []
    },
    {
      "cell_type": "code",
      "source": [
        "df.describe()"
      ],
      "metadata": {
        "colab": {
          "base_uri": "https://localhost:8080/",
          "height": 394
        },
        "id": "C96Iu406_oRO",
        "outputId": "7d0ace0b-97aa-42f0-d166-b450b088696f"
      },
      "execution_count": null,
      "outputs": [
        {
          "output_type": "execute_result",
          "data": {
            "text/plain": [
              "                Id     meanfreq           sd       median          Q25  \\\n",
              "count  2851.000000  2851.000000  2851.000000  2851.000000  2851.000000   \n",
              "mean   1591.565416     0.180923     0.057143     0.185722     0.140349   \n",
              "std     909.939169     0.029796     0.016588     0.036175     0.048628   \n",
              "min       1.000000     0.039363     0.018363     0.010975     0.000229   \n",
              "25%     808.500000     0.163739     0.042082     0.169726     0.111139   \n",
              "50%    1590.000000     0.184848     0.059151     0.190067     0.140229   \n",
              "75%    2382.500000     0.199061     0.066891     0.210650     0.175690   \n",
              "max    3167.000000     0.251124     0.115273     0.261224     0.247347   \n",
              "\n",
              "               Q75          IQR         skew         kurt       sp.ent  ...  \\\n",
              "count  2851.000000  2851.000000  2851.000000  2851.000000  2851.000000  ...   \n",
              "mean      0.224730     0.084381     3.118469    35.808329     0.895312  ...   \n",
              "std       0.023509     0.042728     4.163727   131.430900     0.044795  ...   \n",
              "min       0.042946     0.014558     0.141735     2.068455     0.738651  ...   \n",
              "25%       0.208756     0.042663     1.638410     5.604497     0.862190  ...   \n",
              "50%       0.225729     0.094235     2.183320     8.255809     0.901840  ...   \n",
              "75%       0.243700     0.114208     2.932962    13.649354     0.928727  ...   \n",
              "max       0.273469     0.252225    34.725453  1309.612887     0.981997  ...   \n",
              "\n",
              "              mode     centroid      meanfun       minfun       maxfun  \\\n",
              "count  2851.000000  2851.000000  2851.000000  2851.000000  2851.000000   \n",
              "mean      0.165481     0.180923     0.142891     0.036834     0.258968   \n",
              "std       0.076918     0.029796     0.032191     0.019182     0.029806   \n",
              "min       0.000000     0.039363     0.055565     0.009775     0.108696   \n",
              "25%       0.118100     0.163739     0.117578     0.018223     0.253968   \n",
              "50%       0.186667     0.184848     0.140678     0.046921     0.271186   \n",
              "75%       0.221341     0.199061     0.169593     0.047904     0.277457   \n",
              "max       0.280000     0.251124     0.237636     0.204082     0.279114   \n",
              "\n",
              "           meandom       mindom       maxdom      dfrange      modindx  \n",
              "count  2851.000000  2851.000000  2851.000000  2851.000000  2851.000000  \n",
              "mean      0.833608     0.052634     5.075745     5.023111     0.173933  \n",
              "std       0.525565     0.062982     3.526201     3.525193     0.119463  \n",
              "min       0.007812     0.004883     0.007812     0.000000     0.000000  \n",
              "25%       0.423799     0.007812     2.207031     2.183594     0.099591  \n",
              "50%       0.767578     0.023438     4.992188     4.968750     0.139159  \n",
              "75%       1.180411     0.070312     7.078125     7.042969     0.209525  \n",
              "max       2.957682     0.458984    21.867188    21.843750     0.932374  \n",
              "\n",
              "[8 rows x 21 columns]"
            ],
            "text/html": [
              "\n",
              "  <div id=\"df-efeb780d-6a9d-4e1a-9c7c-9a07176426b6\">\n",
              "    <div class=\"colab-df-container\">\n",
              "      <div>\n",
              "<style scoped>\n",
              "    .dataframe tbody tr th:only-of-type {\n",
              "        vertical-align: middle;\n",
              "    }\n",
              "\n",
              "    .dataframe tbody tr th {\n",
              "        vertical-align: top;\n",
              "    }\n",
              "\n",
              "    .dataframe thead th {\n",
              "        text-align: right;\n",
              "    }\n",
              "</style>\n",
              "<table border=\"1\" class=\"dataframe\">\n",
              "  <thead>\n",
              "    <tr style=\"text-align: right;\">\n",
              "      <th></th>\n",
              "      <th>Id</th>\n",
              "      <th>meanfreq</th>\n",
              "      <th>sd</th>\n",
              "      <th>median</th>\n",
              "      <th>Q25</th>\n",
              "      <th>Q75</th>\n",
              "      <th>IQR</th>\n",
              "      <th>skew</th>\n",
              "      <th>kurt</th>\n",
              "      <th>sp.ent</th>\n",
              "      <th>...</th>\n",
              "      <th>mode</th>\n",
              "      <th>centroid</th>\n",
              "      <th>meanfun</th>\n",
              "      <th>minfun</th>\n",
              "      <th>maxfun</th>\n",
              "      <th>meandom</th>\n",
              "      <th>mindom</th>\n",
              "      <th>maxdom</th>\n",
              "      <th>dfrange</th>\n",
              "      <th>modindx</th>\n",
              "    </tr>\n",
              "  </thead>\n",
              "  <tbody>\n",
              "    <tr>\n",
              "      <th>count</th>\n",
              "      <td>2851.000000</td>\n",
              "      <td>2851.000000</td>\n",
              "      <td>2851.000000</td>\n",
              "      <td>2851.000000</td>\n",
              "      <td>2851.000000</td>\n",
              "      <td>2851.000000</td>\n",
              "      <td>2851.000000</td>\n",
              "      <td>2851.000000</td>\n",
              "      <td>2851.000000</td>\n",
              "      <td>2851.000000</td>\n",
              "      <td>...</td>\n",
              "      <td>2851.000000</td>\n",
              "      <td>2851.000000</td>\n",
              "      <td>2851.000000</td>\n",
              "      <td>2851.000000</td>\n",
              "      <td>2851.000000</td>\n",
              "      <td>2851.000000</td>\n",
              "      <td>2851.000000</td>\n",
              "      <td>2851.000000</td>\n",
              "      <td>2851.000000</td>\n",
              "      <td>2851.000000</td>\n",
              "    </tr>\n",
              "    <tr>\n",
              "      <th>mean</th>\n",
              "      <td>1591.565416</td>\n",
              "      <td>0.180923</td>\n",
              "      <td>0.057143</td>\n",
              "      <td>0.185722</td>\n",
              "      <td>0.140349</td>\n",
              "      <td>0.224730</td>\n",
              "      <td>0.084381</td>\n",
              "      <td>3.118469</td>\n",
              "      <td>35.808329</td>\n",
              "      <td>0.895312</td>\n",
              "      <td>...</td>\n",
              "      <td>0.165481</td>\n",
              "      <td>0.180923</td>\n",
              "      <td>0.142891</td>\n",
              "      <td>0.036834</td>\n",
              "      <td>0.258968</td>\n",
              "      <td>0.833608</td>\n",
              "      <td>0.052634</td>\n",
              "      <td>5.075745</td>\n",
              "      <td>5.023111</td>\n",
              "      <td>0.173933</td>\n",
              "    </tr>\n",
              "    <tr>\n",
              "      <th>std</th>\n",
              "      <td>909.939169</td>\n",
              "      <td>0.029796</td>\n",
              "      <td>0.016588</td>\n",
              "      <td>0.036175</td>\n",
              "      <td>0.048628</td>\n",
              "      <td>0.023509</td>\n",
              "      <td>0.042728</td>\n",
              "      <td>4.163727</td>\n",
              "      <td>131.430900</td>\n",
              "      <td>0.044795</td>\n",
              "      <td>...</td>\n",
              "      <td>0.076918</td>\n",
              "      <td>0.029796</td>\n",
              "      <td>0.032191</td>\n",
              "      <td>0.019182</td>\n",
              "      <td>0.029806</td>\n",
              "      <td>0.525565</td>\n",
              "      <td>0.062982</td>\n",
              "      <td>3.526201</td>\n",
              "      <td>3.525193</td>\n",
              "      <td>0.119463</td>\n",
              "    </tr>\n",
              "    <tr>\n",
              "      <th>min</th>\n",
              "      <td>1.000000</td>\n",
              "      <td>0.039363</td>\n",
              "      <td>0.018363</td>\n",
              "      <td>0.010975</td>\n",
              "      <td>0.000229</td>\n",
              "      <td>0.042946</td>\n",
              "      <td>0.014558</td>\n",
              "      <td>0.141735</td>\n",
              "      <td>2.068455</td>\n",
              "      <td>0.738651</td>\n",
              "      <td>...</td>\n",
              "      <td>0.000000</td>\n",
              "      <td>0.039363</td>\n",
              "      <td>0.055565</td>\n",
              "      <td>0.009775</td>\n",
              "      <td>0.108696</td>\n",
              "      <td>0.007812</td>\n",
              "      <td>0.004883</td>\n",
              "      <td>0.007812</td>\n",
              "      <td>0.000000</td>\n",
              "      <td>0.000000</td>\n",
              "    </tr>\n",
              "    <tr>\n",
              "      <th>25%</th>\n",
              "      <td>808.500000</td>\n",
              "      <td>0.163739</td>\n",
              "      <td>0.042082</td>\n",
              "      <td>0.169726</td>\n",
              "      <td>0.111139</td>\n",
              "      <td>0.208756</td>\n",
              "      <td>0.042663</td>\n",
              "      <td>1.638410</td>\n",
              "      <td>5.604497</td>\n",
              "      <td>0.862190</td>\n",
              "      <td>...</td>\n",
              "      <td>0.118100</td>\n",
              "      <td>0.163739</td>\n",
              "      <td>0.117578</td>\n",
              "      <td>0.018223</td>\n",
              "      <td>0.253968</td>\n",
              "      <td>0.423799</td>\n",
              "      <td>0.007812</td>\n",
              "      <td>2.207031</td>\n",
              "      <td>2.183594</td>\n",
              "      <td>0.099591</td>\n",
              "    </tr>\n",
              "    <tr>\n",
              "      <th>50%</th>\n",
              "      <td>1590.000000</td>\n",
              "      <td>0.184848</td>\n",
              "      <td>0.059151</td>\n",
              "      <td>0.190067</td>\n",
              "      <td>0.140229</td>\n",
              "      <td>0.225729</td>\n",
              "      <td>0.094235</td>\n",
              "      <td>2.183320</td>\n",
              "      <td>8.255809</td>\n",
              "      <td>0.901840</td>\n",
              "      <td>...</td>\n",
              "      <td>0.186667</td>\n",
              "      <td>0.184848</td>\n",
              "      <td>0.140678</td>\n",
              "      <td>0.046921</td>\n",
              "      <td>0.271186</td>\n",
              "      <td>0.767578</td>\n",
              "      <td>0.023438</td>\n",
              "      <td>4.992188</td>\n",
              "      <td>4.968750</td>\n",
              "      <td>0.139159</td>\n",
              "    </tr>\n",
              "    <tr>\n",
              "      <th>75%</th>\n",
              "      <td>2382.500000</td>\n",
              "      <td>0.199061</td>\n",
              "      <td>0.066891</td>\n",
              "      <td>0.210650</td>\n",
              "      <td>0.175690</td>\n",
              "      <td>0.243700</td>\n",
              "      <td>0.114208</td>\n",
              "      <td>2.932962</td>\n",
              "      <td>13.649354</td>\n",
              "      <td>0.928727</td>\n",
              "      <td>...</td>\n",
              "      <td>0.221341</td>\n",
              "      <td>0.199061</td>\n",
              "      <td>0.169593</td>\n",
              "      <td>0.047904</td>\n",
              "      <td>0.277457</td>\n",
              "      <td>1.180411</td>\n",
              "      <td>0.070312</td>\n",
              "      <td>7.078125</td>\n",
              "      <td>7.042969</td>\n",
              "      <td>0.209525</td>\n",
              "    </tr>\n",
              "    <tr>\n",
              "      <th>max</th>\n",
              "      <td>3167.000000</td>\n",
              "      <td>0.251124</td>\n",
              "      <td>0.115273</td>\n",
              "      <td>0.261224</td>\n",
              "      <td>0.247347</td>\n",
              "      <td>0.273469</td>\n",
              "      <td>0.252225</td>\n",
              "      <td>34.725453</td>\n",
              "      <td>1309.612887</td>\n",
              "      <td>0.981997</td>\n",
              "      <td>...</td>\n",
              "      <td>0.280000</td>\n",
              "      <td>0.251124</td>\n",
              "      <td>0.237636</td>\n",
              "      <td>0.204082</td>\n",
              "      <td>0.279114</td>\n",
              "      <td>2.957682</td>\n",
              "      <td>0.458984</td>\n",
              "      <td>21.867188</td>\n",
              "      <td>21.843750</td>\n",
              "      <td>0.932374</td>\n",
              "    </tr>\n",
              "  </tbody>\n",
              "</table>\n",
              "<p>8 rows × 21 columns</p>\n",
              "</div>\n",
              "      <button class=\"colab-df-convert\" onclick=\"convertToInteractive('df-efeb780d-6a9d-4e1a-9c7c-9a07176426b6')\"\n",
              "              title=\"Convert this dataframe to an interactive table.\"\n",
              "              style=\"display:none;\">\n",
              "        \n",
              "  <svg xmlns=\"http://www.w3.org/2000/svg\" height=\"24px\"viewBox=\"0 0 24 24\"\n",
              "       width=\"24px\">\n",
              "    <path d=\"M0 0h24v24H0V0z\" fill=\"none\"/>\n",
              "    <path d=\"M18.56 5.44l.94 2.06.94-2.06 2.06-.94-2.06-.94-.94-2.06-.94 2.06-2.06.94zm-11 1L8.5 8.5l.94-2.06 2.06-.94-2.06-.94L8.5 2.5l-.94 2.06-2.06.94zm10 10l.94 2.06.94-2.06 2.06-.94-2.06-.94-.94-2.06-.94 2.06-2.06.94z\"/><path d=\"M17.41 7.96l-1.37-1.37c-.4-.4-.92-.59-1.43-.59-.52 0-1.04.2-1.43.59L10.3 9.45l-7.72 7.72c-.78.78-.78 2.05 0 2.83L4 21.41c.39.39.9.59 1.41.59.51 0 1.02-.2 1.41-.59l7.78-7.78 2.81-2.81c.8-.78.8-2.07 0-2.86zM5.41 20L4 18.59l7.72-7.72 1.47 1.35L5.41 20z\"/>\n",
              "  </svg>\n",
              "      </button>\n",
              "      \n",
              "  <style>\n",
              "    .colab-df-container {\n",
              "      display:flex;\n",
              "      flex-wrap:wrap;\n",
              "      gap: 12px;\n",
              "    }\n",
              "\n",
              "    .colab-df-convert {\n",
              "      background-color: #E8F0FE;\n",
              "      border: none;\n",
              "      border-radius: 50%;\n",
              "      cursor: pointer;\n",
              "      display: none;\n",
              "      fill: #1967D2;\n",
              "      height: 32px;\n",
              "      padding: 0 0 0 0;\n",
              "      width: 32px;\n",
              "    }\n",
              "\n",
              "    .colab-df-convert:hover {\n",
              "      background-color: #E2EBFA;\n",
              "      box-shadow: 0px 1px 2px rgba(60, 64, 67, 0.3), 0px 1px 3px 1px rgba(60, 64, 67, 0.15);\n",
              "      fill: #174EA6;\n",
              "    }\n",
              "\n",
              "    [theme=dark] .colab-df-convert {\n",
              "      background-color: #3B4455;\n",
              "      fill: #D2E3FC;\n",
              "    }\n",
              "\n",
              "    [theme=dark] .colab-df-convert:hover {\n",
              "      background-color: #434B5C;\n",
              "      box-shadow: 0px 1px 3px 1px rgba(0, 0, 0, 0.15);\n",
              "      filter: drop-shadow(0px 1px 2px rgba(0, 0, 0, 0.3));\n",
              "      fill: #FFFFFF;\n",
              "    }\n",
              "  </style>\n",
              "\n",
              "      <script>\n",
              "        const buttonEl =\n",
              "          document.querySelector('#df-efeb780d-6a9d-4e1a-9c7c-9a07176426b6 button.colab-df-convert');\n",
              "        buttonEl.style.display =\n",
              "          google.colab.kernel.accessAllowed ? 'block' : 'none';\n",
              "\n",
              "        async function convertToInteractive(key) {\n",
              "          const element = document.querySelector('#df-efeb780d-6a9d-4e1a-9c7c-9a07176426b6');\n",
              "          const dataTable =\n",
              "            await google.colab.kernel.invokeFunction('convertToInteractive',\n",
              "                                                     [key], {});\n",
              "          if (!dataTable) return;\n",
              "\n",
              "          const docLinkHtml = 'Like what you see? Visit the ' +\n",
              "            '<a target=\"_blank\" href=https://colab.research.google.com/notebooks/data_table.ipynb>data table notebook</a>'\n",
              "            + ' to learn more about interactive tables.';\n",
              "          element.innerHTML = '';\n",
              "          dataTable['output_type'] = 'display_data';\n",
              "          await google.colab.output.renderOutput(dataTable, element);\n",
              "          const docLink = document.createElement('div');\n",
              "          docLink.innerHTML = docLinkHtml;\n",
              "          element.appendChild(docLink);\n",
              "        }\n",
              "      </script>\n",
              "    </div>\n",
              "  </div>\n",
              "  "
            ]
          },
          "metadata": {},
          "execution_count": 136
        }
      ]
    },
    {
      "cell_type": "code",
      "source": [
        "df.head(5)"
      ],
      "metadata": {
        "colab": {
          "base_uri": "https://localhost:8080/",
          "height": 299
        },
        "id": "ervb518Z_9mL",
        "outputId": "7331722e-af41-458b-e966-f680f71849f5"
      },
      "execution_count": null,
      "outputs": [
        {
          "output_type": "execute_result",
          "data": {
            "text/plain": [
              "     Id  meanfreq        sd    median       Q25       Q75       IQR      skew  \\\n",
              "0   765  0.162337  0.058206  0.174065  0.100225  0.196512  0.096287  2.127226   \n",
              "1  3071  0.161653  0.057435  0.170138  0.157522  0.182929  0.025407  6.968850   \n",
              "2  1546  0.165290  0.061891  0.135071  0.118468  0.225176  0.106708  2.631865   \n",
              "3   410  0.188100  0.055735  0.206028  0.130493  0.229470  0.098977  1.538406   \n",
              "4  2689  0.187497  0.044226  0.190071  0.156800  0.215435  0.058635  1.653083   \n",
              "\n",
              "        kurt    sp.ent  ...  centroid   meanfun    minfun    maxfun   meandom  \\\n",
              "0   7.815129  0.921533  ...  0.162337  0.095852  0.016754  0.235294  0.406033   \n",
              "1  60.968047  0.870409  ...  0.161653  0.163486  0.015601  0.204082  0.595161   \n",
              "2  12.629116  0.918897  ...  0.165290  0.120050  0.035088  0.222222  0.458577   \n",
              "3   5.145753  0.914325  ...  0.188100  0.108470  0.021305  0.145455  0.493229   \n",
              "4   5.839465  0.907477  ...  0.187497  0.154529  0.048338  0.279070  1.113502   \n",
              "\n",
              "     mindom    maxdom   dfrange   modindx   label  \n",
              "0  0.046875  3.484375  3.437500  0.155348    male  \n",
              "1  0.170898  3.979492  3.808594  0.209073  female  \n",
              "2  0.087891  1.015625  0.927734  0.459834    male  \n",
              "3  0.125000  4.734375  4.609375  0.105202    male  \n",
              "4  0.023438  8.765625  8.742188  0.103095  female  \n",
              "\n",
              "[5 rows x 22 columns]"
            ],
            "text/html": [
              "\n",
              "  <div id=\"df-65b6fac5-c9e1-4139-91eb-87b20551957b\">\n",
              "    <div class=\"colab-df-container\">\n",
              "      <div>\n",
              "<style scoped>\n",
              "    .dataframe tbody tr th:only-of-type {\n",
              "        vertical-align: middle;\n",
              "    }\n",
              "\n",
              "    .dataframe tbody tr th {\n",
              "        vertical-align: top;\n",
              "    }\n",
              "\n",
              "    .dataframe thead th {\n",
              "        text-align: right;\n",
              "    }\n",
              "</style>\n",
              "<table border=\"1\" class=\"dataframe\">\n",
              "  <thead>\n",
              "    <tr style=\"text-align: right;\">\n",
              "      <th></th>\n",
              "      <th>Id</th>\n",
              "      <th>meanfreq</th>\n",
              "      <th>sd</th>\n",
              "      <th>median</th>\n",
              "      <th>Q25</th>\n",
              "      <th>Q75</th>\n",
              "      <th>IQR</th>\n",
              "      <th>skew</th>\n",
              "      <th>kurt</th>\n",
              "      <th>sp.ent</th>\n",
              "      <th>...</th>\n",
              "      <th>centroid</th>\n",
              "      <th>meanfun</th>\n",
              "      <th>minfun</th>\n",
              "      <th>maxfun</th>\n",
              "      <th>meandom</th>\n",
              "      <th>mindom</th>\n",
              "      <th>maxdom</th>\n",
              "      <th>dfrange</th>\n",
              "      <th>modindx</th>\n",
              "      <th>label</th>\n",
              "    </tr>\n",
              "  </thead>\n",
              "  <tbody>\n",
              "    <tr>\n",
              "      <th>0</th>\n",
              "      <td>765</td>\n",
              "      <td>0.162337</td>\n",
              "      <td>0.058206</td>\n",
              "      <td>0.174065</td>\n",
              "      <td>0.100225</td>\n",
              "      <td>0.196512</td>\n",
              "      <td>0.096287</td>\n",
              "      <td>2.127226</td>\n",
              "      <td>7.815129</td>\n",
              "      <td>0.921533</td>\n",
              "      <td>...</td>\n",
              "      <td>0.162337</td>\n",
              "      <td>0.095852</td>\n",
              "      <td>0.016754</td>\n",
              "      <td>0.235294</td>\n",
              "      <td>0.406033</td>\n",
              "      <td>0.046875</td>\n",
              "      <td>3.484375</td>\n",
              "      <td>3.437500</td>\n",
              "      <td>0.155348</td>\n",
              "      <td>male</td>\n",
              "    </tr>\n",
              "    <tr>\n",
              "      <th>1</th>\n",
              "      <td>3071</td>\n",
              "      <td>0.161653</td>\n",
              "      <td>0.057435</td>\n",
              "      <td>0.170138</td>\n",
              "      <td>0.157522</td>\n",
              "      <td>0.182929</td>\n",
              "      <td>0.025407</td>\n",
              "      <td>6.968850</td>\n",
              "      <td>60.968047</td>\n",
              "      <td>0.870409</td>\n",
              "      <td>...</td>\n",
              "      <td>0.161653</td>\n",
              "      <td>0.163486</td>\n",
              "      <td>0.015601</td>\n",
              "      <td>0.204082</td>\n",
              "      <td>0.595161</td>\n",
              "      <td>0.170898</td>\n",
              "      <td>3.979492</td>\n",
              "      <td>3.808594</td>\n",
              "      <td>0.209073</td>\n",
              "      <td>female</td>\n",
              "    </tr>\n",
              "    <tr>\n",
              "      <th>2</th>\n",
              "      <td>1546</td>\n",
              "      <td>0.165290</td>\n",
              "      <td>0.061891</td>\n",
              "      <td>0.135071</td>\n",
              "      <td>0.118468</td>\n",
              "      <td>0.225176</td>\n",
              "      <td>0.106708</td>\n",
              "      <td>2.631865</td>\n",
              "      <td>12.629116</td>\n",
              "      <td>0.918897</td>\n",
              "      <td>...</td>\n",
              "      <td>0.165290</td>\n",
              "      <td>0.120050</td>\n",
              "      <td>0.035088</td>\n",
              "      <td>0.222222</td>\n",
              "      <td>0.458577</td>\n",
              "      <td>0.087891</td>\n",
              "      <td>1.015625</td>\n",
              "      <td>0.927734</td>\n",
              "      <td>0.459834</td>\n",
              "      <td>male</td>\n",
              "    </tr>\n",
              "    <tr>\n",
              "      <th>3</th>\n",
              "      <td>410</td>\n",
              "      <td>0.188100</td>\n",
              "      <td>0.055735</td>\n",
              "      <td>0.206028</td>\n",
              "      <td>0.130493</td>\n",
              "      <td>0.229470</td>\n",
              "      <td>0.098977</td>\n",
              "      <td>1.538406</td>\n",
              "      <td>5.145753</td>\n",
              "      <td>0.914325</td>\n",
              "      <td>...</td>\n",
              "      <td>0.188100</td>\n",
              "      <td>0.108470</td>\n",
              "      <td>0.021305</td>\n",
              "      <td>0.145455</td>\n",
              "      <td>0.493229</td>\n",
              "      <td>0.125000</td>\n",
              "      <td>4.734375</td>\n",
              "      <td>4.609375</td>\n",
              "      <td>0.105202</td>\n",
              "      <td>male</td>\n",
              "    </tr>\n",
              "    <tr>\n",
              "      <th>4</th>\n",
              "      <td>2689</td>\n",
              "      <td>0.187497</td>\n",
              "      <td>0.044226</td>\n",
              "      <td>0.190071</td>\n",
              "      <td>0.156800</td>\n",
              "      <td>0.215435</td>\n",
              "      <td>0.058635</td>\n",
              "      <td>1.653083</td>\n",
              "      <td>5.839465</td>\n",
              "      <td>0.907477</td>\n",
              "      <td>...</td>\n",
              "      <td>0.187497</td>\n",
              "      <td>0.154529</td>\n",
              "      <td>0.048338</td>\n",
              "      <td>0.279070</td>\n",
              "      <td>1.113502</td>\n",
              "      <td>0.023438</td>\n",
              "      <td>8.765625</td>\n",
              "      <td>8.742188</td>\n",
              "      <td>0.103095</td>\n",
              "      <td>female</td>\n",
              "    </tr>\n",
              "  </tbody>\n",
              "</table>\n",
              "<p>5 rows × 22 columns</p>\n",
              "</div>\n",
              "      <button class=\"colab-df-convert\" onclick=\"convertToInteractive('df-65b6fac5-c9e1-4139-91eb-87b20551957b')\"\n",
              "              title=\"Convert this dataframe to an interactive table.\"\n",
              "              style=\"display:none;\">\n",
              "        \n",
              "  <svg xmlns=\"http://www.w3.org/2000/svg\" height=\"24px\"viewBox=\"0 0 24 24\"\n",
              "       width=\"24px\">\n",
              "    <path d=\"M0 0h24v24H0V0z\" fill=\"none\"/>\n",
              "    <path d=\"M18.56 5.44l.94 2.06.94-2.06 2.06-.94-2.06-.94-.94-2.06-.94 2.06-2.06.94zm-11 1L8.5 8.5l.94-2.06 2.06-.94-2.06-.94L8.5 2.5l-.94 2.06-2.06.94zm10 10l.94 2.06.94-2.06 2.06-.94-2.06-.94-.94-2.06-.94 2.06-2.06.94z\"/><path d=\"M17.41 7.96l-1.37-1.37c-.4-.4-.92-.59-1.43-.59-.52 0-1.04.2-1.43.59L10.3 9.45l-7.72 7.72c-.78.78-.78 2.05 0 2.83L4 21.41c.39.39.9.59 1.41.59.51 0 1.02-.2 1.41-.59l7.78-7.78 2.81-2.81c.8-.78.8-2.07 0-2.86zM5.41 20L4 18.59l7.72-7.72 1.47 1.35L5.41 20z\"/>\n",
              "  </svg>\n",
              "      </button>\n",
              "      \n",
              "  <style>\n",
              "    .colab-df-container {\n",
              "      display:flex;\n",
              "      flex-wrap:wrap;\n",
              "      gap: 12px;\n",
              "    }\n",
              "\n",
              "    .colab-df-convert {\n",
              "      background-color: #E8F0FE;\n",
              "      border: none;\n",
              "      border-radius: 50%;\n",
              "      cursor: pointer;\n",
              "      display: none;\n",
              "      fill: #1967D2;\n",
              "      height: 32px;\n",
              "      padding: 0 0 0 0;\n",
              "      width: 32px;\n",
              "    }\n",
              "\n",
              "    .colab-df-convert:hover {\n",
              "      background-color: #E2EBFA;\n",
              "      box-shadow: 0px 1px 2px rgba(60, 64, 67, 0.3), 0px 1px 3px 1px rgba(60, 64, 67, 0.15);\n",
              "      fill: #174EA6;\n",
              "    }\n",
              "\n",
              "    [theme=dark] .colab-df-convert {\n",
              "      background-color: #3B4455;\n",
              "      fill: #D2E3FC;\n",
              "    }\n",
              "\n",
              "    [theme=dark] .colab-df-convert:hover {\n",
              "      background-color: #434B5C;\n",
              "      box-shadow: 0px 1px 3px 1px rgba(0, 0, 0, 0.15);\n",
              "      filter: drop-shadow(0px 1px 2px rgba(0, 0, 0, 0.3));\n",
              "      fill: #FFFFFF;\n",
              "    }\n",
              "  </style>\n",
              "\n",
              "      <script>\n",
              "        const buttonEl =\n",
              "          document.querySelector('#df-65b6fac5-c9e1-4139-91eb-87b20551957b button.colab-df-convert');\n",
              "        buttonEl.style.display =\n",
              "          google.colab.kernel.accessAllowed ? 'block' : 'none';\n",
              "\n",
              "        async function convertToInteractive(key) {\n",
              "          const element = document.querySelector('#df-65b6fac5-c9e1-4139-91eb-87b20551957b');\n",
              "          const dataTable =\n",
              "            await google.colab.kernel.invokeFunction('convertToInteractive',\n",
              "                                                     [key], {});\n",
              "          if (!dataTable) return;\n",
              "\n",
              "          const docLinkHtml = 'Like what you see? Visit the ' +\n",
              "            '<a target=\"_blank\" href=https://colab.research.google.com/notebooks/data_table.ipynb>data table notebook</a>'\n",
              "            + ' to learn more about interactive tables.';\n",
              "          element.innerHTML = '';\n",
              "          dataTable['output_type'] = 'display_data';\n",
              "          await google.colab.output.renderOutput(dataTable, element);\n",
              "          const docLink = document.createElement('div');\n",
              "          docLink.innerHTML = docLinkHtml;\n",
              "          element.appendChild(docLink);\n",
              "        }\n",
              "      </script>\n",
              "    </div>\n",
              "  </div>\n",
              "  "
            ]
          },
          "metadata": {},
          "execution_count": 137
        }
      ]
    },
    {
      "cell_type": "code",
      "source": [
        "df.tail(5)"
      ],
      "metadata": {
        "colab": {
          "base_uri": "https://localhost:8080/",
          "height": 299
        },
        "id": "_Zae5ImxAAiD",
        "outputId": "ad18695b-62d7-4f2d-ffd7-f86343b4a2da"
      },
      "execution_count": null,
      "outputs": [
        {
          "output_type": "execute_result",
          "data": {
            "text/plain": [
              "        Id  meanfreq        sd    median       Q25       Q75       IQR  \\\n",
              "2846  3092  0.166738  0.052677  0.169427  0.162650  0.189223  0.026573   \n",
              "2847  1095  0.198718  0.058959  0.217333  0.143111  0.252000  0.108889   \n",
              "2848  1130  0.202333  0.063001  0.221946  0.137544  0.264817  0.127273   \n",
              "2849  1294  0.181799  0.058102  0.192037  0.123670  0.225568  0.101897   \n",
              "2850   860  0.167732  0.066225  0.171886  0.112598  0.225196  0.112598   \n",
              "\n",
              "          skew       kurt    sp.ent  ...  centroid   meanfun    minfun  \\\n",
              "2846  7.550412  76.134526  0.865282  ...  0.166738  0.152651  0.022727   \n",
              "2847  1.116666   3.569725  0.917123  ...  0.198718  0.139322  0.050473   \n",
              "2848  2.000371   6.681799  0.873847  ...  0.202333  0.123610  0.047291   \n",
              "2849  1.091660   4.009295  0.925575  ...  0.181799  0.110586  0.049741   \n",
              "2850  0.822981   3.103282  0.953210  ...  0.167732  0.126107  0.048096   \n",
              "\n",
              "        maxfun   meandom    mindom    maxdom   dfrange   modindx   label  \n",
              "2846  0.208333  0.174154  0.161133  0.214844  0.053711  0.136364  female  \n",
              "2847  0.279070  0.792092  0.023438  4.968750  4.945312  0.155766    male  \n",
              "2848  0.269663  1.190168  0.023438  7.429688  7.406250  0.093438    male  \n",
              "2849  0.274286  0.789062  0.023438  4.359375  4.335938  0.062312    male  \n",
              "2850  0.279070  0.813616  0.023438  6.023438  6.000000  0.123384    male  \n",
              "\n",
              "[5 rows x 22 columns]"
            ],
            "text/html": [
              "\n",
              "  <div id=\"df-fb125e7f-af21-4bac-a882-faad05c01ad9\">\n",
              "    <div class=\"colab-df-container\">\n",
              "      <div>\n",
              "<style scoped>\n",
              "    .dataframe tbody tr th:only-of-type {\n",
              "        vertical-align: middle;\n",
              "    }\n",
              "\n",
              "    .dataframe tbody tr th {\n",
              "        vertical-align: top;\n",
              "    }\n",
              "\n",
              "    .dataframe thead th {\n",
              "        text-align: right;\n",
              "    }\n",
              "</style>\n",
              "<table border=\"1\" class=\"dataframe\">\n",
              "  <thead>\n",
              "    <tr style=\"text-align: right;\">\n",
              "      <th></th>\n",
              "      <th>Id</th>\n",
              "      <th>meanfreq</th>\n",
              "      <th>sd</th>\n",
              "      <th>median</th>\n",
              "      <th>Q25</th>\n",
              "      <th>Q75</th>\n",
              "      <th>IQR</th>\n",
              "      <th>skew</th>\n",
              "      <th>kurt</th>\n",
              "      <th>sp.ent</th>\n",
              "      <th>...</th>\n",
              "      <th>centroid</th>\n",
              "      <th>meanfun</th>\n",
              "      <th>minfun</th>\n",
              "      <th>maxfun</th>\n",
              "      <th>meandom</th>\n",
              "      <th>mindom</th>\n",
              "      <th>maxdom</th>\n",
              "      <th>dfrange</th>\n",
              "      <th>modindx</th>\n",
              "      <th>label</th>\n",
              "    </tr>\n",
              "  </thead>\n",
              "  <tbody>\n",
              "    <tr>\n",
              "      <th>2846</th>\n",
              "      <td>3092</td>\n",
              "      <td>0.166738</td>\n",
              "      <td>0.052677</td>\n",
              "      <td>0.169427</td>\n",
              "      <td>0.162650</td>\n",
              "      <td>0.189223</td>\n",
              "      <td>0.026573</td>\n",
              "      <td>7.550412</td>\n",
              "      <td>76.134526</td>\n",
              "      <td>0.865282</td>\n",
              "      <td>...</td>\n",
              "      <td>0.166738</td>\n",
              "      <td>0.152651</td>\n",
              "      <td>0.022727</td>\n",
              "      <td>0.208333</td>\n",
              "      <td>0.174154</td>\n",
              "      <td>0.161133</td>\n",
              "      <td>0.214844</td>\n",
              "      <td>0.053711</td>\n",
              "      <td>0.136364</td>\n",
              "      <td>female</td>\n",
              "    </tr>\n",
              "    <tr>\n",
              "      <th>2847</th>\n",
              "      <td>1095</td>\n",
              "      <td>0.198718</td>\n",
              "      <td>0.058959</td>\n",
              "      <td>0.217333</td>\n",
              "      <td>0.143111</td>\n",
              "      <td>0.252000</td>\n",
              "      <td>0.108889</td>\n",
              "      <td>1.116666</td>\n",
              "      <td>3.569725</td>\n",
              "      <td>0.917123</td>\n",
              "      <td>...</td>\n",
              "      <td>0.198718</td>\n",
              "      <td>0.139322</td>\n",
              "      <td>0.050473</td>\n",
              "      <td>0.279070</td>\n",
              "      <td>0.792092</td>\n",
              "      <td>0.023438</td>\n",
              "      <td>4.968750</td>\n",
              "      <td>4.945312</td>\n",
              "      <td>0.155766</td>\n",
              "      <td>male</td>\n",
              "    </tr>\n",
              "    <tr>\n",
              "      <th>2848</th>\n",
              "      <td>1130</td>\n",
              "      <td>0.202333</td>\n",
              "      <td>0.063001</td>\n",
              "      <td>0.221946</td>\n",
              "      <td>0.137544</td>\n",
              "      <td>0.264817</td>\n",
              "      <td>0.127273</td>\n",
              "      <td>2.000371</td>\n",
              "      <td>6.681799</td>\n",
              "      <td>0.873847</td>\n",
              "      <td>...</td>\n",
              "      <td>0.202333</td>\n",
              "      <td>0.123610</td>\n",
              "      <td>0.047291</td>\n",
              "      <td>0.269663</td>\n",
              "      <td>1.190168</td>\n",
              "      <td>0.023438</td>\n",
              "      <td>7.429688</td>\n",
              "      <td>7.406250</td>\n",
              "      <td>0.093438</td>\n",
              "      <td>male</td>\n",
              "    </tr>\n",
              "    <tr>\n",
              "      <th>2849</th>\n",
              "      <td>1294</td>\n",
              "      <td>0.181799</td>\n",
              "      <td>0.058102</td>\n",
              "      <td>0.192037</td>\n",
              "      <td>0.123670</td>\n",
              "      <td>0.225568</td>\n",
              "      <td>0.101897</td>\n",
              "      <td>1.091660</td>\n",
              "      <td>4.009295</td>\n",
              "      <td>0.925575</td>\n",
              "      <td>...</td>\n",
              "      <td>0.181799</td>\n",
              "      <td>0.110586</td>\n",
              "      <td>0.049741</td>\n",
              "      <td>0.274286</td>\n",
              "      <td>0.789062</td>\n",
              "      <td>0.023438</td>\n",
              "      <td>4.359375</td>\n",
              "      <td>4.335938</td>\n",
              "      <td>0.062312</td>\n",
              "      <td>male</td>\n",
              "    </tr>\n",
              "    <tr>\n",
              "      <th>2850</th>\n",
              "      <td>860</td>\n",
              "      <td>0.167732</td>\n",
              "      <td>0.066225</td>\n",
              "      <td>0.171886</td>\n",
              "      <td>0.112598</td>\n",
              "      <td>0.225196</td>\n",
              "      <td>0.112598</td>\n",
              "      <td>0.822981</td>\n",
              "      <td>3.103282</td>\n",
              "      <td>0.953210</td>\n",
              "      <td>...</td>\n",
              "      <td>0.167732</td>\n",
              "      <td>0.126107</td>\n",
              "      <td>0.048096</td>\n",
              "      <td>0.279070</td>\n",
              "      <td>0.813616</td>\n",
              "      <td>0.023438</td>\n",
              "      <td>6.023438</td>\n",
              "      <td>6.000000</td>\n",
              "      <td>0.123384</td>\n",
              "      <td>male</td>\n",
              "    </tr>\n",
              "  </tbody>\n",
              "</table>\n",
              "<p>5 rows × 22 columns</p>\n",
              "</div>\n",
              "      <button class=\"colab-df-convert\" onclick=\"convertToInteractive('df-fb125e7f-af21-4bac-a882-faad05c01ad9')\"\n",
              "              title=\"Convert this dataframe to an interactive table.\"\n",
              "              style=\"display:none;\">\n",
              "        \n",
              "  <svg xmlns=\"http://www.w3.org/2000/svg\" height=\"24px\"viewBox=\"0 0 24 24\"\n",
              "       width=\"24px\">\n",
              "    <path d=\"M0 0h24v24H0V0z\" fill=\"none\"/>\n",
              "    <path d=\"M18.56 5.44l.94 2.06.94-2.06 2.06-.94-2.06-.94-.94-2.06-.94 2.06-2.06.94zm-11 1L8.5 8.5l.94-2.06 2.06-.94-2.06-.94L8.5 2.5l-.94 2.06-2.06.94zm10 10l.94 2.06.94-2.06 2.06-.94-2.06-.94-.94-2.06-.94 2.06-2.06.94z\"/><path d=\"M17.41 7.96l-1.37-1.37c-.4-.4-.92-.59-1.43-.59-.52 0-1.04.2-1.43.59L10.3 9.45l-7.72 7.72c-.78.78-.78 2.05 0 2.83L4 21.41c.39.39.9.59 1.41.59.51 0 1.02-.2 1.41-.59l7.78-7.78 2.81-2.81c.8-.78.8-2.07 0-2.86zM5.41 20L4 18.59l7.72-7.72 1.47 1.35L5.41 20z\"/>\n",
              "  </svg>\n",
              "      </button>\n",
              "      \n",
              "  <style>\n",
              "    .colab-df-container {\n",
              "      display:flex;\n",
              "      flex-wrap:wrap;\n",
              "      gap: 12px;\n",
              "    }\n",
              "\n",
              "    .colab-df-convert {\n",
              "      background-color: #E8F0FE;\n",
              "      border: none;\n",
              "      border-radius: 50%;\n",
              "      cursor: pointer;\n",
              "      display: none;\n",
              "      fill: #1967D2;\n",
              "      height: 32px;\n",
              "      padding: 0 0 0 0;\n",
              "      width: 32px;\n",
              "    }\n",
              "\n",
              "    .colab-df-convert:hover {\n",
              "      background-color: #E2EBFA;\n",
              "      box-shadow: 0px 1px 2px rgba(60, 64, 67, 0.3), 0px 1px 3px 1px rgba(60, 64, 67, 0.15);\n",
              "      fill: #174EA6;\n",
              "    }\n",
              "\n",
              "    [theme=dark] .colab-df-convert {\n",
              "      background-color: #3B4455;\n",
              "      fill: #D2E3FC;\n",
              "    }\n",
              "\n",
              "    [theme=dark] .colab-df-convert:hover {\n",
              "      background-color: #434B5C;\n",
              "      box-shadow: 0px 1px 3px 1px rgba(0, 0, 0, 0.15);\n",
              "      filter: drop-shadow(0px 1px 2px rgba(0, 0, 0, 0.3));\n",
              "      fill: #FFFFFF;\n",
              "    }\n",
              "  </style>\n",
              "\n",
              "      <script>\n",
              "        const buttonEl =\n",
              "          document.querySelector('#df-fb125e7f-af21-4bac-a882-faad05c01ad9 button.colab-df-convert');\n",
              "        buttonEl.style.display =\n",
              "          google.colab.kernel.accessAllowed ? 'block' : 'none';\n",
              "\n",
              "        async function convertToInteractive(key) {\n",
              "          const element = document.querySelector('#df-fb125e7f-af21-4bac-a882-faad05c01ad9');\n",
              "          const dataTable =\n",
              "            await google.colab.kernel.invokeFunction('convertToInteractive',\n",
              "                                                     [key], {});\n",
              "          if (!dataTable) return;\n",
              "\n",
              "          const docLinkHtml = 'Like what you see? Visit the ' +\n",
              "            '<a target=\"_blank\" href=https://colab.research.google.com/notebooks/data_table.ipynb>data table notebook</a>'\n",
              "            + ' to learn more about interactive tables.';\n",
              "          element.innerHTML = '';\n",
              "          dataTable['output_type'] = 'display_data';\n",
              "          await google.colab.output.renderOutput(dataTable, element);\n",
              "          const docLink = document.createElement('div');\n",
              "          docLink.innerHTML = docLinkHtml;\n",
              "          element.appendChild(docLink);\n",
              "        }\n",
              "      </script>\n",
              "    </div>\n",
              "  </div>\n",
              "  "
            ]
          },
          "metadata": {},
          "execution_count": 138
        }
      ]
    },
    {
      "cell_type": "code",
      "source": [
        "df.info()"
      ],
      "metadata": {
        "colab": {
          "base_uri": "https://localhost:8080/"
        },
        "id": "CmbgZDHpFj0z",
        "outputId": "304bf01e-0df4-4e45-dd85-c57308c61d7b"
      },
      "execution_count": null,
      "outputs": [
        {
          "output_type": "stream",
          "name": "stdout",
          "text": [
            "<class 'pandas.core.frame.DataFrame'>\n",
            "RangeIndex: 2851 entries, 0 to 2850\n",
            "Data columns (total 22 columns):\n",
            " #   Column    Non-Null Count  Dtype  \n",
            "---  ------    --------------  -----  \n",
            " 0   Id        2851 non-null   int64  \n",
            " 1   meanfreq  2851 non-null   float64\n",
            " 2   sd        2851 non-null   float64\n",
            " 3   median    2851 non-null   float64\n",
            " 4   Q25       2851 non-null   float64\n",
            " 5   Q75       2851 non-null   float64\n",
            " 6   IQR       2851 non-null   float64\n",
            " 7   skew      2851 non-null   float64\n",
            " 8   kurt      2851 non-null   float64\n",
            " 9   sp.ent    2851 non-null   float64\n",
            " 10  sfm       2851 non-null   float64\n",
            " 11  mode      2851 non-null   float64\n",
            " 12  centroid  2851 non-null   float64\n",
            " 13  meanfun   2851 non-null   float64\n",
            " 14  minfun    2851 non-null   float64\n",
            " 15  maxfun    2851 non-null   float64\n",
            " 16  meandom   2851 non-null   float64\n",
            " 17  mindom    2851 non-null   float64\n",
            " 18  maxdom    2851 non-null   float64\n",
            " 19  dfrange   2851 non-null   float64\n",
            " 20  modindx   2851 non-null   float64\n",
            " 21  label     2851 non-null   object \n",
            "dtypes: float64(20), int64(1), object(1)\n",
            "memory usage: 490.1+ KB\n"
          ]
        }
      ]
    },
    {
      "cell_type": "markdown",
      "source": [
        "**Data Pre-processing**"
      ],
      "metadata": {
        "id": "Gjr4FarCFryr"
      }
    },
    {
      "cell_type": "code",
      "source": [
        "# Checking for Null values\n",
        "df.isnull().sum()"
      ],
      "metadata": {
        "colab": {
          "base_uri": "https://localhost:8080/"
        },
        "id": "80b0ESZcFt9q",
        "outputId": "e995c230-2701-4bb4-820f-36ebe537fae1"
      },
      "execution_count": null,
      "outputs": [
        {
          "output_type": "execute_result",
          "data": {
            "text/plain": [
              "Id          0\n",
              "meanfreq    0\n",
              "sd          0\n",
              "median      0\n",
              "Q25         0\n",
              "Q75         0\n",
              "IQR         0\n",
              "skew        0\n",
              "kurt        0\n",
              "sp.ent      0\n",
              "sfm         0\n",
              "mode        0\n",
              "centroid    0\n",
              "meanfun     0\n",
              "minfun      0\n",
              "maxfun      0\n",
              "meandom     0\n",
              "mindom      0\n",
              "maxdom      0\n",
              "dfrange     0\n",
              "modindx     0\n",
              "label       0\n",
              "dtype: int64"
            ]
          },
          "metadata": {},
          "execution_count": 140
        }
      ]
    },
    {
      "cell_type": "markdown",
      "source": [
        "**Encoding labels from string to boolean value**"
      ],
      "metadata": {
        "id": "2EO6K6boF4CS"
      }
    },
    {
      "cell_type": "code",
      "source": [
        "df.replace(to_replace=\"male\", value=1, inplace=True)\n",
        "df.replace(to_replace=\"female\", value=0, inplace=True)\n",
        "df.label.unique()"
      ],
      "metadata": {
        "colab": {
          "base_uri": "https://localhost:8080/"
        },
        "id": "8hzwBHZ2F5q6",
        "outputId": "3c9d8735-461b-470b-b891-1cbda341f8ad"
      },
      "execution_count": null,
      "outputs": [
        {
          "output_type": "execute_result",
          "data": {
            "text/plain": [
              "array([1, 0])"
            ]
          },
          "metadata": {},
          "execution_count": 141
        }
      ]
    },
    {
      "cell_type": "markdown",
      "source": [
        "**Splitting the data for training and testing**"
      ],
      "metadata": {
        "id": "-NmsmJniGvmB"
      }
    },
    {
      "cell_type": "code",
      "source": [
        "xData=df.iloc[:,:-1]\n",
        "yData=df.iloc[:,-1]\n",
        "xData.shape, yData.shape"
      ],
      "metadata": {
        "colab": {
          "base_uri": "https://localhost:8080/"
        },
        "id": "3IxqJ61XGxWZ",
        "outputId": "ca77449e-fbef-4013-808e-10dbe41144ee"
      },
      "execution_count": null,
      "outputs": [
        {
          "output_type": "execute_result",
          "data": {
            "text/plain": [
              "((2851, 21), (2851,))"
            ]
          },
          "metadata": {},
          "execution_count": 142
        }
      ]
    },
    {
      "cell_type": "code",
      "source": [
        "TRAINSPLIT = 0.8\n",
        "\n",
        "xTrain, xTest, yTrain, yTest = sklearn.model_selection.train_test_split(xData, yData, train_size=TRAINSPLIT)\n",
        "xTrain.shape, yTrain.shape"
      ],
      "metadata": {
        "colab": {
          "base_uri": "https://localhost:8080/"
        },
        "id": "ZnbMja6nG7ux",
        "outputId": "14020268-ba34-438b-ac4e-e2795969e6f0"
      },
      "execution_count": null,
      "outputs": [
        {
          "output_type": "execute_result",
          "data": {
            "text/plain": [
              "((2280, 21), (2280,))"
            ]
          },
          "metadata": {},
          "execution_count": 143
        }
      ]
    },
    {
      "cell_type": "markdown",
      "source": [
        "# Exploratory Data Analysis"
      ],
      "metadata": {
        "id": "iHjYoS4CG_t5"
      }
    },
    {
      "cell_type": "code",
      "source": [
        "plt.figure(figsize=(18, 8))\n",
        "plt.subplot(1, 2, 1)\n",
        "df.label.value_counts().plot(kind=\"pie\",\n",
        "                                           fontsize=16,\n",
        "                                           labels=[\"Male\", \"Female\"],\n",
        "                                           ylabel=\"Male vs Female\",\n",
        "                                           autopct='%1.1f%%');\n",
        "\n",
        "plt.subplot(1, 2, 2)\n",
        "sns.countplot(x=\"label\",data=df, palette=\"pastel\")\n",
        "plt.show()"
      ],
      "metadata": {
        "colab": {
          "base_uri": "https://localhost:8080/",
          "height": 495
        },
        "id": "xecO6AtaILeJ",
        "outputId": "59cff782-690d-4e32-cf7c-7a76f038580a"
      },
      "execution_count": null,
      "outputs": [
        {
          "output_type": "display_data",
          "data": {
            "text/plain": [
              "<Figure size 1296x576 with 2 Axes>"
            ],
            "image/png": "[encoded data removed]"
          },
          "metadata": {}
        }
      ]
    },
    {
      "cell_type": "markdown",
      "source": [
        "# Correlation between different features and our target variable"
      ],
      "metadata": {
        "id": "knU125P7IUXC"
      }
    },
    {
      "cell_type": "markdown",
      "source": [
        "**Correlation coefficient**\n",
        "\n",
        "The correlation coefficient is a statistical measure of the strength of the relationship between the relative movements of two variables. The values range between -1.0 and 1.0. A calculated number greater than 1.0 or less than -1.0 means that there was an error in the correlation measurement. A correlation of -1.0 shows a perfect negative correlation, while a correlation of 1.0 shows a perfect positive correlation. A correlation of 0.0 shows no linear relationship between the movement of the two variables."
      ],
      "metadata": {
        "id": "qthmqN41IZjg"
      }
    },
    {
      "cell_type": "code",
      "source": [
        "plt.figure(figsize=(12,8))\n",
        "data = df.corr()[\"label\"].sort_values(ascending=False)\n",
        "indices = data.index\n",
        "labels = []\n",
        "corr = []\n",
        "for i in range(1, len(indices)):\n",
        "    labels.append(indices[i])\n",
        "    corr.append(data[i])\n",
        "sns.barplot(x=corr, y=labels, palette='viridis')\n",
        "plt.title('Correlation coefficient between different features and Label')\n",
        "plt.show()"
      ],
      "metadata": {
        "colab": {
          "base_uri": "https://localhost:8080/",
          "height": 494
        },
        "id": "-JB52i51NNGe",
        "outputId": "094c1596-14dc-421b-bc7e-5443ed619e0f"
      },
      "execution_count": null,
      "outputs": [
        {
          "output_type": "display_data",
          "data": {
            "text/plain": [
              "<Figure size 864x576 with 1 Axes>"
            ],
            "image/png": "[encoded data removed]"
          },
          "metadata": {}
        }
      ]
    },
    {
      "cell_type": "markdown",
      "source": [
        "# Distribution of meanfun in our data"
      ],
      "metadata": {
        "id": "zPIktV89J8BP"
      }
    },
    {
      "cell_type": "code",
      "source": [
        "plt.figure(figsize=(20,8))\n",
        "sns.histplot(df.meanfun, color=sns.color_palette('magma')[2])\n",
        "plt.show()"
      ],
      "metadata": {
        "colab": {
          "base_uri": "https://localhost:8080/",
          "height": 495
        },
        "id": "pC4HUOV4J-KA",
        "outputId": "2c15edcf-73ba-4ac2-cac4-eccd99801625"
      },
      "execution_count": null,
      "outputs": [
        {
          "output_type": "display_data",
          "data": {
            "text/plain": [
              "<Figure size 1440x576 with 1 Axes>"
            ],
            "image/png": "[encoded data removed]"
          },
          "metadata": {}
        }
      ]
    },
    {
      "cell_type": "markdown",
      "source": [
        "# Classifying"
      ],
      "metadata": {
        "id": "ahGl9Sd6KGJI"
      }
    },
    {
      "cell_type": "markdown",
      "source": [
        "# Building and fitting the models"
      ],
      "metadata": {
        "id": "gj0fqU-kKJdP"
      }
    },
    {
      "cell_type": "markdown",
      "source": [
        "Logistic Regression\n",
        "**bold text**\n",
        "Logistic regression estimates the probability of an event occurring, such as voted or didn't vote, based on a given dataset of independent variables. Since the outcome is a probability, the dependent variable is bounded between 0 and 1."
      ],
      "metadata": {
        "id": "bo5v-wWtKNto"
      }
    },
    {
      "cell_type": "code",
      "source": [
        "regressionModel = LogisticRegression(solver='liblinear')\n",
        "regressionModel.fit(xTrain,yTrain)\n",
        "regressionModel.score(xTrain,yTrain)"
      ],
      "metadata": {
        "colab": {
          "base_uri": "https://localhost:8080/"
        },
        "id": "VB9k43LsKK8f",
        "outputId": "4d1455fb-b98f-42c8-b0f2-d3df4d060bf4"
      },
      "execution_count": null,
      "outputs": [
        {
          "output_type": "execute_result",
          "data": {
            "text/plain": [
              "0.9763157894736842"
            ]
          },
          "metadata": {},
          "execution_count": 147
        }
      ]
    },
    {
      "cell_type": "markdown",
      "source": [
        "**The K-nearest neighbours**\n",
        "\n",
        "The K-nearest neighbours (KNN) classifier uses proximity to make classifications or predictions about independent data points. This technique may be used for both classification and regression scenarios and the output will vary. In classification instances, a decision is made based on majority vote, i.e., the class assigned to the new data point is taken to be the one that is most frequently seen in the vicinity of the point. KNN is also known as a lazy learner technique since a model is not learned. Instead, the raw data is stored and used everytime a prediction must be made.\n",
        "\n"
      ],
      "metadata": {
        "id": "l9TPxDzeKaZn"
      }
    },
    {
      "cell_type": "code",
      "source": [
        "KNNModel = KNeighborsClassifier(n_neighbors=3)\n",
        "KNNModel.fit(xTrain,yTrain)\n",
        "KNNModel.score(xTrain,yTrain)"
      ],
      "metadata": {
        "colab": {
          "base_uri": "https://localhost:8080/"
        },
        "id": "lI08GW4dKcsX",
        "outputId": "f618444d-1d44-44ae-9b2c-e66e3f2eaa52"
      },
      "execution_count": null,
      "outputs": [
        {
          "output_type": "execute_result",
          "data": {
            "text/plain": [
              "0.9991228070175439"
            ]
          },
          "metadata": {},
          "execution_count": 148
        }
      ]
    },
    {
      "cell_type": "markdown",
      "source": [
        "**Support Vector Classifier**\n",
        "\n",
        "Support Vector Machine or SVM is one of the most popular Supervised Learning algorithms, which is used for Classification as well as Regression problems. However, primarily, it is used for Classification problems in Machine Learning.\n",
        "\n",
        "The goal of the SVM algorithm is to create the best line or decision boundary that can segregate n-dimensional space into classes so that we can easily put the new data point in the correct category in the future. This best decision boundary is called a hyperplane. SVM chooses the extreme points/vectors that help in creating the hyperplane.\n",
        "\n"
      ],
      "metadata": {
        "id": "UxWhaG-OK-Mn"
      }
    },
    {
      "cell_type": "code",
      "source": [
        "svmLinearModel=sklearn.svm.SVC(kernel='linear',C=10)\n",
        "svmLinearModel.fit(xTrain,yTrain)\n",
        "svmLinearModel.score(xTrain,yTrain)"
      ],
      "metadata": {
        "colab": {
          "base_uri": "https://localhost:8080/"
        },
        "id": "2PuVVpYvK8gn",
        "outputId": "0cf77ef0-2b5e-4fe6-8e18-f98778f2e967"
      },
      "execution_count": null,
      "outputs": [
        {
          "output_type": "execute_result",
          "data": {
            "text/plain": [
              "1.0"
            ]
          },
          "metadata": {},
          "execution_count": 149
        }
      ]
    },
    {
      "cell_type": "code",
      "source": [
        "svmRbfModel=sklearn.svm.SVC(kernel='rbf',C=10)\n",
        "svmRbfModel.fit(xTrain,yTrain)\n",
        "svmRbfModel.score(xTrain,yTrain)"
      ],
      "metadata": {
        "colab": {
          "base_uri": "https://localhost:8080/"
        },
        "id": "s0rp0qm-LH-N",
        "outputId": "4b7664a1-a226-4a7e-9413-e114b3ab958e"
      },
      "execution_count": null,
      "outputs": [
        {
          "output_type": "execute_result",
          "data": {
            "text/plain": [
              "0.999561403508772"
            ]
          },
          "metadata": {},
          "execution_count": 150
        }
      ]
    },
    {
      "cell_type": "code",
      "source": [
        "svmPolyModel=sklearn.svm.SVC(kernel='poly',C=10000)\n",
        "svmPolyModel.fit(xTrain,yTrain)\n",
        "svmPolyModel.score(xTrain,yTrain)"
      ],
      "metadata": {
        "colab": {
          "base_uri": "https://localhost:8080/"
        },
        "id": "3dhX8cjcLMaX",
        "outputId": "8d60327e-3f6e-4466-b265-c5fd3385a3fd"
      },
      "execution_count": null,
      "outputs": [
        {
          "output_type": "execute_result",
          "data": {
            "text/plain": [
              "0.999561403508772"
            ]
          },
          "metadata": {},
          "execution_count": 151
        }
      ]
    },
    {
      "cell_type": "markdown",
      "source": [
        "**Random forest classifier**\n",
        "\n",
        "The random forest classifier is an improvement over decision tree classifiers. Based on ensemble learning, a random forest classifier contains a number of decision trees on various subsets of the given dataset and takes the average to improve the predictive accuracy of that dataset. In general, a greater number of trees in the forest leads to higher accuracy and prevents the problem of overfitting."
      ],
      "metadata": {
        "id": "f1Puo9wqLP64"
      }
    },
    {
      "cell_type": "code",
      "source": [
        "randomFModel = RandomForestClassifier()\n",
        "randomFModel.fit(xTrain, yTrain)\n",
        "randomFModel.score(xTrain,yTrain)"
      ],
      "metadata": {
        "colab": {
          "base_uri": "https://localhost:8080/"
        },
        "id": "hueLwCsvLSTm",
        "outputId": "1fcb8d49-3132-4f8e-d344-58e696708e83"
      },
      "execution_count": null,
      "outputs": [
        {
          "output_type": "execute_result",
          "data": {
            "text/plain": [
              "1.0"
            ]
          },
          "metadata": {},
          "execution_count": 152
        }
      ]
    },
    {
      "cell_type": "markdown",
      "source": [
        "**Decision tree classifier**\n",
        "\n",
        "Decision Tree is a Supervised learning technique that can be used for both classification and Regression problems, but mostly it is preferred for solving Classification problems. It is a tree-structured classifier, where internal nodes represent the features of a dataset, branches represent the decision rules and each leaf node represents the outcome."
      ],
      "metadata": {
        "id": "jfepBjgtLX9P"
      }
    },
    {
      "cell_type": "code",
      "source": [
        "dTreeModel = DecisionTreeClassifier()\n",
        "dTreeModel.fit(xTrain, yTrain)\n",
        "dTreeModel.score(xTrain,yTrain)"
      ],
      "metadata": {
        "colab": {
          "base_uri": "https://localhost:8080/"
        },
        "id": "E3MeqhO8LeJe",
        "outputId": "07dd8711-54cf-42de-c011-6c1c07e849d4"
      },
      "execution_count": null,
      "outputs": [
        {
          "output_type": "execute_result",
          "data": {
            "text/plain": [
              "1.0"
            ]
          },
          "metadata": {},
          "execution_count": 153
        }
      ]
    },
    {
      "cell_type": "markdown",
      "source": [
        "# Performance Analysis of the different models"
      ],
      "metadata": {
        "id": "s2zV_D5NLj6m"
      }
    },
    {
      "cell_type": "code",
      "source": [
        "trainScores = [regressionModel.score(xTrain, yTrain), KNNModel.score(xTrain, yTrain), svmLinearModel.score(xTrain, yTrain), svmRbfModel.score(xTrain, yTrain),svmPolyModel.score(xTrain, yTrain), randomFModel.score(xTrain,yTrain), dTreeModel.score(xTrain,yTrain)]\n",
        "testScores = [regressionModel.score(xTest, yTest), KNNModel.score(xTest, yTest), svmLinearModel.score(xTest, yTest), svmRbfModel.score(xTest, yTest),svmPolyModel.score(xTest, yTest), randomFModel.score(xTest,yTest), dTreeModel.score(xTest,yTest)]\n",
        "indices = ['Logistic Regression', 'KNN', 'SVM-Linear', 'SVM-RBF','SVM-Poly', 'RandomForest', 'DecisionTree']\n",
        "scores = pd.DataFrame({'Training Score': trainScores,'Testing Score': testScores}, index=indices)\n",
        "plot = scores.plot.bar(figsize=(16, 8), rot=0)\n",
        "plt.title('Training and Testing Scores')\n",
        "plt.show()"
      ],
      "metadata": {
        "colab": {
          "base_uri": "https://localhost:8080/",
          "height": 494
        },
        "id": "YxleWhprLnxe",
        "outputId": "906155b7-f4f1-41b2-d775-64e95606f6ec"
      },
      "execution_count": null,
      "outputs": [
        {
          "output_type": "display_data",
          "data": {
            "text/plain": [
              "<Figure size 1152x576 with 1 Axes>"
            ],
            "image/png": "[encoded data removed]"
          },
          "metadata": {}
        }
      ]
    },
    {
      "cell_type": "markdown",
      "source": [
        "**Scores**"
      ],
      "metadata": {
        "id": "R-yHhjIBLwBO"
      }
    },
    {
      "cell_type": "markdown",
      "source": [
        "![scores.png](data:image/png;base64,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)"
      ],
      "metadata": {
        "id": "YoyWG2j5LyaG"
      }
    },
    {
      "cell_type": "markdown",
      "source": [
        "**Confusion Matrices**"
      ],
      "metadata": {
        "id": "k84hCgRgL4dP"
      }
    },
    {
      "cell_type": "code",
      "source": [
        "predRegression = regressionModel.predict(xTest)\n",
        "predSVMLinear = svmLinearModel.predict(xTest)\n",
        "predSVMRbf = svmRbfModel.predict(xTest)\n",
        "predKNN = KNNModel.predict(xTest)\n",
        "predSVMPoly = svmPolyModel.predict(xTest)\n",
        "predRandomF = randomFModel.predict(xTest)\n",
        "predDTree = dTreeModel.predict(xTest)\n",
        "predVals = pd.DataFrame(data={'truth': yTest, 'regression': predRegression, 'knn': predKNN, 'svm-linear': predSVMLinear, 'svm-rbf': predSVMRbf, 'svm-poly': predSVMPoly, 'random-forest': predRandomF, 'decision-tree': predDTree})"
      ],
      "metadata": {
        "id": "DuUQZS8vN3a1"
      },
      "execution_count": null,
      "outputs": []
    },
    {
      "cell_type": "code",
      "source": [
        "plt.figure(figsize=(16, 14))\n",
        "plt.subplot(3, 3, 1)\n",
        "sns.heatmap(sklearn.metrics.confusion_matrix(yTest, predRegression), annot=True).set(title='Logistic Regression')\n",
        "plt.subplot(3, 3, 2)\n",
        "sns.heatmap(sklearn.metrics.confusion_matrix(yTest, predKNN), annot=True).set(title='KNN')\n",
        "plt.subplot(3, 3, 3)\n",
        "sns.heatmap(sklearn.metrics.confusion_matrix(yTest, predSVMLinear), annot=True).set(title='SVM-Linear')\n",
        "plt.subplot(3, 3, 4)\n",
        "sns.heatmap(sklearn.metrics.confusion_matrix(yTest, predSVMRbf), annot=True).set(title='SVM-Rbf')\n",
        "plt.subplot(3, 3, 5)\n",
        "sns.heatmap(sklearn.metrics.confusion_matrix(yTest, predSVMPoly), annot=True).set(title='SVM-Poly')\n",
        "plt.subplot(3, 3, 6)\n",
        "sns.heatmap(sklearn.metrics.confusion_matrix(yTest, predRandomF), annot=True).set(title='Random Forest')\n",
        "plt.subplot(3, 3, 7)\n",
        "sns.heatmap(sklearn.metrics.confusion_matrix(yTest, predDTree), annot=True).set(title='Decision Tree')\n",
        "plt.show()"
      ],
      "metadata": {
        "colab": {
          "base_uri": "https://localhost:8080/",
          "height": 820
        },
        "id": "QtaTmoFnN_t1",
        "outputId": "d202d956-3d87-4e9c-f52f-550437e53e6d"
      },
      "execution_count": null,
      "outputs": [
        {
          "output_type": "display_data",
          "data": {
            "text/plain": [
              "<Figure size 1152x1008 with 14 Axes>"
            ],
            "image/png": "[encoded data removed]"
          },
          "metadata": {}
        }
      ]
    },
    {
      "cell_type": "markdown",
      "source": [
        "**Classification reports**"
      ],
      "metadata": {
        "id": "uQ-_1pgtOE0l"
      }
    },
    {
      "cell_type": "code",
      "source": [
        "print(\"Logistic Regression:\\n\\n\", sklearn.metrics.classification_report(yTest, predRegression))"
      ],
      "metadata": {
        "colab": {
          "base_uri": "https://localhost:8080/"
        },
        "id": "DYMs3ycJOIUt",
        "outputId": "51ce7d64-b471-4c66-e4a7-91297e83c65b"
      },
      "execution_count": null,
      "outputs": [
        {
          "output_type": "stream",
          "name": "stdout",
          "text": [
            "Logistic Regression:\n",
            "\n",
            "               precision    recall  f1-score   support\n",
            "\n",
            "           0       0.96      0.99      0.97       284\n",
            "           1       0.99      0.96      0.97       287\n",
            "\n",
            "    accuracy                           0.97       571\n",
            "   macro avg       0.97      0.97      0.97       571\n",
            "weighted avg       0.97      0.97      0.97       571\n",
            "\n"
          ]
        }
      ]
    },
    {
      "cell_type": "code",
      "source": [
        "print(\"KNN:\\n\\n\", sklearn.metrics.classification_report(yTest, predKNN))"
      ],
      "metadata": {
        "colab": {
          "base_uri": "https://localhost:8080/"
        },
        "id": "-Ya7XXDCOODF",
        "outputId": "cfc44028-bd6c-4648-88f8-e77cb3a6165a"
      },
      "execution_count": null,
      "outputs": [
        {
          "output_type": "stream",
          "name": "stdout",
          "text": [
            "KNN:\n",
            "\n",
            "               precision    recall  f1-score   support\n",
            "\n",
            "           0       1.00      1.00      1.00       284\n",
            "           1       1.00      1.00      1.00       287\n",
            "\n",
            "    accuracy                           1.00       571\n",
            "   macro avg       1.00      1.00      1.00       571\n",
            "weighted avg       1.00      1.00      1.00       571\n",
            "\n"
          ]
        }
      ]
    },
    {
      "cell_type": "code",
      "source": [
        "print(\"SVM with linear kernel:\\n\\n\", sklearn.metrics.classification_report(yTest, predSVMLinear))"
      ],
      "metadata": {
        "colab": {
          "base_uri": "https://localhost:8080/"
        },
        "id": "G7T_ix4uORv-",
        "outputId": "9b40f9d5-7380-4175-dd08-48c42e8f1273"
      },
      "execution_count": null,
      "outputs": [
        {
          "output_type": "stream",
          "name": "stdout",
          "text": [
            "SVM with linear kernel:\n",
            "\n",
            "               precision    recall  f1-score   support\n",
            "\n",
            "           0       1.00      1.00      1.00       284\n",
            "           1       1.00      1.00      1.00       287\n",
            "\n",
            "    accuracy                           1.00       571\n",
            "   macro avg       1.00      1.00      1.00       571\n",
            "weighted avg       1.00      1.00      1.00       571\n",
            "\n"
          ]
        }
      ]
    },
    {
      "cell_type": "code",
      "source": [
        "print(\"SVM with RBF kernel:\\n\\n\", sklearn.metrics.classification_report(yTest, predSVMRbf))"
      ],
      "metadata": {
        "colab": {
          "base_uri": "https://localhost:8080/"
        },
        "id": "zV0xROudOVI9",
        "outputId": "9ec92d38-db2a-4653-c4cf-fcf68e1c000a"
      },
      "execution_count": null,
      "outputs": [
        {
          "output_type": "stream",
          "name": "stdout",
          "text": [
            "SVM with RBF kernel:\n",
            "\n",
            "               precision    recall  f1-score   support\n",
            "\n",
            "           0       1.00      1.00      1.00       284\n",
            "           1       1.00      1.00      1.00       287\n",
            "\n",
            "    accuracy                           1.00       571\n",
            "   macro avg       1.00      1.00      1.00       571\n",
            "weighted avg       1.00      1.00      1.00       571\n",
            "\n"
          ]
        }
      ]
    },
    {
      "cell_type": "code",
      "source": [
        "print(\"SVM with poly kernel:\\n\\n\", sklearn.metrics.classification_report(yTest, predSVMPoly))"
      ],
      "metadata": {
        "colab": {
          "base_uri": "https://localhost:8080/"
        },
        "id": "NPQWAqkpOant",
        "outputId": "35343aab-5c66-4470-e0c3-b4743e70d87d"
      },
      "execution_count": null,
      "outputs": [
        {
          "output_type": "stream",
          "name": "stdout",
          "text": [
            "SVM with poly kernel:\n",
            "\n",
            "               precision    recall  f1-score   support\n",
            "\n",
            "           0       1.00      1.00      1.00       284\n",
            "           1       1.00      1.00      1.00       287\n",
            "\n",
            "    accuracy                           1.00       571\n",
            "   macro avg       1.00      1.00      1.00       571\n",
            "weighted avg       1.00      1.00      1.00       571\n",
            "\n"
          ]
        }
      ]
    },
    {
      "cell_type": "code",
      "source": [
        "print(\"Random Forest:\\n\\n\", sklearn.metrics.classification_report(yTest, predRandomF))"
      ],
      "metadata": {
        "colab": {
          "base_uri": "https://localhost:8080/"
        },
        "id": "RQPqJPM1OeRl",
        "outputId": "e3108e1a-40e4-45b3-bf0e-3239f4662e3b"
      },
      "execution_count": null,
      "outputs": [
        {
          "output_type": "stream",
          "name": "stdout",
          "text": [
            "Random Forest:\n",
            "\n",
            "               precision    recall  f1-score   support\n",
            "\n",
            "           0       1.00      1.00      1.00       284\n",
            "           1       1.00      1.00      1.00       287\n",
            "\n",
            "    accuracy                           1.00       571\n",
            "   macro avg       1.00      1.00      1.00       571\n",
            "weighted avg       1.00      1.00      1.00       571\n",
            "\n"
          ]
        }
      ]
    },
    {
      "cell_type": "code",
      "source": [
        "print(\"Decision Tree:\\n\\n\", sklearn.metrics.classification_report(yTest, predDTree))"
      ],
      "metadata": {
        "colab": {
          "base_uri": "https://localhost:8080/"
        },
        "id": "2KIdcqBHOhgM",
        "outputId": "6acf0975-7d53-404d-8272-2e366120e1d7"
      },
      "execution_count": null,
      "outputs": [
        {
          "output_type": "stream",
          "name": "stdout",
          "text": [
            "Decision Tree:\n",
            "\n",
            "               precision    recall  f1-score   support\n",
            "\n",
            "           0       1.00      1.00      1.00       284\n",
            "           1       1.00      1.00      1.00       287\n",
            "\n",
            "    accuracy                           1.00       571\n",
            "   macro avg       1.00      1.00      1.00       571\n",
            "weighted avg       1.00      1.00      1.00       571\n",
            "\n"
          ]
        }
      ]
    },
    {
      "cell_type": "markdown",
      "source": [
        "# **Overview of predictions**"
      ],
      "metadata": {
        "id": "a9Fm80WLOktA"
      }
    },
    {
      "cell_type": "code",
      "source": [
        "predVals.head()"
      ],
      "metadata": {
        "colab": {
          "base_uri": "https://localhost:8080/",
          "height": 206
        },
        "id": "7-wxP1XDOoM_",
        "outputId": "7e2e1b9c-bc11-4959-b3f1-09691b6767d5"
      },
      "execution_count": null,
      "outputs": [
        {
          "output_type": "execute_result",
          "data": {
            "text/plain": [
              "      truth  regression  knn  svm-linear  svm-rbf  svm-poly  random-forest  \\\n",
              "692       0           0    0           0        0         0              0   \n",
              "623       1           1    1           1        1         1              1   \n",
              "1142      0           0    0           0        0         0              0   \n",
              "2113      1           1    1           1        1         1              1   \n",
              "2240      0           0    0           0        0         0              0   \n",
              "\n",
              "      decision-tree  \n",
              "692               0  \n",
              "623               1  \n",
              "1142              0  \n",
              "2113              1  \n",
              "2240              0  "
            ],
            "text/html": [
              "\n",
              "  <div id=\"df-5905e4cd-12ad-408c-8c1d-8afbf85c4ac7\">\n",
              "    <div class=\"colab-df-container\">\n",
              "      <div>\n",
              "<style scoped>\n",
              "    .dataframe tbody tr th:only-of-type {\n",
              "        vertical-align: middle;\n",
              "    }\n",
              "\n",
              "    .dataframe tbody tr th {\n",
              "        vertical-align: top;\n",
              "    }\n",
              "\n",
              "    .dataframe thead th {\n",
              "        text-align: right;\n",
              "    }\n",
              "</style>\n",
              "<table border=\"1\" class=\"dataframe\">\n",
              "  <thead>\n",
              "    <tr style=\"text-align: right;\">\n",
              "      <th></th>\n",
              "      <th>truth</th>\n",
              "      <th>regression</th>\n",
              "      <th>knn</th>\n",
              "      <th>svm-linear</th>\n",
              "      <th>svm-rbf</th>\n",
              "      <th>svm-poly</th>\n",
              "      <th>random-forest</th>\n",
              "      <th>decision-tree</th>\n",
              "    </tr>\n",
              "  </thead>\n",
              "  <tbody>\n",
              "    <tr>\n",
              "      <th>692</th>\n",
              "      <td>0</td>\n",
              "      <td>0</td>\n",
              "      <td>0</td>\n",
              "      <td>0</td>\n",
              "      <td>0</td>\n",
              "      <td>0</td>\n",
              "      <td>0</td>\n",
              "      <td>0</td>\n",
              "    </tr>\n",
              "    <tr>\n",
              "      <th>623</th>\n",
              "      <td>1</td>\n",
              "      <td>1</td>\n",
              "      <td>1</td>\n",
              "      <td>1</td>\n",
              "      <td>1</td>\n",
              "      <td>1</td>\n",
              "      <td>1</td>\n",
              "      <td>1</td>\n",
              "    </tr>\n",
              "    <tr>\n",
              "      <th>1142</th>\n",
              "      <td>0</td>\n",
              "      <td>0</td>\n",
              "      <td>0</td>\n",
              "      <td>0</td>\n",
              "      <td>0</td>\n",
              "      <td>0</td>\n",
              "      <td>0</td>\n",
              "      <td>0</td>\n",
              "    </tr>\n",
              "    <tr>\n",
              "      <th>2113</th>\n",
              "      <td>1</td>\n",
              "      <td>1</td>\n",
              "      <td>1</td>\n",
              "      <td>1</td>\n",
              "      <td>1</td>\n",
              "      <td>1</td>\n",
              "      <td>1</td>\n",
              "      <td>1</td>\n",
              "    </tr>\n",
              "    <tr>\n",
              "      <th>2240</th>\n",
              "      <td>0</td>\n",
              "      <td>0</td>\n",
              "      <td>0</td>\n",
              "      <td>0</td>\n",
              "      <td>0</td>\n",
              "      <td>0</td>\n",
              "      <td>0</td>\n",
              "      <td>0</td>\n",
              "    </tr>\n",
              "  </tbody>\n",
              "</table>\n",
              "</div>\n",
              "      <button class=\"colab-df-convert\" onclick=\"convertToInteractive('df-5905e4cd-12ad-408c-8c1d-8afbf85c4ac7')\"\n",
              "              title=\"Convert this dataframe to an interactive table.\"\n",
              "              style=\"display:none;\">\n",
              "        \n",
              "  <svg xmlns=\"http://www.w3.org/2000/svg\" height=\"24px\"viewBox=\"0 0 24 24\"\n",
              "       width=\"24px\">\n",
              "    <path d=\"M0 0h24v24H0V0z\" fill=\"none\"/>\n",
              "    <path d=\"M18.56 5.44l.94 2.06.94-2.06 2.06-.94-2.06-.94-.94-2.06-.94 2.06-2.06.94zm-11 1L8.5 8.5l.94-2.06 2.06-.94-2.06-.94L8.5 2.5l-.94 2.06-2.06.94zm10 10l.94 2.06.94-2.06 2.06-.94-2.06-.94-.94-2.06-.94 2.06-2.06.94z\"/><path d=\"M17.41 7.96l-1.37-1.37c-.4-.4-.92-.59-1.43-.59-.52 0-1.04.2-1.43.59L10.3 9.45l-7.72 7.72c-.78.78-.78 2.05 0 2.83L4 21.41c.39.39.9.59 1.41.59.51 0 1.02-.2 1.41-.59l7.78-7.78 2.81-2.81c.8-.78.8-2.07 0-2.86zM5.41 20L4 18.59l7.72-7.72 1.47 1.35L5.41 20z\"/>\n",
              "  </svg>\n",
              "      </button>\n",
              "      \n",
              "  <style>\n",
              "    .colab-df-container {\n",
              "      display:flex;\n",
              "      flex-wrap:wrap;\n",
              "      gap: 12px;\n",
              "    }\n",
              "\n",
              "    .colab-df-convert {\n",
              "      background-color: #E8F0FE;\n",
              "      border: none;\n",
              "      border-radius: 50%;\n",
              "      cursor: pointer;\n",
              "      display: none;\n",
              "      fill: #1967D2;\n",
              "      height: 32px;\n",
              "      padding: 0 0 0 0;\n",
              "      width: 32px;\n",
              "    }\n",
              "\n",
              "    .colab-df-convert:hover {\n",
              "      background-color: #E2EBFA;\n",
              "      box-shadow: 0px 1px 2px rgba(60, 64, 67, 0.3), 0px 1px 3px 1px rgba(60, 64, 67, 0.15);\n",
              "      fill: #174EA6;\n",
              "    }\n",
              "\n",
              "    [theme=dark] .colab-df-convert {\n",
              "      background-color: #3B4455;\n",
              "      fill: #D2E3FC;\n",
              "    }\n",
              "\n",
              "    [theme=dark] .colab-df-convert:hover {\n",
              "      background-color: #434B5C;\n",
              "      box-shadow: 0px 1px 3px 1px rgba(0, 0, 0, 0.15);\n",
              "      filter: drop-shadow(0px 1px 2px rgba(0, 0, 0, 0.3));\n",
              "      fill: #FFFFFF;\n",
              "    }\n",
              "  </style>\n",
              "\n",
              "      <script>\n",
              "        const buttonEl =\n",
              "          document.querySelector('#df-5905e4cd-12ad-408c-8c1d-8afbf85c4ac7 button.colab-df-convert');\n",
              "        buttonEl.style.display =\n",
              "          google.colab.kernel.accessAllowed ? 'block' : 'none';\n",
              "\n",
              "        async function convertToInteractive(key) {\n",
              "          const element = document.querySelector('#df-5905e4cd-12ad-408c-8c1d-8afbf85c4ac7');\n",
              "          const dataTable =\n",
              "            await google.colab.kernel.invokeFunction('convertToInteractive',\n",
              "                                                     [key], {});\n",
              "          if (!dataTable) return;\n",
              "\n",
              "          const docLinkHtml = 'Like what you see? Visit the ' +\n",
              "            '<a target=\"_blank\" href=https://colab.research.google.com/notebooks/data_table.ipynb>data table notebook</a>'\n",
              "            + ' to learn more about interactive tables.';\n",
              "          element.innerHTML = '';\n",
              "          dataTable['output_type'] = 'display_data';\n",
              "          await google.colab.output.renderOutput(dataTable, element);\n",
              "          const docLink = document.createElement('div');\n",
              "          docLink.innerHTML = docLinkHtml;\n",
              "          element.appendChild(docLink);\n",
              "        }\n",
              "      </script>\n",
              "    </div>\n",
              "  </div>\n",
              "  "
            ]
          },
          "metadata": {},
          "execution_count": 164
        }
      ]
    },
    {
      "cell_type": "markdown",
      "source": [
        "# **Conclusion**"
      ],
      "metadata": {
        "id": "u89mP02UOwdP"
      }
    },
    {
      "cell_type": "markdown",
      "source": [
        "Based on our analysis, we can conclude that the Logistic Regression is best-suited for this work."
      ],
      "metadata": {
        "id": "pNt2SXQmOzm9"
      }
    }
  ]
}